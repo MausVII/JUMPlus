{
 "cells": [
  {
   "cell_type": "code",
   "execution_count": 38,
   "metadata": {},
   "outputs": [],
   "source": [
    "import pandas as pd\n",
    "import numpy as np\n",
    "from plotly import express as px\n",
    "from sklearn.model_selection import train_test_split\n",
    "from sklearn.linear_model import LinearRegression, LogisticRegression\n",
    "from sklearn.metrics import mean_squared_error"
   ]
  },
  {
   "cell_type": "code",
   "execution_count": 39,
   "metadata": {},
   "outputs": [],
   "source": [
    "import warnings\n",
    "warnings.filterwarnings('ignore')"
   ]
  },
  {
   "cell_type": "code",
   "execution_count": 40,
   "metadata": {},
   "outputs": [
    {
     "data": {
      "text/plain": [
       "Index(['Id', 'SepalLengthCm', 'SepalWidthCm', 'PetalLengthCm', 'PetalWidthCm',\n",
       "       'Species'],\n",
       "      dtype='object')"
      ]
     },
     "execution_count": 40,
     "metadata": {},
     "output_type": "execute_result"
    }
   ],
   "source": [
    "df = pd.read_csv('Iris.csv')\n",
    "df.columns"
   ]
  },
  {
   "attachments": {},
   "cell_type": "markdown",
   "metadata": {},
   "source": [
    "## Model 1"
   ]
  },
  {
   "cell_type": "code",
   "execution_count": 41,
   "metadata": {},
   "outputs": [
    {
     "name": "stdout",
     "output_type": "stream",
     "text": [
      "     SepalWidthCm\n",
      "142           2.7\n",
      "16            3.9\n",
      "84            3.0\n",
      "72            2.5\n",
      "59            2.7\n",
      "     SepalWidthCm\n",
      "13            3.0\n",
      "91            3.0\n",
      "23            3.3\n",
      "87            2.3\n",
      "120           3.2\n",
      "142    5.8\n",
      "16     5.4\n",
      "84     5.4\n",
      "72     6.3\n",
      "59     5.2\n",
      "Name: SepalLengthCm, dtype: float64\n",
      "13     4.3\n",
      "91     6.1\n",
      "23     5.1\n",
      "87     6.3\n",
      "120    6.9\n",
      "Name: SepalLengthCm, dtype: float64\n"
     ]
    }
   ],
   "source": [
    "y = df['SepalLengthCm']\n",
    "x = df[['SepalWidthCm']]\n",
    "\n",
    "x_train, x_test, y_train, y_test = train_test_split(x, y, test_size=0.30)\n",
    "print(x_train.head(5))\n",
    "print(x_test.head(5))\n",
    "print(y_train.head(5))\n",
    "print(y_test.head(5))"
   ]
  },
  {
   "cell_type": "code",
   "execution_count": 42,
   "metadata": {},
   "outputs": [],
   "source": [
    "lr = LinearRegression().fit(x_train, y_train)"
   ]
  },
  {
   "cell_type": "code",
   "execution_count": 43,
   "metadata": {},
   "outputs": [],
   "source": [
    "y_pred = lr.predict(x_test)"
   ]
  },
  {
   "cell_type": "code",
   "execution_count": 44,
   "metadata": {},
   "outputs": [
    {
     "name": "stdout",
     "output_type": "stream",
     "text": [
      "Pred-Real\n",
      "5.9-4.3\n",
      "5.9-6.1\n",
      "5.8-5.1\n",
      "6.0-6.3\n",
      "5.8-6.9\n"
     ]
    }
   ],
   "source": [
    "print(\"Pred-Real\")\n",
    "for pred, real in zip([np.round(y, 1) for y in y_pred[:5]], y_test[:5]):\n",
    "    print(F\"{pred}-{real}\")"
   ]
  },
  {
   "cell_type": "code",
   "execution_count": 45,
   "metadata": {},
   "outputs": [
    {
     "data": {
      "text/plain": [
       "0.6556411229253234"
      ]
     },
     "execution_count": 45,
     "metadata": {},
     "output_type": "execute_result"
    }
   ],
   "source": [
    "mean_squared_error(y_pred=y_pred, y_true=y_test)"
   ]
  },
  {
   "attachments": {},
   "cell_type": "markdown",
   "metadata": {},
   "source": [
    "## Model 2"
   ]
  },
  {
   "cell_type": "code",
   "execution_count": 46,
   "metadata": {},
   "outputs": [],
   "source": [
    "y = df['SepalLengthCm']\n",
    "x = df[['SepalWidthCm', 'PetalLengthCm', 'PetalWidthCm']]"
   ]
  },
  {
   "cell_type": "code",
   "execution_count": 47,
   "metadata": {},
   "outputs": [],
   "source": [
    "x_train, x_test, y_train, y_test = train_test_split(x, y, test_size=0.30)"
   ]
  },
  {
   "cell_type": "code",
   "execution_count": 48,
   "metadata": {},
   "outputs": [],
   "source": [
    "lr = LinearRegression().fit(x_train, y_train)"
   ]
  },
  {
   "cell_type": "code",
   "execution_count": 49,
   "metadata": {},
   "outputs": [],
   "source": [
    "y_pred = lr.predict(x_test)"
   ]
  },
  {
   "cell_type": "code",
   "execution_count": 50,
   "metadata": {},
   "outputs": [
    {
     "data": {
      "text/plain": [
       "0.07561400421305292"
      ]
     },
     "execution_count": 50,
     "metadata": {},
     "output_type": "execute_result"
    }
   ],
   "source": [
    "mean_squared_error(y_pred=y_pred, y_true=y_test)"
   ]
  },
  {
   "attachments": {},
   "cell_type": "markdown",
   "metadata": {},
   "source": [
    "## Bonus - Categorize species by petal/sepal characteristics"
   ]
  },
  {
   "cell_type": "code",
   "execution_count": 58,
   "metadata": {},
   "outputs": [],
   "source": [
    "y = df['Species']\n",
    "x = df[['SepalWidthCm', 'PetalLengthCm', 'PetalWidthCm', 'PetalLengthCm']]\n",
    "x_train, x_test, y_train, y_test = train_test_split(x, y, test_size=0.30)"
   ]
  },
  {
   "cell_type": "code",
   "execution_count": 59,
   "metadata": {},
   "outputs": [],
   "source": [
    "# Train model to find species using sepal width and length, and petal width and length\n",
    "log_reg = LogisticRegression().fit(x_train, y_train)"
   ]
  },
  {
   "cell_type": "code",
   "execution_count": 60,
   "metadata": {},
   "outputs": [],
   "source": [
    "predictions = log_reg.predict(x_test)"
   ]
  },
  {
   "cell_type": "code",
   "execution_count": 61,
   "metadata": {},
   "outputs": [
    {
     "name": "stdout",
     "output_type": "stream",
     "text": [
      "Predictions\t\t-\tReal\n",
      "Iris-versicolor\t\t-\tIris-versicolor\n",
      "Iris-setosa\t\t-\tIris-setosa\n",
      "Iris-virginica\t\t-\tIris-virginica\n",
      "Iris-setosa\t\t-\tIris-setosa\n",
      "Iris-virginica\t\t-\tIris-virginica\n",
      "Iris-versicolor\t\t-\tIris-versicolor\n",
      "Iris-virginica\t\t-\tIris-virginica\n",
      "Iris-virginica\t\t-\tIris-versicolor\n",
      "Iris-setosa\t\t-\tIris-setosa\n",
      "Iris-setosa\t\t-\tIris-setosa\n"
     ]
    }
   ],
   "source": [
    "print(F\"Predictions\\t\\t-\\tReal\")\n",
    "for pred, real in zip(predictions[:10], y_test[:10]):\n",
    "    print(F\"{pred}\\t\\t-\\t{real}\")"
   ]
  },
  {
   "cell_type": "code",
   "execution_count": 62,
   "metadata": {},
   "outputs": [
    {
     "data": {
      "text/plain": [
       "array(['Iris-setosa', 'Iris-versicolor', 'Iris-virginica'], dtype=object)"
      ]
     },
     "execution_count": 62,
     "metadata": {},
     "output_type": "execute_result"
    }
   ],
   "source": [
    "df['Species'].unique()"
   ]
  },
  {
   "cell_type": "code",
   "execution_count": 63,
   "metadata": {},
   "outputs": [
    {
     "data": {
      "text/plain": [
       "0.022222222222222223"
      ]
     },
     "execution_count": 63,
     "metadata": {},
     "output_type": "execute_result"
    }
   ],
   "source": [
    "# Normalize species into 1, 2, 3 values to find mean_squared_error\n",
    "from enum import Enum\n",
    "species = Enum('Species', ['Iris-setosa', 'Iris-versicolor', 'Iris-virginica'])\n",
    "y_pred_norm = [species[x].value for x in predictions]\n",
    "y_real_norm = [species[x].value for x in y_test]\n",
    "mean_squared_error(y_pred=y_pred_norm, y_true=y_real_norm)"
   ]
  },
  {
   "cell_type": "code",
   "execution_count": 67,
   "metadata": {},
   "outputs": [
    {
     "data": {
      "text/plain": [
       "[('Iris-virginica', 'Iris-versicolor')]"
      ]
     },
     "execution_count": 67,
     "metadata": {},
     "output_type": "execute_result"
    }
   ],
   "source": [
    "# Verify actual mismatches\n",
    "non_matches = [(x, y) for x, y in zip(predictions, y_test) if x != y]\n",
    "non_matches"
   ]
  }
 ],
 "metadata": {
  "kernelspec": {
   "display_name": "Python 3",
   "language": "python",
   "name": "python3"
  },
  "language_info": {
   "codemirror_mode": {
    "name": "ipython",
    "version": 3
   },
   "file_extension": ".py",
   "mimetype": "text/x-python",
   "name": "python",
   "nbconvert_exporter": "python",
   "pygments_lexer": "ipython3",
   "version": "3.10.6"
  },
  "orig_nbformat": 4
 },
 "nbformat": 4,
 "nbformat_minor": 2
}
