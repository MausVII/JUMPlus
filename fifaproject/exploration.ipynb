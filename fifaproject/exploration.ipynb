{
 "cells": [
  {
   "cell_type": "code",
   "execution_count": 1,
   "metadata": {},
   "outputs": [],
   "source": [
    "import pandas as pd\n",
    "import plotly.express as px\n",
    "import plotly.graph_objects as go\n",
    "import pycountry"
   ]
  },
  {
   "attachments": {},
   "cell_type": "markdown",
   "metadata": {},
   "source": [
    "## 1. Load the csv file and show top 5 records from it"
   ]
  },
  {
   "cell_type": "code",
   "execution_count": 2,
   "metadata": {},
   "outputs": [
    {
     "data": {
      "text/html": [
       "<div>\n",
       "<style scoped>\n",
       "    .dataframe tbody tr th:only-of-type {\n",
       "        vertical-align: middle;\n",
       "    }\n",
       "\n",
       "    .dataframe tbody tr th {\n",
       "        vertical-align: top;\n",
       "    }\n",
       "\n",
       "    .dataframe thead th {\n",
       "        text-align: right;\n",
       "    }\n",
       "</style>\n",
       "<table border=\"1\" class=\"dataframe\">\n",
       "  <thead>\n",
       "    <tr style=\"text-align: right;\">\n",
       "      <th></th>\n",
       "      <th>sofifa_id</th>\n",
       "      <th>player_url</th>\n",
       "      <th>short_name</th>\n",
       "      <th>long_name</th>\n",
       "      <th>age</th>\n",
       "      <th>dob</th>\n",
       "      <th>height_cm</th>\n",
       "      <th>weight_kg</th>\n",
       "      <th>nationality</th>\n",
       "      <th>club</th>\n",
       "      <th>...</th>\n",
       "      <th>lwb</th>\n",
       "      <th>ldm</th>\n",
       "      <th>cdm</th>\n",
       "      <th>rdm</th>\n",
       "      <th>rwb</th>\n",
       "      <th>lb</th>\n",
       "      <th>lcb</th>\n",
       "      <th>cb</th>\n",
       "      <th>rcb</th>\n",
       "      <th>rb</th>\n",
       "    </tr>\n",
       "  </thead>\n",
       "  <tbody>\n",
       "    <tr>\n",
       "      <th>0</th>\n",
       "      <td>158023</td>\n",
       "      <td>https://sofifa.com/player/158023/lionel-messi/...</td>\n",
       "      <td>L. Messi</td>\n",
       "      <td>Lionel Andrés Messi Cuccittini</td>\n",
       "      <td>32</td>\n",
       "      <td>1987-06-24</td>\n",
       "      <td>170</td>\n",
       "      <td>72</td>\n",
       "      <td>Argentina</td>\n",
       "      <td>FC Barcelona</td>\n",
       "      <td>...</td>\n",
       "      <td>68+2</td>\n",
       "      <td>66+2</td>\n",
       "      <td>66+2</td>\n",
       "      <td>66+2</td>\n",
       "      <td>68+2</td>\n",
       "      <td>63+2</td>\n",
       "      <td>52+2</td>\n",
       "      <td>52+2</td>\n",
       "      <td>52+2</td>\n",
       "      <td>63+2</td>\n",
       "    </tr>\n",
       "    <tr>\n",
       "      <th>1</th>\n",
       "      <td>20801</td>\n",
       "      <td>https://sofifa.com/player/20801/c-ronaldo-dos-...</td>\n",
       "      <td>Cristiano Ronaldo</td>\n",
       "      <td>Cristiano Ronaldo dos Santos Aveiro</td>\n",
       "      <td>34</td>\n",
       "      <td>1985-02-05</td>\n",
       "      <td>187</td>\n",
       "      <td>83</td>\n",
       "      <td>Portugal</td>\n",
       "      <td>Juventus</td>\n",
       "      <td>...</td>\n",
       "      <td>65+3</td>\n",
       "      <td>61+3</td>\n",
       "      <td>61+3</td>\n",
       "      <td>61+3</td>\n",
       "      <td>65+3</td>\n",
       "      <td>61+3</td>\n",
       "      <td>53+3</td>\n",
       "      <td>53+3</td>\n",
       "      <td>53+3</td>\n",
       "      <td>61+3</td>\n",
       "    </tr>\n",
       "    <tr>\n",
       "      <th>2</th>\n",
       "      <td>190871</td>\n",
       "      <td>https://sofifa.com/player/190871/neymar-da-sil...</td>\n",
       "      <td>Neymar Jr</td>\n",
       "      <td>Neymar da Silva Santos Junior</td>\n",
       "      <td>27</td>\n",
       "      <td>1992-02-05</td>\n",
       "      <td>175</td>\n",
       "      <td>68</td>\n",
       "      <td>Brazil</td>\n",
       "      <td>Paris Saint-Germain</td>\n",
       "      <td>...</td>\n",
       "      <td>66+3</td>\n",
       "      <td>61+3</td>\n",
       "      <td>61+3</td>\n",
       "      <td>61+3</td>\n",
       "      <td>66+3</td>\n",
       "      <td>61+3</td>\n",
       "      <td>46+3</td>\n",
       "      <td>46+3</td>\n",
       "      <td>46+3</td>\n",
       "      <td>61+3</td>\n",
       "    </tr>\n",
       "    <tr>\n",
       "      <th>3</th>\n",
       "      <td>200389</td>\n",
       "      <td>https://sofifa.com/player/200389/jan-oblak/20/...</td>\n",
       "      <td>J. Oblak</td>\n",
       "      <td>Jan Oblak</td>\n",
       "      <td>26</td>\n",
       "      <td>1993-01-07</td>\n",
       "      <td>188</td>\n",
       "      <td>87</td>\n",
       "      <td>Slovenia</td>\n",
       "      <td>Atlético Madrid</td>\n",
       "      <td>...</td>\n",
       "      <td>NaN</td>\n",
       "      <td>NaN</td>\n",
       "      <td>NaN</td>\n",
       "      <td>NaN</td>\n",
       "      <td>NaN</td>\n",
       "      <td>NaN</td>\n",
       "      <td>NaN</td>\n",
       "      <td>NaN</td>\n",
       "      <td>NaN</td>\n",
       "      <td>NaN</td>\n",
       "    </tr>\n",
       "    <tr>\n",
       "      <th>4</th>\n",
       "      <td>183277</td>\n",
       "      <td>https://sofifa.com/player/183277/eden-hazard/2...</td>\n",
       "      <td>E. Hazard</td>\n",
       "      <td>Eden Hazard</td>\n",
       "      <td>28</td>\n",
       "      <td>1991-01-07</td>\n",
       "      <td>175</td>\n",
       "      <td>74</td>\n",
       "      <td>Belgium</td>\n",
       "      <td>Real Madrid</td>\n",
       "      <td>...</td>\n",
       "      <td>66+3</td>\n",
       "      <td>63+3</td>\n",
       "      <td>63+3</td>\n",
       "      <td>63+3</td>\n",
       "      <td>66+3</td>\n",
       "      <td>61+3</td>\n",
       "      <td>49+3</td>\n",
       "      <td>49+3</td>\n",
       "      <td>49+3</td>\n",
       "      <td>61+3</td>\n",
       "    </tr>\n",
       "  </tbody>\n",
       "</table>\n",
       "<p>5 rows × 104 columns</p>\n",
       "</div>"
      ],
      "text/plain": [
       "   sofifa_id                                         player_url  \\\n",
       "0     158023  https://sofifa.com/player/158023/lionel-messi/...   \n",
       "1      20801  https://sofifa.com/player/20801/c-ronaldo-dos-...   \n",
       "2     190871  https://sofifa.com/player/190871/neymar-da-sil...   \n",
       "3     200389  https://sofifa.com/player/200389/jan-oblak/20/...   \n",
       "4     183277  https://sofifa.com/player/183277/eden-hazard/2...   \n",
       "\n",
       "          short_name                            long_name  age         dob  \\\n",
       "0           L. Messi       Lionel Andrés Messi Cuccittini   32  1987-06-24   \n",
       "1  Cristiano Ronaldo  Cristiano Ronaldo dos Santos Aveiro   34  1985-02-05   \n",
       "2          Neymar Jr        Neymar da Silva Santos Junior   27  1992-02-05   \n",
       "3           J. Oblak                            Jan Oblak   26  1993-01-07   \n",
       "4          E. Hazard                          Eden Hazard   28  1991-01-07   \n",
       "\n",
       "   height_cm  weight_kg nationality                 club  ...   lwb   ldm  \\\n",
       "0        170         72   Argentina         FC Barcelona  ...  68+2  66+2   \n",
       "1        187         83    Portugal             Juventus  ...  65+3  61+3   \n",
       "2        175         68      Brazil  Paris Saint-Germain  ...  66+3  61+3   \n",
       "3        188         87    Slovenia      Atlético Madrid  ...   NaN   NaN   \n",
       "4        175         74     Belgium          Real Madrid  ...  66+3  63+3   \n",
       "\n",
       "    cdm   rdm   rwb    lb   lcb    cb   rcb    rb  \n",
       "0  66+2  66+2  68+2  63+2  52+2  52+2  52+2  63+2  \n",
       "1  61+3  61+3  65+3  61+3  53+3  53+3  53+3  61+3  \n",
       "2  61+3  61+3  66+3  61+3  46+3  46+3  46+3  61+3  \n",
       "3   NaN   NaN   NaN   NaN   NaN   NaN   NaN   NaN  \n",
       "4  63+3  63+3  66+3  61+3  49+3  49+3  49+3  61+3  \n",
       "\n",
       "[5 rows x 104 columns]"
      ]
     },
     "execution_count": 2,
     "metadata": {},
     "output_type": "execute_result"
    }
   ],
   "source": [
    "df = pd.read_csv('players_20.csv')\n",
    "df.head(5)"
   ]
  },
  {
   "attachments": {},
   "cell_type": "markdown",
   "metadata": {},
   "source": [
    "## 2. See each column's name"
   ]
  },
  {
   "cell_type": "code",
   "execution_count": 3,
   "metadata": {},
   "outputs": [
    {
     "data": {
      "text/plain": [
       "['sofifa_id',\n",
       " 'player_url',\n",
       " 'short_name',\n",
       " 'long_name',\n",
       " 'age',\n",
       " 'dob',\n",
       " 'height_cm',\n",
       " 'weight_kg',\n",
       " 'nationality',\n",
       " 'club',\n",
       " 'overall',\n",
       " 'potential',\n",
       " 'value_eur',\n",
       " 'wage_eur',\n",
       " 'player_positions',\n",
       " 'preferred_foot',\n",
       " 'international_reputation',\n",
       " 'weak_foot',\n",
       " 'skill_moves',\n",
       " 'work_rate',\n",
       " 'body_type',\n",
       " 'real_face',\n",
       " 'release_clause_eur',\n",
       " 'player_tags',\n",
       " 'team_position',\n",
       " 'team_jersey_number',\n",
       " 'loaned_from',\n",
       " 'joined',\n",
       " 'contract_valid_until',\n",
       " 'nation_position',\n",
       " 'nation_jersey_number',\n",
       " 'pace',\n",
       " 'shooting',\n",
       " 'passing',\n",
       " 'dribbling',\n",
       " 'defending',\n",
       " 'physic',\n",
       " 'gk_diving',\n",
       " 'gk_handling',\n",
       " 'gk_kicking',\n",
       " 'gk_reflexes',\n",
       " 'gk_speed',\n",
       " 'gk_positioning',\n",
       " 'player_traits',\n",
       " 'attacking_crossing',\n",
       " 'attacking_finishing',\n",
       " 'attacking_heading_accuracy',\n",
       " 'attacking_short_passing',\n",
       " 'attacking_volleys',\n",
       " 'skill_dribbling',\n",
       " 'skill_curve',\n",
       " 'skill_fk_accuracy',\n",
       " 'skill_long_passing',\n",
       " 'skill_ball_control',\n",
       " 'movement_acceleration',\n",
       " 'movement_sprint_speed',\n",
       " 'movement_agility',\n",
       " 'movement_reactions',\n",
       " 'movement_balance',\n",
       " 'power_shot_power',\n",
       " 'power_jumping',\n",
       " 'power_stamina',\n",
       " 'power_strength',\n",
       " 'power_long_shots',\n",
       " 'mentality_aggression',\n",
       " 'mentality_interceptions',\n",
       " 'mentality_positioning',\n",
       " 'mentality_vision',\n",
       " 'mentality_penalties',\n",
       " 'mentality_composure',\n",
       " 'defending_marking',\n",
       " 'defending_standing_tackle',\n",
       " 'defending_sliding_tackle',\n",
       " 'goalkeeping_diving',\n",
       " 'goalkeeping_handling',\n",
       " 'goalkeeping_kicking',\n",
       " 'goalkeeping_positioning',\n",
       " 'goalkeeping_reflexes',\n",
       " 'ls',\n",
       " 'st',\n",
       " 'rs',\n",
       " 'lw',\n",
       " 'lf',\n",
       " 'cf',\n",
       " 'rf',\n",
       " 'rw',\n",
       " 'lam',\n",
       " 'cam',\n",
       " 'ram',\n",
       " 'lm',\n",
       " 'lcm',\n",
       " 'cm',\n",
       " 'rcm',\n",
       " 'rm',\n",
       " 'lwb',\n",
       " 'ldm',\n",
       " 'cdm',\n",
       " 'rdm',\n",
       " 'rwb',\n",
       " 'lb',\n",
       " 'lcb',\n",
       " 'cb',\n",
       " 'rcb',\n",
       " 'rb']"
      ]
     },
     "execution_count": 3,
     "metadata": {},
     "output_type": "execute_result"
    }
   ],
   "source": [
    "list(df.columns)"
   ]
  },
  {
   "attachments": {},
   "cell_type": "markdown",
   "metadata": {},
   "source": [
    "## 3. Show number of rows and columns"
   ]
  },
  {
   "cell_type": "code",
   "execution_count": 4,
   "metadata": {},
   "outputs": [
    {
     "data": {
      "text/plain": [
       "(18278, 104)"
      ]
     },
     "execution_count": 4,
     "metadata": {},
     "output_type": "execute_result"
    }
   ],
   "source": [
    "df.shape"
   ]
  },
  {
   "attachments": {},
   "cell_type": "markdown",
   "metadata": {},
   "source": [
    "## 4-5. SHow number of players and their countries"
   ]
  },
  {
   "cell_type": "code",
   "execution_count": 5,
   "metadata": {},
   "outputs": [
    {
     "data": {
      "text/html": [
       "<div>\n",
       "<style scoped>\n",
       "    .dataframe tbody tr th:only-of-type {\n",
       "        vertical-align: middle;\n",
       "    }\n",
       "\n",
       "    .dataframe tbody tr th {\n",
       "        vertical-align: top;\n",
       "    }\n",
       "\n",
       "    .dataframe thead th {\n",
       "        text-align: right;\n",
       "    }\n",
       "</style>\n",
       "<table border=\"1\" class=\"dataframe\">\n",
       "  <thead>\n",
       "    <tr style=\"text-align: right;\">\n",
       "      <th></th>\n",
       "      <th>country</th>\n",
       "      <th>num_players</th>\n",
       "    </tr>\n",
       "  </thead>\n",
       "  <tbody>\n",
       "    <tr>\n",
       "      <th>45</th>\n",
       "      <td>England</td>\n",
       "      <td>1667</td>\n",
       "    </tr>\n",
       "    <tr>\n",
       "      <th>57</th>\n",
       "      <td>Germany</td>\n",
       "      <td>1216</td>\n",
       "    </tr>\n",
       "    <tr>\n",
       "      <th>136</th>\n",
       "      <td>Spain</td>\n",
       "      <td>1035</td>\n",
       "    </tr>\n",
       "    <tr>\n",
       "      <th>53</th>\n",
       "      <td>France</td>\n",
       "      <td>984</td>\n",
       "    </tr>\n",
       "    <tr>\n",
       "      <th>5</th>\n",
       "      <td>Argentina</td>\n",
       "      <td>886</td>\n",
       "    </tr>\n",
       "    <tr>\n",
       "      <th>18</th>\n",
       "      <td>Brazil</td>\n",
       "      <td>824</td>\n",
       "    </tr>\n",
       "    <tr>\n",
       "      <th>77</th>\n",
       "      <td>Italy</td>\n",
       "      <td>732</td>\n",
       "    </tr>\n",
       "    <tr>\n",
       "      <th>30</th>\n",
       "      <td>Colombia</td>\n",
       "      <td>591</td>\n",
       "    </tr>\n",
       "    <tr>\n",
       "      <th>80</th>\n",
       "      <td>Japan</td>\n",
       "      <td>453</td>\n",
       "    </tr>\n",
       "    <tr>\n",
       "      <th>108</th>\n",
       "      <td>Netherlands</td>\n",
       "      <td>416</td>\n",
       "    </tr>\n",
       "  </tbody>\n",
       "</table>\n",
       "</div>"
      ],
      "text/plain": [
       "         country  num_players\n",
       "45       England         1667\n",
       "57       Germany         1216\n",
       "136        Spain         1035\n",
       "53        France          984\n",
       "5      Argentina          886\n",
       "18        Brazil          824\n",
       "77         Italy          732\n",
       "30      Colombia          591\n",
       "80         Japan          453\n",
       "108  Netherlands          416"
      ]
     },
     "execution_count": 5,
     "metadata": {},
     "output_type": "execute_result"
    }
   ],
   "source": [
    "data_5 = df.groupby('nationality')[['sofifa_id', 'nationality']] \\\n",
    ".agg({'sofifa_id': 'count'}) \\\n",
    ".reset_index() \\\n",
    ".rename(columns={'nationality': 'country', 'sofifa_id': 'num_players'}) \\\n",
    ".sort_values('num_players', ascending=False) \\\n",
    ".head(10)\n",
    "\n",
    "data_5"
   ]
  },
  {
   "attachments": {},
   "cell_type": "markdown",
   "metadata": {},
   "source": [
    "## 6. Create a bar plot of top 5 countries and their number of players, in green"
   ]
  },
  {
   "cell_type": "code",
   "execution_count": 6,
   "metadata": {},
   "outputs": [
    {
     "data": {
      "application/vnd.plotly.v1+json": {
       "config": {
        "plotlyServerURL": "https://plot.ly"
       },
       "data": [
        {
         "alignmentgroup": "True",
         "hovertemplate": "country=%{x}<br>num_players=%{y}<extra></extra>",
         "legendgroup": "",
         "marker": {
          "color": "green",
          "pattern": {
           "shape": ""
          }
         },
         "name": "",
         "offsetgroup": "",
         "orientation": "v",
         "showlegend": false,
         "textposition": "auto",
         "type": "bar",
         "x": [
          "England",
          "Germany",
          "Spain",
          "France",
          "Argentina",
          "Brazil",
          "Italy",
          "Colombia",
          "Japan",
          "Netherlands"
         ],
         "xaxis": "x",
         "y": [
          1667,
          1216,
          1035,
          984,
          886,
          824,
          732,
          591,
          453,
          416
         ],
         "yaxis": "y"
        }
       ],
       "layout": {
        "barmode": "relative",
        "legend": {
         "tracegroupgap": 0
        },
        "margin": {
         "t": 60
        },
        "template": {
         "data": {
          "bar": [
           {
            "error_x": {
             "color": "#2a3f5f"
            },
            "error_y": {
             "color": "#2a3f5f"
            },
            "marker": {
             "line": {
              "color": "#E5ECF6",
              "width": 0.5
             },
             "pattern": {
              "fillmode": "overlay",
              "size": 10,
              "solidity": 0.2
             }
            },
            "type": "bar"
           }
          ],
          "barpolar": [
           {
            "marker": {
             "line": {
              "color": "#E5ECF6",
              "width": 0.5
             },
             "pattern": {
              "fillmode": "overlay",
              "size": 10,
              "solidity": 0.2
             }
            },
            "type": "barpolar"
           }
          ],
          "carpet": [
           {
            "aaxis": {
             "endlinecolor": "#2a3f5f",
             "gridcolor": "white",
             "linecolor": "white",
             "minorgridcolor": "white",
             "startlinecolor": "#2a3f5f"
            },
            "baxis": {
             "endlinecolor": "#2a3f5f",
             "gridcolor": "white",
             "linecolor": "white",
             "minorgridcolor": "white",
             "startlinecolor": "#2a3f5f"
            },
            "type": "carpet"
           }
          ],
          "choropleth": [
           {
            "colorbar": {
             "outlinewidth": 0,
             "ticks": ""
            },
            "type": "choropleth"
           }
          ],
          "contour": [
           {
            "colorbar": {
             "outlinewidth": 0,
             "ticks": ""
            },
            "colorscale": [
             [
              0,
              "#0d0887"
             ],
             [
              0.1111111111111111,
              "#46039f"
             ],
             [
              0.2222222222222222,
              "#7201a8"
             ],
             [
              0.3333333333333333,
              "#9c179e"
             ],
             [
              0.4444444444444444,
              "#bd3786"
             ],
             [
              0.5555555555555556,
              "#d8576b"
             ],
             [
              0.6666666666666666,
              "#ed7953"
             ],
             [
              0.7777777777777778,
              "#fb9f3a"
             ],
             [
              0.8888888888888888,
              "#fdca26"
             ],
             [
              1,
              "#f0f921"
             ]
            ],
            "type": "contour"
           }
          ],
          "contourcarpet": [
           {
            "colorbar": {
             "outlinewidth": 0,
             "ticks": ""
            },
            "type": "contourcarpet"
           }
          ],
          "heatmap": [
           {
            "colorbar": {
             "outlinewidth": 0,
             "ticks": ""
            },
            "colorscale": [
             [
              0,
              "#0d0887"
             ],
             [
              0.1111111111111111,
              "#46039f"
             ],
             [
              0.2222222222222222,
              "#7201a8"
             ],
             [
              0.3333333333333333,
              "#9c179e"
             ],
             [
              0.4444444444444444,
              "#bd3786"
             ],
             [
              0.5555555555555556,
              "#d8576b"
             ],
             [
              0.6666666666666666,
              "#ed7953"
             ],
             [
              0.7777777777777778,
              "#fb9f3a"
             ],
             [
              0.8888888888888888,
              "#fdca26"
             ],
             [
              1,
              "#f0f921"
             ]
            ],
            "type": "heatmap"
           }
          ],
          "heatmapgl": [
           {
            "colorbar": {
             "outlinewidth": 0,
             "ticks": ""
            },
            "colorscale": [
             [
              0,
              "#0d0887"
             ],
             [
              0.1111111111111111,
              "#46039f"
             ],
             [
              0.2222222222222222,
              "#7201a8"
             ],
             [
              0.3333333333333333,
              "#9c179e"
             ],
             [
              0.4444444444444444,
              "#bd3786"
             ],
             [
              0.5555555555555556,
              "#d8576b"
             ],
             [
              0.6666666666666666,
              "#ed7953"
             ],
             [
              0.7777777777777778,
              "#fb9f3a"
             ],
             [
              0.8888888888888888,
              "#fdca26"
             ],
             [
              1,
              "#f0f921"
             ]
            ],
            "type": "heatmapgl"
           }
          ],
          "histogram": [
           {
            "marker": {
             "pattern": {
              "fillmode": "overlay",
              "size": 10,
              "solidity": 0.2
             }
            },
            "type": "histogram"
           }
          ],
          "histogram2d": [
           {
            "colorbar": {
             "outlinewidth": 0,
             "ticks": ""
            },
            "colorscale": [
             [
              0,
              "#0d0887"
             ],
             [
              0.1111111111111111,
              "#46039f"
             ],
             [
              0.2222222222222222,
              "#7201a8"
             ],
             [
              0.3333333333333333,
              "#9c179e"
             ],
             [
              0.4444444444444444,
              "#bd3786"
             ],
             [
              0.5555555555555556,
              "#d8576b"
             ],
             [
              0.6666666666666666,
              "#ed7953"
             ],
             [
              0.7777777777777778,
              "#fb9f3a"
             ],
             [
              0.8888888888888888,
              "#fdca26"
             ],
             [
              1,
              "#f0f921"
             ]
            ],
            "type": "histogram2d"
           }
          ],
          "histogram2dcontour": [
           {
            "colorbar": {
             "outlinewidth": 0,
             "ticks": ""
            },
            "colorscale": [
             [
              0,
              "#0d0887"
             ],
             [
              0.1111111111111111,
              "#46039f"
             ],
             [
              0.2222222222222222,
              "#7201a8"
             ],
             [
              0.3333333333333333,
              "#9c179e"
             ],
             [
              0.4444444444444444,
              "#bd3786"
             ],
             [
              0.5555555555555556,
              "#d8576b"
             ],
             [
              0.6666666666666666,
              "#ed7953"
             ],
             [
              0.7777777777777778,
              "#fb9f3a"
             ],
             [
              0.8888888888888888,
              "#fdca26"
             ],
             [
              1,
              "#f0f921"
             ]
            ],
            "type": "histogram2dcontour"
           }
          ],
          "mesh3d": [
           {
            "colorbar": {
             "outlinewidth": 0,
             "ticks": ""
            },
            "type": "mesh3d"
           }
          ],
          "parcoords": [
           {
            "line": {
             "colorbar": {
              "outlinewidth": 0,
              "ticks": ""
             }
            },
            "type": "parcoords"
           }
          ],
          "pie": [
           {
            "automargin": true,
            "type": "pie"
           }
          ],
          "scatter": [
           {
            "fillpattern": {
             "fillmode": "overlay",
             "size": 10,
             "solidity": 0.2
            },
            "type": "scatter"
           }
          ],
          "scatter3d": [
           {
            "line": {
             "colorbar": {
              "outlinewidth": 0,
              "ticks": ""
             }
            },
            "marker": {
             "colorbar": {
              "outlinewidth": 0,
              "ticks": ""
             }
            },
            "type": "scatter3d"
           }
          ],
          "scattercarpet": [
           {
            "marker": {
             "colorbar": {
              "outlinewidth": 0,
              "ticks": ""
             }
            },
            "type": "scattercarpet"
           }
          ],
          "scattergeo": [
           {
            "marker": {
             "colorbar": {
              "outlinewidth": 0,
              "ticks": ""
             }
            },
            "type": "scattergeo"
           }
          ],
          "scattergl": [
           {
            "marker": {
             "colorbar": {
              "outlinewidth": 0,
              "ticks": ""
             }
            },
            "type": "scattergl"
           }
          ],
          "scattermapbox": [
           {
            "marker": {
             "colorbar": {
              "outlinewidth": 0,
              "ticks": ""
             }
            },
            "type": "scattermapbox"
           }
          ],
          "scatterpolar": [
           {
            "marker": {
             "colorbar": {
              "outlinewidth": 0,
              "ticks": ""
             }
            },
            "type": "scatterpolar"
           }
          ],
          "scatterpolargl": [
           {
            "marker": {
             "colorbar": {
              "outlinewidth": 0,
              "ticks": ""
             }
            },
            "type": "scatterpolargl"
           }
          ],
          "scatterternary": [
           {
            "marker": {
             "colorbar": {
              "outlinewidth": 0,
              "ticks": ""
             }
            },
            "type": "scatterternary"
           }
          ],
          "surface": [
           {
            "colorbar": {
             "outlinewidth": 0,
             "ticks": ""
            },
            "colorscale": [
             [
              0,
              "#0d0887"
             ],
             [
              0.1111111111111111,
              "#46039f"
             ],
             [
              0.2222222222222222,
              "#7201a8"
             ],
             [
              0.3333333333333333,
              "#9c179e"
             ],
             [
              0.4444444444444444,
              "#bd3786"
             ],
             [
              0.5555555555555556,
              "#d8576b"
             ],
             [
              0.6666666666666666,
              "#ed7953"
             ],
             [
              0.7777777777777778,
              "#fb9f3a"
             ],
             [
              0.8888888888888888,
              "#fdca26"
             ],
             [
              1,
              "#f0f921"
             ]
            ],
            "type": "surface"
           }
          ],
          "table": [
           {
            "cells": {
             "fill": {
              "color": "#EBF0F8"
             },
             "line": {
              "color": "white"
             }
            },
            "header": {
             "fill": {
              "color": "#C8D4E3"
             },
             "line": {
              "color": "white"
             }
            },
            "type": "table"
           }
          ]
         },
         "layout": {
          "annotationdefaults": {
           "arrowcolor": "#2a3f5f",
           "arrowhead": 0,
           "arrowwidth": 1
          },
          "autotypenumbers": "strict",
          "coloraxis": {
           "colorbar": {
            "outlinewidth": 0,
            "ticks": ""
           }
          },
          "colorscale": {
           "diverging": [
            [
             0,
             "#8e0152"
            ],
            [
             0.1,
             "#c51b7d"
            ],
            [
             0.2,
             "#de77ae"
            ],
            [
             0.3,
             "#f1b6da"
            ],
            [
             0.4,
             "#fde0ef"
            ],
            [
             0.5,
             "#f7f7f7"
            ],
            [
             0.6,
             "#e6f5d0"
            ],
            [
             0.7,
             "#b8e186"
            ],
            [
             0.8,
             "#7fbc41"
            ],
            [
             0.9,
             "#4d9221"
            ],
            [
             1,
             "#276419"
            ]
           ],
           "sequential": [
            [
             0,
             "#0d0887"
            ],
            [
             0.1111111111111111,
             "#46039f"
            ],
            [
             0.2222222222222222,
             "#7201a8"
            ],
            [
             0.3333333333333333,
             "#9c179e"
            ],
            [
             0.4444444444444444,
             "#bd3786"
            ],
            [
             0.5555555555555556,
             "#d8576b"
            ],
            [
             0.6666666666666666,
             "#ed7953"
            ],
            [
             0.7777777777777778,
             "#fb9f3a"
            ],
            [
             0.8888888888888888,
             "#fdca26"
            ],
            [
             1,
             "#f0f921"
            ]
           ],
           "sequentialminus": [
            [
             0,
             "#0d0887"
            ],
            [
             0.1111111111111111,
             "#46039f"
            ],
            [
             0.2222222222222222,
             "#7201a8"
            ],
            [
             0.3333333333333333,
             "#9c179e"
            ],
            [
             0.4444444444444444,
             "#bd3786"
            ],
            [
             0.5555555555555556,
             "#d8576b"
            ],
            [
             0.6666666666666666,
             "#ed7953"
            ],
            [
             0.7777777777777778,
             "#fb9f3a"
            ],
            [
             0.8888888888888888,
             "#fdca26"
            ],
            [
             1,
             "#f0f921"
            ]
           ]
          },
          "colorway": [
           "#636efa",
           "#EF553B",
           "#00cc96",
           "#ab63fa",
           "#FFA15A",
           "#19d3f3",
           "#FF6692",
           "#B6E880",
           "#FF97FF",
           "#FECB52"
          ],
          "font": {
           "color": "#2a3f5f"
          },
          "geo": {
           "bgcolor": "white",
           "lakecolor": "white",
           "landcolor": "#E5ECF6",
           "showlakes": true,
           "showland": true,
           "subunitcolor": "white"
          },
          "hoverlabel": {
           "align": "left"
          },
          "hovermode": "closest",
          "mapbox": {
           "style": "light"
          },
          "paper_bgcolor": "white",
          "plot_bgcolor": "#E5ECF6",
          "polar": {
           "angularaxis": {
            "gridcolor": "white",
            "linecolor": "white",
            "ticks": ""
           },
           "bgcolor": "#E5ECF6",
           "radialaxis": {
            "gridcolor": "white",
            "linecolor": "white",
            "ticks": ""
           }
          },
          "scene": {
           "xaxis": {
            "backgroundcolor": "#E5ECF6",
            "gridcolor": "white",
            "gridwidth": 2,
            "linecolor": "white",
            "showbackground": true,
            "ticks": "",
            "zerolinecolor": "white"
           },
           "yaxis": {
            "backgroundcolor": "#E5ECF6",
            "gridcolor": "white",
            "gridwidth": 2,
            "linecolor": "white",
            "showbackground": true,
            "ticks": "",
            "zerolinecolor": "white"
           },
           "zaxis": {
            "backgroundcolor": "#E5ECF6",
            "gridcolor": "white",
            "gridwidth": 2,
            "linecolor": "white",
            "showbackground": true,
            "ticks": "",
            "zerolinecolor": "white"
           }
          },
          "shapedefaults": {
           "line": {
            "color": "#2a3f5f"
           }
          },
          "ternary": {
           "aaxis": {
            "gridcolor": "white",
            "linecolor": "white",
            "ticks": ""
           },
           "baxis": {
            "gridcolor": "white",
            "linecolor": "white",
            "ticks": ""
           },
           "bgcolor": "#E5ECF6",
           "caxis": {
            "gridcolor": "white",
            "linecolor": "white",
            "ticks": ""
           }
          },
          "title": {
           "x": 0.05
          },
          "xaxis": {
           "automargin": true,
           "gridcolor": "white",
           "linecolor": "white",
           "ticks": "",
           "title": {
            "standoff": 15
           },
           "zerolinecolor": "white",
           "zerolinewidth": 2
          },
          "yaxis": {
           "automargin": true,
           "gridcolor": "white",
           "linecolor": "white",
           "ticks": "",
           "title": {
            "standoff": 15
           },
           "zerolinecolor": "white",
           "zerolinewidth": 2
          }
         }
        },
        "xaxis": {
         "anchor": "y",
         "domain": [
          0,
          1
         ],
         "title": {
          "text": "country"
         }
        },
        "yaxis": {
         "anchor": "x",
         "domain": [
          0,
          1
         ],
         "title": {
          "text": "num_players"
         }
        }
       }
      }
     },
     "metadata": {},
     "output_type": "display_data"
    }
   ],
   "source": [
    "fig_6 = px.bar(data_5, x='country', y='num_players')\n",
    "fig_6.update_traces(marker_color='green')\n",
    "fig_6.show()"
   ]
  },
  {
   "attachments": {},
   "cell_type": "markdown",
   "metadata": {},
   "source": [
    "## 7. Show top 5 players short name and wages"
   ]
  },
  {
   "cell_type": "code",
   "execution_count": 7,
   "metadata": {},
   "outputs": [
    {
     "data": {
      "text/html": [
       "<div>\n",
       "<style scoped>\n",
       "    .dataframe tbody tr th:only-of-type {\n",
       "        vertical-align: middle;\n",
       "    }\n",
       "\n",
       "    .dataframe tbody tr th {\n",
       "        vertical-align: top;\n",
       "    }\n",
       "\n",
       "    .dataframe thead th {\n",
       "        text-align: right;\n",
       "    }\n",
       "</style>\n",
       "<table border=\"1\" class=\"dataframe\">\n",
       "  <thead>\n",
       "    <tr style=\"text-align: right;\">\n",
       "      <th></th>\n",
       "      <th>short_name</th>\n",
       "      <th>wage_eur</th>\n",
       "    </tr>\n",
       "  </thead>\n",
       "  <tbody>\n",
       "    <tr>\n",
       "      <th>0</th>\n",
       "      <td>L. Messi</td>\n",
       "      <td>565000</td>\n",
       "    </tr>\n",
       "    <tr>\n",
       "      <th>1</th>\n",
       "      <td>Cristiano Ronaldo</td>\n",
       "      <td>405000</td>\n",
       "    </tr>\n",
       "    <tr>\n",
       "      <th>2</th>\n",
       "      <td>Neymar Jr</td>\n",
       "      <td>290000</td>\n",
       "    </tr>\n",
       "    <tr>\n",
       "      <th>3</th>\n",
       "      <td>J. Oblak</td>\n",
       "      <td>125000</td>\n",
       "    </tr>\n",
       "    <tr>\n",
       "      <th>4</th>\n",
       "      <td>E. Hazard</td>\n",
       "      <td>470000</td>\n",
       "    </tr>\n",
       "  </tbody>\n",
       "</table>\n",
       "</div>"
      ],
      "text/plain": [
       "          short_name  wage_eur\n",
       "0           L. Messi    565000\n",
       "1  Cristiano Ronaldo    405000\n",
       "2          Neymar Jr    290000\n",
       "3           J. Oblak    125000\n",
       "4          E. Hazard    470000"
      ]
     },
     "execution_count": 7,
     "metadata": {},
     "output_type": "execute_result"
    }
   ],
   "source": [
    "data_7 = df.sort_values('overall', ascending=False)[['short_name', 'wage_eur']].head(5)\n",
    "data_7"
   ]
  },
  {
   "attachments": {},
   "cell_type": "markdown",
   "metadata": {},
   "source": [
    "## 8. Show top 5 players short name and wages that are getting the highest salaries"
   ]
  },
  {
   "cell_type": "code",
   "execution_count": 8,
   "metadata": {},
   "outputs": [
    {
     "data": {
      "text/html": [
       "<div>\n",
       "<style scoped>\n",
       "    .dataframe tbody tr th:only-of-type {\n",
       "        vertical-align: middle;\n",
       "    }\n",
       "\n",
       "    .dataframe tbody tr th {\n",
       "        vertical-align: top;\n",
       "    }\n",
       "\n",
       "    .dataframe thead th {\n",
       "        text-align: right;\n",
       "    }\n",
       "</style>\n",
       "<table border=\"1\" class=\"dataframe\">\n",
       "  <thead>\n",
       "    <tr style=\"text-align: right;\">\n",
       "      <th></th>\n",
       "      <th>short_name</th>\n",
       "      <th>wage_eur</th>\n",
       "    </tr>\n",
       "  </thead>\n",
       "  <tbody>\n",
       "    <tr>\n",
       "      <th>0</th>\n",
       "      <td>L. Messi</td>\n",
       "      <td>565000</td>\n",
       "    </tr>\n",
       "    <tr>\n",
       "      <th>4</th>\n",
       "      <td>E. Hazard</td>\n",
       "      <td>470000</td>\n",
       "    </tr>\n",
       "    <tr>\n",
       "      <th>1</th>\n",
       "      <td>Cristiano Ronaldo</td>\n",
       "      <td>405000</td>\n",
       "    </tr>\n",
       "    <tr>\n",
       "      <th>5</th>\n",
       "      <td>K. De Bruyne</td>\n",
       "      <td>370000</td>\n",
       "    </tr>\n",
       "    <tr>\n",
       "      <th>22</th>\n",
       "      <td>A. Griezmann</td>\n",
       "      <td>370000</td>\n",
       "    </tr>\n",
       "  </tbody>\n",
       "</table>\n",
       "</div>"
      ],
      "text/plain": [
       "           short_name  wage_eur\n",
       "0            L. Messi    565000\n",
       "4           E. Hazard    470000\n",
       "1   Cristiano Ronaldo    405000\n",
       "5        K. De Bruyne    370000\n",
       "22       A. Griezmann    370000"
      ]
     },
     "execution_count": 8,
     "metadata": {},
     "output_type": "execute_result"
    }
   ],
   "source": [
    "data_8 = df.sort_values('wage_eur', ascending=False)[['short_name', 'wage_eur']].head(5)\n",
    "data_8"
   ]
  },
  {
   "attachments": {},
   "cell_type": "markdown",
   "metadata": {},
   "source": [
    "## 9. Create a bar plot for point 8"
   ]
  },
  {
   "cell_type": "code",
   "execution_count": 9,
   "metadata": {},
   "outputs": [
    {
     "data": {
      "application/vnd.plotly.v1+json": {
       "config": {
        "plotlyServerURL": "https://plot.ly"
       },
       "data": [
        {
         "alignmentgroup": "True",
         "hovertemplate": "short_name=%{x}<br>wage_eur=%{y}<extra></extra>",
         "legendgroup": "",
         "marker": {
          "color": "#636efa",
          "pattern": {
           "shape": ""
          }
         },
         "name": "",
         "offsetgroup": "",
         "orientation": "v",
         "showlegend": false,
         "textposition": "auto",
         "type": "bar",
         "x": [
          "L. Messi",
          "E. Hazard",
          "Cristiano Ronaldo",
          "K. De Bruyne",
          "A. Griezmann"
         ],
         "xaxis": "x",
         "y": [
          565000,
          470000,
          405000,
          370000,
          370000
         ],
         "yaxis": "y"
        }
       ],
       "layout": {
        "barmode": "relative",
        "legend": {
         "tracegroupgap": 0
        },
        "margin": {
         "t": 60
        },
        "template": {
         "data": {
          "bar": [
           {
            "error_x": {
             "color": "#2a3f5f"
            },
            "error_y": {
             "color": "#2a3f5f"
            },
            "marker": {
             "line": {
              "color": "#E5ECF6",
              "width": 0.5
             },
             "pattern": {
              "fillmode": "overlay",
              "size": 10,
              "solidity": 0.2
             }
            },
            "type": "bar"
           }
          ],
          "barpolar": [
           {
            "marker": {
             "line": {
              "color": "#E5ECF6",
              "width": 0.5
             },
             "pattern": {
              "fillmode": "overlay",
              "size": 10,
              "solidity": 0.2
             }
            },
            "type": "barpolar"
           }
          ],
          "carpet": [
           {
            "aaxis": {
             "endlinecolor": "#2a3f5f",
             "gridcolor": "white",
             "linecolor": "white",
             "minorgridcolor": "white",
             "startlinecolor": "#2a3f5f"
            },
            "baxis": {
             "endlinecolor": "#2a3f5f",
             "gridcolor": "white",
             "linecolor": "white",
             "minorgridcolor": "white",
             "startlinecolor": "#2a3f5f"
            },
            "type": "carpet"
           }
          ],
          "choropleth": [
           {
            "colorbar": {
             "outlinewidth": 0,
             "ticks": ""
            },
            "type": "choropleth"
           }
          ],
          "contour": [
           {
            "colorbar": {
             "outlinewidth": 0,
             "ticks": ""
            },
            "colorscale": [
             [
              0,
              "#0d0887"
             ],
             [
              0.1111111111111111,
              "#46039f"
             ],
             [
              0.2222222222222222,
              "#7201a8"
             ],
             [
              0.3333333333333333,
              "#9c179e"
             ],
             [
              0.4444444444444444,
              "#bd3786"
             ],
             [
              0.5555555555555556,
              "#d8576b"
             ],
             [
              0.6666666666666666,
              "#ed7953"
             ],
             [
              0.7777777777777778,
              "#fb9f3a"
             ],
             [
              0.8888888888888888,
              "#fdca26"
             ],
             [
              1,
              "#f0f921"
             ]
            ],
            "type": "contour"
           }
          ],
          "contourcarpet": [
           {
            "colorbar": {
             "outlinewidth": 0,
             "ticks": ""
            },
            "type": "contourcarpet"
           }
          ],
          "heatmap": [
           {
            "colorbar": {
             "outlinewidth": 0,
             "ticks": ""
            },
            "colorscale": [
             [
              0,
              "#0d0887"
             ],
             [
              0.1111111111111111,
              "#46039f"
             ],
             [
              0.2222222222222222,
              "#7201a8"
             ],
             [
              0.3333333333333333,
              "#9c179e"
             ],
             [
              0.4444444444444444,
              "#bd3786"
             ],
             [
              0.5555555555555556,
              "#d8576b"
             ],
             [
              0.6666666666666666,
              "#ed7953"
             ],
             [
              0.7777777777777778,
              "#fb9f3a"
             ],
             [
              0.8888888888888888,
              "#fdca26"
             ],
             [
              1,
              "#f0f921"
             ]
            ],
            "type": "heatmap"
           }
          ],
          "heatmapgl": [
           {
            "colorbar": {
             "outlinewidth": 0,
             "ticks": ""
            },
            "colorscale": [
             [
              0,
              "#0d0887"
             ],
             [
              0.1111111111111111,
              "#46039f"
             ],
             [
              0.2222222222222222,
              "#7201a8"
             ],
             [
              0.3333333333333333,
              "#9c179e"
             ],
             [
              0.4444444444444444,
              "#bd3786"
             ],
             [
              0.5555555555555556,
              "#d8576b"
             ],
             [
              0.6666666666666666,
              "#ed7953"
             ],
             [
              0.7777777777777778,
              "#fb9f3a"
             ],
             [
              0.8888888888888888,
              "#fdca26"
             ],
             [
              1,
              "#f0f921"
             ]
            ],
            "type": "heatmapgl"
           }
          ],
          "histogram": [
           {
            "marker": {
             "pattern": {
              "fillmode": "overlay",
              "size": 10,
              "solidity": 0.2
             }
            },
            "type": "histogram"
           }
          ],
          "histogram2d": [
           {
            "colorbar": {
             "outlinewidth": 0,
             "ticks": ""
            },
            "colorscale": [
             [
              0,
              "#0d0887"
             ],
             [
              0.1111111111111111,
              "#46039f"
             ],
             [
              0.2222222222222222,
              "#7201a8"
             ],
             [
              0.3333333333333333,
              "#9c179e"
             ],
             [
              0.4444444444444444,
              "#bd3786"
             ],
             [
              0.5555555555555556,
              "#d8576b"
             ],
             [
              0.6666666666666666,
              "#ed7953"
             ],
             [
              0.7777777777777778,
              "#fb9f3a"
             ],
             [
              0.8888888888888888,
              "#fdca26"
             ],
             [
              1,
              "#f0f921"
             ]
            ],
            "type": "histogram2d"
           }
          ],
          "histogram2dcontour": [
           {
            "colorbar": {
             "outlinewidth": 0,
             "ticks": ""
            },
            "colorscale": [
             [
              0,
              "#0d0887"
             ],
             [
              0.1111111111111111,
              "#46039f"
             ],
             [
              0.2222222222222222,
              "#7201a8"
             ],
             [
              0.3333333333333333,
              "#9c179e"
             ],
             [
              0.4444444444444444,
              "#bd3786"
             ],
             [
              0.5555555555555556,
              "#d8576b"
             ],
             [
              0.6666666666666666,
              "#ed7953"
             ],
             [
              0.7777777777777778,
              "#fb9f3a"
             ],
             [
              0.8888888888888888,
              "#fdca26"
             ],
             [
              1,
              "#f0f921"
             ]
            ],
            "type": "histogram2dcontour"
           }
          ],
          "mesh3d": [
           {
            "colorbar": {
             "outlinewidth": 0,
             "ticks": ""
            },
            "type": "mesh3d"
           }
          ],
          "parcoords": [
           {
            "line": {
             "colorbar": {
              "outlinewidth": 0,
              "ticks": ""
             }
            },
            "type": "parcoords"
           }
          ],
          "pie": [
           {
            "automargin": true,
            "type": "pie"
           }
          ],
          "scatter": [
           {
            "fillpattern": {
             "fillmode": "overlay",
             "size": 10,
             "solidity": 0.2
            },
            "type": "scatter"
           }
          ],
          "scatter3d": [
           {
            "line": {
             "colorbar": {
              "outlinewidth": 0,
              "ticks": ""
             }
            },
            "marker": {
             "colorbar": {
              "outlinewidth": 0,
              "ticks": ""
             }
            },
            "type": "scatter3d"
           }
          ],
          "scattercarpet": [
           {
            "marker": {
             "colorbar": {
              "outlinewidth": 0,
              "ticks": ""
             }
            },
            "type": "scattercarpet"
           }
          ],
          "scattergeo": [
           {
            "marker": {
             "colorbar": {
              "outlinewidth": 0,
              "ticks": ""
             }
            },
            "type": "scattergeo"
           }
          ],
          "scattergl": [
           {
            "marker": {
             "colorbar": {
              "outlinewidth": 0,
              "ticks": ""
             }
            },
            "type": "scattergl"
           }
          ],
          "scattermapbox": [
           {
            "marker": {
             "colorbar": {
              "outlinewidth": 0,
              "ticks": ""
             }
            },
            "type": "scattermapbox"
           }
          ],
          "scatterpolar": [
           {
            "marker": {
             "colorbar": {
              "outlinewidth": 0,
              "ticks": ""
             }
            },
            "type": "scatterpolar"
           }
          ],
          "scatterpolargl": [
           {
            "marker": {
             "colorbar": {
              "outlinewidth": 0,
              "ticks": ""
             }
            },
            "type": "scatterpolargl"
           }
          ],
          "scatterternary": [
           {
            "marker": {
             "colorbar": {
              "outlinewidth": 0,
              "ticks": ""
             }
            },
            "type": "scatterternary"
           }
          ],
          "surface": [
           {
            "colorbar": {
             "outlinewidth": 0,
             "ticks": ""
            },
            "colorscale": [
             [
              0,
              "#0d0887"
             ],
             [
              0.1111111111111111,
              "#46039f"
             ],
             [
              0.2222222222222222,
              "#7201a8"
             ],
             [
              0.3333333333333333,
              "#9c179e"
             ],
             [
              0.4444444444444444,
              "#bd3786"
             ],
             [
              0.5555555555555556,
              "#d8576b"
             ],
             [
              0.6666666666666666,
              "#ed7953"
             ],
             [
              0.7777777777777778,
              "#fb9f3a"
             ],
             [
              0.8888888888888888,
              "#fdca26"
             ],
             [
              1,
              "#f0f921"
             ]
            ],
            "type": "surface"
           }
          ],
          "table": [
           {
            "cells": {
             "fill": {
              "color": "#EBF0F8"
             },
             "line": {
              "color": "white"
             }
            },
            "header": {
             "fill": {
              "color": "#C8D4E3"
             },
             "line": {
              "color": "white"
             }
            },
            "type": "table"
           }
          ]
         },
         "layout": {
          "annotationdefaults": {
           "arrowcolor": "#2a3f5f",
           "arrowhead": 0,
           "arrowwidth": 1
          },
          "autotypenumbers": "strict",
          "coloraxis": {
           "colorbar": {
            "outlinewidth": 0,
            "ticks": ""
           }
          },
          "colorscale": {
           "diverging": [
            [
             0,
             "#8e0152"
            ],
            [
             0.1,
             "#c51b7d"
            ],
            [
             0.2,
             "#de77ae"
            ],
            [
             0.3,
             "#f1b6da"
            ],
            [
             0.4,
             "#fde0ef"
            ],
            [
             0.5,
             "#f7f7f7"
            ],
            [
             0.6,
             "#e6f5d0"
            ],
            [
             0.7,
             "#b8e186"
            ],
            [
             0.8,
             "#7fbc41"
            ],
            [
             0.9,
             "#4d9221"
            ],
            [
             1,
             "#276419"
            ]
           ],
           "sequential": [
            [
             0,
             "#0d0887"
            ],
            [
             0.1111111111111111,
             "#46039f"
            ],
            [
             0.2222222222222222,
             "#7201a8"
            ],
            [
             0.3333333333333333,
             "#9c179e"
            ],
            [
             0.4444444444444444,
             "#bd3786"
            ],
            [
             0.5555555555555556,
             "#d8576b"
            ],
            [
             0.6666666666666666,
             "#ed7953"
            ],
            [
             0.7777777777777778,
             "#fb9f3a"
            ],
            [
             0.8888888888888888,
             "#fdca26"
            ],
            [
             1,
             "#f0f921"
            ]
           ],
           "sequentialminus": [
            [
             0,
             "#0d0887"
            ],
            [
             0.1111111111111111,
             "#46039f"
            ],
            [
             0.2222222222222222,
             "#7201a8"
            ],
            [
             0.3333333333333333,
             "#9c179e"
            ],
            [
             0.4444444444444444,
             "#bd3786"
            ],
            [
             0.5555555555555556,
             "#d8576b"
            ],
            [
             0.6666666666666666,
             "#ed7953"
            ],
            [
             0.7777777777777778,
             "#fb9f3a"
            ],
            [
             0.8888888888888888,
             "#fdca26"
            ],
            [
             1,
             "#f0f921"
            ]
           ]
          },
          "colorway": [
           "#636efa",
           "#EF553B",
           "#00cc96",
           "#ab63fa",
           "#FFA15A",
           "#19d3f3",
           "#FF6692",
           "#B6E880",
           "#FF97FF",
           "#FECB52"
          ],
          "font": {
           "color": "#2a3f5f"
          },
          "geo": {
           "bgcolor": "white",
           "lakecolor": "white",
           "landcolor": "#E5ECF6",
           "showlakes": true,
           "showland": true,
           "subunitcolor": "white"
          },
          "hoverlabel": {
           "align": "left"
          },
          "hovermode": "closest",
          "mapbox": {
           "style": "light"
          },
          "paper_bgcolor": "white",
          "plot_bgcolor": "#E5ECF6",
          "polar": {
           "angularaxis": {
            "gridcolor": "white",
            "linecolor": "white",
            "ticks": ""
           },
           "bgcolor": "#E5ECF6",
           "radialaxis": {
            "gridcolor": "white",
            "linecolor": "white",
            "ticks": ""
           }
          },
          "scene": {
           "xaxis": {
            "backgroundcolor": "#E5ECF6",
            "gridcolor": "white",
            "gridwidth": 2,
            "linecolor": "white",
            "showbackground": true,
            "ticks": "",
            "zerolinecolor": "white"
           },
           "yaxis": {
            "backgroundcolor": "#E5ECF6",
            "gridcolor": "white",
            "gridwidth": 2,
            "linecolor": "white",
            "showbackground": true,
            "ticks": "",
            "zerolinecolor": "white"
           },
           "zaxis": {
            "backgroundcolor": "#E5ECF6",
            "gridcolor": "white",
            "gridwidth": 2,
            "linecolor": "white",
            "showbackground": true,
            "ticks": "",
            "zerolinecolor": "white"
           }
          },
          "shapedefaults": {
           "line": {
            "color": "#2a3f5f"
           }
          },
          "ternary": {
           "aaxis": {
            "gridcolor": "white",
            "linecolor": "white",
            "ticks": ""
           },
           "baxis": {
            "gridcolor": "white",
            "linecolor": "white",
            "ticks": ""
           },
           "bgcolor": "#E5ECF6",
           "caxis": {
            "gridcolor": "white",
            "linecolor": "white",
            "ticks": ""
           }
          },
          "title": {
           "x": 0.05
          },
          "xaxis": {
           "automargin": true,
           "gridcolor": "white",
           "linecolor": "white",
           "ticks": "",
           "title": {
            "standoff": 15
           },
           "zerolinecolor": "white",
           "zerolinewidth": 2
          },
          "yaxis": {
           "automargin": true,
           "gridcolor": "white",
           "linecolor": "white",
           "ticks": "",
           "title": {
            "standoff": 15
           },
           "zerolinecolor": "white",
           "zerolinewidth": 2
          }
         }
        },
        "xaxis": {
         "anchor": "y",
         "domain": [
          0,
          1
         ],
         "title": {
          "text": "short_name"
         }
        },
        "yaxis": {
         "anchor": "x",
         "domain": [
          0,
          1
         ],
         "title": {
          "text": "wage_eur"
         }
        }
       }
      }
     },
     "metadata": {},
     "output_type": "display_data"
    }
   ],
   "source": [
    "fig_9 = px.bar(data_8, x='short_name', y='wage_eur')\n",
    "fig_9.show()"
   ]
  },
  {
   "attachments": {},
   "cell_type": "markdown",
   "metadata": {},
   "source": [
    "## Show top 10 records of Germany"
   ]
  },
  {
   "cell_type": "code",
   "execution_count": 10,
   "metadata": {},
   "outputs": [
    {
     "data": {
      "text/html": [
       "<div>\n",
       "<style scoped>\n",
       "    .dataframe tbody tr th:only-of-type {\n",
       "        vertical-align: middle;\n",
       "    }\n",
       "\n",
       "    .dataframe tbody tr th {\n",
       "        vertical-align: top;\n",
       "    }\n",
       "\n",
       "    .dataframe thead th {\n",
       "        text-align: right;\n",
       "    }\n",
       "</style>\n",
       "<table border=\"1\" class=\"dataframe\">\n",
       "  <thead>\n",
       "    <tr style=\"text-align: right;\">\n",
       "      <th></th>\n",
       "      <th>sofifa_id</th>\n",
       "      <th>player_url</th>\n",
       "      <th>short_name</th>\n",
       "      <th>long_name</th>\n",
       "      <th>age</th>\n",
       "      <th>dob</th>\n",
       "      <th>height_cm</th>\n",
       "      <th>weight_kg</th>\n",
       "      <th>nationality</th>\n",
       "      <th>club</th>\n",
       "      <th>...</th>\n",
       "      <th>lwb</th>\n",
       "      <th>ldm</th>\n",
       "      <th>cdm</th>\n",
       "      <th>rdm</th>\n",
       "      <th>rwb</th>\n",
       "      <th>lb</th>\n",
       "      <th>lcb</th>\n",
       "      <th>cb</th>\n",
       "      <th>rcb</th>\n",
       "      <th>rb</th>\n",
       "    </tr>\n",
       "  </thead>\n",
       "  <tbody>\n",
       "    <tr>\n",
       "      <th>6</th>\n",
       "      <td>192448</td>\n",
       "      <td>https://sofifa.com/player/192448/marc-andre-te...</td>\n",
       "      <td>M. ter Stegen</td>\n",
       "      <td>Marc-André ter Stegen</td>\n",
       "      <td>27</td>\n",
       "      <td>1992-04-30</td>\n",
       "      <td>187</td>\n",
       "      <td>85</td>\n",
       "      <td>Germany</td>\n",
       "      <td>FC Barcelona</td>\n",
       "      <td>...</td>\n",
       "      <td>NaN</td>\n",
       "      <td>NaN</td>\n",
       "      <td>NaN</td>\n",
       "      <td>NaN</td>\n",
       "      <td>NaN</td>\n",
       "      <td>NaN</td>\n",
       "      <td>NaN</td>\n",
       "      <td>NaN</td>\n",
       "      <td>NaN</td>\n",
       "      <td>NaN</td>\n",
       "    </tr>\n",
       "    <tr>\n",
       "      <th>36</th>\n",
       "      <td>182521</td>\n",
       "      <td>https://sofifa.com/player/182521/toni-kroos/20...</td>\n",
       "      <td>T. Kroos</td>\n",
       "      <td>Toni Kroos</td>\n",
       "      <td>29</td>\n",
       "      <td>1990-01-04</td>\n",
       "      <td>183</td>\n",
       "      <td>76</td>\n",
       "      <td>Germany</td>\n",
       "      <td>Real Madrid</td>\n",
       "      <td>...</td>\n",
       "      <td>75+3</td>\n",
       "      <td>79+3</td>\n",
       "      <td>79+3</td>\n",
       "      <td>79+3</td>\n",
       "      <td>75+3</td>\n",
       "      <td>72+3</td>\n",
       "      <td>69+3</td>\n",
       "      <td>69+3</td>\n",
       "      <td>69+3</td>\n",
       "      <td>72+3</td>\n",
       "    </tr>\n",
       "    <tr>\n",
       "      <th>37</th>\n",
       "      <td>188350</td>\n",
       "      <td>https://sofifa.com/player/188350/marco-reus/20...</td>\n",
       "      <td>M. Reus</td>\n",
       "      <td>Marco Reus</td>\n",
       "      <td>30</td>\n",
       "      <td>1989-05-31</td>\n",
       "      <td>180</td>\n",
       "      <td>71</td>\n",
       "      <td>Germany</td>\n",
       "      <td>Borussia Dortmund</td>\n",
       "      <td>...</td>\n",
       "      <td>69+3</td>\n",
       "      <td>65+3</td>\n",
       "      <td>65+3</td>\n",
       "      <td>65+3</td>\n",
       "      <td>69+3</td>\n",
       "      <td>64+3</td>\n",
       "      <td>55+3</td>\n",
       "      <td>55+3</td>\n",
       "      <td>55+3</td>\n",
       "      <td>64+3</td>\n",
       "    </tr>\n",
       "    <tr>\n",
       "      <th>31</th>\n",
       "      <td>167495</td>\n",
       "      <td>https://sofifa.com/player/167495/manuel-neuer/...</td>\n",
       "      <td>M. Neuer</td>\n",
       "      <td>Manuel Neuer</td>\n",
       "      <td>33</td>\n",
       "      <td>1986-03-27</td>\n",
       "      <td>193</td>\n",
       "      <td>92</td>\n",
       "      <td>Germany</td>\n",
       "      <td>FC Bayern München</td>\n",
       "      <td>...</td>\n",
       "      <td>NaN</td>\n",
       "      <td>NaN</td>\n",
       "      <td>NaN</td>\n",
       "      <td>NaN</td>\n",
       "      <td>NaN</td>\n",
       "      <td>NaN</td>\n",
       "      <td>NaN</td>\n",
       "      <td>NaN</td>\n",
       "      <td>NaN</td>\n",
       "      <td>NaN</td>\n",
       "    </tr>\n",
       "    <tr>\n",
       "      <th>49</th>\n",
       "      <td>178603</td>\n",
       "      <td>https://sofifa.com/player/178603/mats-hummels/...</td>\n",
       "      <td>M. Hummels</td>\n",
       "      <td>Mats  Hummels</td>\n",
       "      <td>30</td>\n",
       "      <td>1988-12-16</td>\n",
       "      <td>191</td>\n",
       "      <td>94</td>\n",
       "      <td>Germany</td>\n",
       "      <td>Borussia Dortmund</td>\n",
       "      <td>...</td>\n",
       "      <td>77+3</td>\n",
       "      <td>83+3</td>\n",
       "      <td>83+3</td>\n",
       "      <td>83+3</td>\n",
       "      <td>77+3</td>\n",
       "      <td>78+3</td>\n",
       "      <td>84+3</td>\n",
       "      <td>84+3</td>\n",
       "      <td>84+3</td>\n",
       "      <td>78+3</td>\n",
       "    </tr>\n",
       "    <tr>\n",
       "      <th>55</th>\n",
       "      <td>222492</td>\n",
       "      <td>https://sofifa.com/player/222492/leroy-sane/20...</td>\n",
       "      <td>L. Sané</td>\n",
       "      <td>Leroy Sané</td>\n",
       "      <td>23</td>\n",
       "      <td>1996-01-11</td>\n",
       "      <td>183</td>\n",
       "      <td>75</td>\n",
       "      <td>Germany</td>\n",
       "      <td>Manchester City</td>\n",
       "      <td>...</td>\n",
       "      <td>65+2</td>\n",
       "      <td>59+2</td>\n",
       "      <td>59+2</td>\n",
       "      <td>59+2</td>\n",
       "      <td>65+2</td>\n",
       "      <td>61+2</td>\n",
       "      <td>52+2</td>\n",
       "      <td>52+2</td>\n",
       "      <td>52+2</td>\n",
       "      <td>61+2</td>\n",
       "    </tr>\n",
       "    <tr>\n",
       "      <th>61</th>\n",
       "      <td>212622</td>\n",
       "      <td>https://sofifa.com/player/212622/joshua-kimmic...</td>\n",
       "      <td>J. Kimmich</td>\n",
       "      <td>Joshua Kimmich</td>\n",
       "      <td>24</td>\n",
       "      <td>1995-02-08</td>\n",
       "      <td>176</td>\n",
       "      <td>73</td>\n",
       "      <td>Germany</td>\n",
       "      <td>FC Bayern München</td>\n",
       "      <td>...</td>\n",
       "      <td>83+3</td>\n",
       "      <td>82+3</td>\n",
       "      <td>82+3</td>\n",
       "      <td>82+3</td>\n",
       "      <td>83+3</td>\n",
       "      <td>81+3</td>\n",
       "      <td>78+3</td>\n",
       "      <td>78+3</td>\n",
       "      <td>78+3</td>\n",
       "      <td>81+3</td>\n",
       "    </tr>\n",
       "    <tr>\n",
       "      <th>70</th>\n",
       "      <td>189596</td>\n",
       "      <td>https://sofifa.com/player/189596/thomas-muller...</td>\n",
       "      <td>T. Müller</td>\n",
       "      <td>Thomas Müller</td>\n",
       "      <td>29</td>\n",
       "      <td>1989-09-13</td>\n",
       "      <td>186</td>\n",
       "      <td>75</td>\n",
       "      <td>Germany</td>\n",
       "      <td>FC Bayern München</td>\n",
       "      <td>...</td>\n",
       "      <td>69+3</td>\n",
       "      <td>68+3</td>\n",
       "      <td>68+3</td>\n",
       "      <td>68+3</td>\n",
       "      <td>69+3</td>\n",
       "      <td>67+3</td>\n",
       "      <td>62+3</td>\n",
       "      <td>62+3</td>\n",
       "      <td>62+3</td>\n",
       "      <td>67+3</td>\n",
       "    </tr>\n",
       "    <tr>\n",
       "      <th>77</th>\n",
       "      <td>212190</td>\n",
       "      <td>https://sofifa.com/player/212190/niklas-sule/2...</td>\n",
       "      <td>N. Süle</td>\n",
       "      <td>Niklas Süle</td>\n",
       "      <td>23</td>\n",
       "      <td>1995-09-03</td>\n",
       "      <td>195</td>\n",
       "      <td>97</td>\n",
       "      <td>Germany</td>\n",
       "      <td>FC Bayern München</td>\n",
       "      <td>...</td>\n",
       "      <td>71+2</td>\n",
       "      <td>77+2</td>\n",
       "      <td>77+2</td>\n",
       "      <td>77+2</td>\n",
       "      <td>71+2</td>\n",
       "      <td>75+2</td>\n",
       "      <td>83+2</td>\n",
       "      <td>83+2</td>\n",
       "      <td>83+2</td>\n",
       "      <td>75+2</td>\n",
       "    </tr>\n",
       "    <tr>\n",
       "      <th>122</th>\n",
       "      <td>192563</td>\n",
       "      <td>https://sofifa.com/player/192563/bernd-leno/20...</td>\n",
       "      <td>B. Leno</td>\n",
       "      <td>Bernd Leno</td>\n",
       "      <td>27</td>\n",
       "      <td>1992-03-04</td>\n",
       "      <td>190</td>\n",
       "      <td>83</td>\n",
       "      <td>Germany</td>\n",
       "      <td>Arsenal</td>\n",
       "      <td>...</td>\n",
       "      <td>NaN</td>\n",
       "      <td>NaN</td>\n",
       "      <td>NaN</td>\n",
       "      <td>NaN</td>\n",
       "      <td>NaN</td>\n",
       "      <td>NaN</td>\n",
       "      <td>NaN</td>\n",
       "      <td>NaN</td>\n",
       "      <td>NaN</td>\n",
       "      <td>NaN</td>\n",
       "    </tr>\n",
       "  </tbody>\n",
       "</table>\n",
       "<p>10 rows × 104 columns</p>\n",
       "</div>"
      ],
      "text/plain": [
       "     sofifa_id                                         player_url  \\\n",
       "6       192448  https://sofifa.com/player/192448/marc-andre-te...   \n",
       "36      182521  https://sofifa.com/player/182521/toni-kroos/20...   \n",
       "37      188350  https://sofifa.com/player/188350/marco-reus/20...   \n",
       "31      167495  https://sofifa.com/player/167495/manuel-neuer/...   \n",
       "49      178603  https://sofifa.com/player/178603/mats-hummels/...   \n",
       "55      222492  https://sofifa.com/player/222492/leroy-sane/20...   \n",
       "61      212622  https://sofifa.com/player/212622/joshua-kimmic...   \n",
       "70      189596  https://sofifa.com/player/189596/thomas-muller...   \n",
       "77      212190  https://sofifa.com/player/212190/niklas-sule/2...   \n",
       "122     192563  https://sofifa.com/player/192563/bernd-leno/20...   \n",
       "\n",
       "        short_name              long_name  age         dob  height_cm  \\\n",
       "6    M. ter Stegen  Marc-André ter Stegen   27  1992-04-30        187   \n",
       "36        T. Kroos             Toni Kroos   29  1990-01-04        183   \n",
       "37         M. Reus             Marco Reus   30  1989-05-31        180   \n",
       "31        M. Neuer           Manuel Neuer   33  1986-03-27        193   \n",
       "49      M. Hummels          Mats  Hummels   30  1988-12-16        191   \n",
       "55         L. Sané             Leroy Sané   23  1996-01-11        183   \n",
       "61      J. Kimmich         Joshua Kimmich   24  1995-02-08        176   \n",
       "70       T. Müller          Thomas Müller   29  1989-09-13        186   \n",
       "77         N. Süle            Niklas Süle   23  1995-09-03        195   \n",
       "122        B. Leno             Bernd Leno   27  1992-03-04        190   \n",
       "\n",
       "     weight_kg nationality               club  ...   lwb   ldm   cdm   rdm  \\\n",
       "6           85     Germany       FC Barcelona  ...   NaN   NaN   NaN   NaN   \n",
       "36          76     Germany        Real Madrid  ...  75+3  79+3  79+3  79+3   \n",
       "37          71     Germany  Borussia Dortmund  ...  69+3  65+3  65+3  65+3   \n",
       "31          92     Germany  FC Bayern München  ...   NaN   NaN   NaN   NaN   \n",
       "49          94     Germany  Borussia Dortmund  ...  77+3  83+3  83+3  83+3   \n",
       "55          75     Germany    Manchester City  ...  65+2  59+2  59+2  59+2   \n",
       "61          73     Germany  FC Bayern München  ...  83+3  82+3  82+3  82+3   \n",
       "70          75     Germany  FC Bayern München  ...  69+3  68+3  68+3  68+3   \n",
       "77          97     Germany  FC Bayern München  ...  71+2  77+2  77+2  77+2   \n",
       "122         83     Germany            Arsenal  ...   NaN   NaN   NaN   NaN   \n",
       "\n",
       "      rwb    lb   lcb    cb   rcb    rb  \n",
       "6     NaN   NaN   NaN   NaN   NaN   NaN  \n",
       "36   75+3  72+3  69+3  69+3  69+3  72+3  \n",
       "37   69+3  64+3  55+3  55+3  55+3  64+3  \n",
       "31    NaN   NaN   NaN   NaN   NaN   NaN  \n",
       "49   77+3  78+3  84+3  84+3  84+3  78+3  \n",
       "55   65+2  61+2  52+2  52+2  52+2  61+2  \n",
       "61   83+3  81+3  78+3  78+3  78+3  81+3  \n",
       "70   69+3  67+3  62+3  62+3  62+3  67+3  \n",
       "77   71+2  75+2  83+2  83+2  83+2  75+2  \n",
       "122   NaN   NaN   NaN   NaN   NaN   NaN  \n",
       "\n",
       "[10 rows x 104 columns]"
      ]
     },
     "execution_count": 10,
     "metadata": {},
     "output_type": "execute_result"
    }
   ],
   "source": [
    "data_10 = df[df['nationality'] == 'Germany'].sort_values('overall', ascending=False).head(10)\n",
    "data_10"
   ]
  },
  {
   "attachments": {},
   "cell_type": "markdown",
   "metadata": {},
   "source": [
    "## 11. Show top 5 records of German players who have maximum height,"
   ]
  },
  {
   "cell_type": "code",
   "execution_count": 11,
   "metadata": {},
   "outputs": [
    {
     "data": {
      "text/html": [
       "<div>\n",
       "<style scoped>\n",
       "    .dataframe tbody tr th:only-of-type {\n",
       "        vertical-align: middle;\n",
       "    }\n",
       "\n",
       "    .dataframe tbody tr th {\n",
       "        vertical-align: top;\n",
       "    }\n",
       "\n",
       "    .dataframe thead th {\n",
       "        text-align: right;\n",
       "    }\n",
       "</style>\n",
       "<table border=\"1\" class=\"dataframe\">\n",
       "  <thead>\n",
       "    <tr style=\"text-align: right;\">\n",
       "      <th></th>\n",
       "      <th>sofifa_id</th>\n",
       "      <th>player_url</th>\n",
       "      <th>short_name</th>\n",
       "      <th>long_name</th>\n",
       "      <th>age</th>\n",
       "      <th>dob</th>\n",
       "      <th>height_cm</th>\n",
       "      <th>weight_kg</th>\n",
       "      <th>nationality</th>\n",
       "      <th>club</th>\n",
       "      <th>...</th>\n",
       "      <th>lwb</th>\n",
       "      <th>ldm</th>\n",
       "      <th>cdm</th>\n",
       "      <th>rdm</th>\n",
       "      <th>rwb</th>\n",
       "      <th>lb</th>\n",
       "      <th>lcb</th>\n",
       "      <th>cb</th>\n",
       "      <th>rcb</th>\n",
       "      <th>rb</th>\n",
       "    </tr>\n",
       "  </thead>\n",
       "  <tbody>\n",
       "    <tr>\n",
       "      <th>8016</th>\n",
       "      <td>236831</td>\n",
       "      <td>https://sofifa.com/player/236831/aaron-seydel/...</td>\n",
       "      <td>A. Seydel</td>\n",
       "      <td>Aaron Seydel</td>\n",
       "      <td>23</td>\n",
       "      <td>1996-02-07</td>\n",
       "      <td>199</td>\n",
       "      <td>90</td>\n",
       "      <td>Germany</td>\n",
       "      <td>1. FSV Mainz 05</td>\n",
       "      <td>...</td>\n",
       "      <td>46+2</td>\n",
       "      <td>43+2</td>\n",
       "      <td>43+2</td>\n",
       "      <td>43+2</td>\n",
       "      <td>46+2</td>\n",
       "      <td>44+2</td>\n",
       "      <td>43+2</td>\n",
       "      <td>43+2</td>\n",
       "      <td>43+2</td>\n",
       "      <td>44+2</td>\n",
       "    </tr>\n",
       "    <tr>\n",
       "      <th>1217</th>\n",
       "      <td>200212</td>\n",
       "      <td>https://sofifa.com/player/200212/michael-esser...</td>\n",
       "      <td>M. Esser</td>\n",
       "      <td>Michael Esser</td>\n",
       "      <td>31</td>\n",
       "      <td>1987-11-22</td>\n",
       "      <td>198</td>\n",
       "      <td>97</td>\n",
       "      <td>Germany</td>\n",
       "      <td>Hannover 96</td>\n",
       "      <td>...</td>\n",
       "      <td>NaN</td>\n",
       "      <td>NaN</td>\n",
       "      <td>NaN</td>\n",
       "      <td>NaN</td>\n",
       "      <td>NaN</td>\n",
       "      <td>NaN</td>\n",
       "      <td>NaN</td>\n",
       "      <td>NaN</td>\n",
       "      <td>NaN</td>\n",
       "      <td>NaN</td>\n",
       "    </tr>\n",
       "    <tr>\n",
       "      <th>1389</th>\n",
       "      <td>199833</td>\n",
       "      <td>https://sofifa.com/player/199833/lars-unnersta...</td>\n",
       "      <td>L. Unnerstall</td>\n",
       "      <td>Lars Unnerstall</td>\n",
       "      <td>28</td>\n",
       "      <td>1990-07-20</td>\n",
       "      <td>198</td>\n",
       "      <td>103</td>\n",
       "      <td>Germany</td>\n",
       "      <td>PSV</td>\n",
       "      <td>...</td>\n",
       "      <td>NaN</td>\n",
       "      <td>NaN</td>\n",
       "      <td>NaN</td>\n",
       "      <td>NaN</td>\n",
       "      <td>NaN</td>\n",
       "      <td>NaN</td>\n",
       "      <td>NaN</td>\n",
       "      <td>NaN</td>\n",
       "      <td>NaN</td>\n",
       "      <td>NaN</td>\n",
       "    </tr>\n",
       "    <tr>\n",
       "      <th>11859</th>\n",
       "      <td>167437</td>\n",
       "      <td>https://sofifa.com/player/167437/dominik-stroh...</td>\n",
       "      <td>D. Stroh-Engel</td>\n",
       "      <td>Dominik Stroh-Engel</td>\n",
       "      <td>33</td>\n",
       "      <td>1985-11-27</td>\n",
       "      <td>197</td>\n",
       "      <td>94</td>\n",
       "      <td>Germany</td>\n",
       "      <td>SpVgg Unterhaching</td>\n",
       "      <td>...</td>\n",
       "      <td>39+2</td>\n",
       "      <td>45+2</td>\n",
       "      <td>45+2</td>\n",
       "      <td>45+2</td>\n",
       "      <td>39+2</td>\n",
       "      <td>39+2</td>\n",
       "      <td>47+2</td>\n",
       "      <td>47+2</td>\n",
       "      <td>47+2</td>\n",
       "      <td>39+2</td>\n",
       "    </tr>\n",
       "    <tr>\n",
       "      <th>13576</th>\n",
       "      <td>239746</td>\n",
       "      <td>https://sofifa.com/player/239746/lukas-watkowi...</td>\n",
       "      <td>L. Watkowiak</td>\n",
       "      <td>Lukas Watkowiak</td>\n",
       "      <td>23</td>\n",
       "      <td>1996-03-06</td>\n",
       "      <td>197</td>\n",
       "      <td>103</td>\n",
       "      <td>Germany</td>\n",
       "      <td>SV Wehen Wiesbaden</td>\n",
       "      <td>...</td>\n",
       "      <td>NaN</td>\n",
       "      <td>NaN</td>\n",
       "      <td>NaN</td>\n",
       "      <td>NaN</td>\n",
       "      <td>NaN</td>\n",
       "      <td>NaN</td>\n",
       "      <td>NaN</td>\n",
       "      <td>NaN</td>\n",
       "      <td>NaN</td>\n",
       "      <td>NaN</td>\n",
       "    </tr>\n",
       "    <tr>\n",
       "      <th>13635</th>\n",
       "      <td>208776</td>\n",
       "      <td>https://sofifa.com/player/208776/florian-strit...</td>\n",
       "      <td>F. Stritzel</td>\n",
       "      <td>Florian Stritzel</td>\n",
       "      <td>25</td>\n",
       "      <td>1994-01-31</td>\n",
       "      <td>197</td>\n",
       "      <td>92</td>\n",
       "      <td>Germany</td>\n",
       "      <td>SV Darmstadt 98</td>\n",
       "      <td>...</td>\n",
       "      <td>NaN</td>\n",
       "      <td>NaN</td>\n",
       "      <td>NaN</td>\n",
       "      <td>NaN</td>\n",
       "      <td>NaN</td>\n",
       "      <td>NaN</td>\n",
       "      <td>NaN</td>\n",
       "      <td>NaN</td>\n",
       "      <td>NaN</td>\n",
       "      <td>NaN</td>\n",
       "    </tr>\n",
       "    <tr>\n",
       "      <th>4449</th>\n",
       "      <td>158657</td>\n",
       "      <td>https://sofifa.com/player/158657/thomas-kessle...</td>\n",
       "      <td>T. Kessler</td>\n",
       "      <td>Thomas Kessler</td>\n",
       "      <td>33</td>\n",
       "      <td>1986-01-20</td>\n",
       "      <td>197</td>\n",
       "      <td>92</td>\n",
       "      <td>Germany</td>\n",
       "      <td>1. FC Köln</td>\n",
       "      <td>...</td>\n",
       "      <td>NaN</td>\n",
       "      <td>NaN</td>\n",
       "      <td>NaN</td>\n",
       "      <td>NaN</td>\n",
       "      <td>NaN</td>\n",
       "      <td>NaN</td>\n",
       "      <td>NaN</td>\n",
       "      <td>NaN</td>\n",
       "      <td>NaN</td>\n",
       "      <td>NaN</td>\n",
       "    </tr>\n",
       "    <tr>\n",
       "      <th>518</th>\n",
       "      <td>179783</td>\n",
       "      <td>https://sofifa.com/player/179783/ralf-fahrmann...</td>\n",
       "      <td>R. Fährmann</td>\n",
       "      <td>Ralf Fährmann</td>\n",
       "      <td>30</td>\n",
       "      <td>1988-09-27</td>\n",
       "      <td>197</td>\n",
       "      <td>98</td>\n",
       "      <td>Germany</td>\n",
       "      <td>Norwich City</td>\n",
       "      <td>...</td>\n",
       "      <td>NaN</td>\n",
       "      <td>NaN</td>\n",
       "      <td>NaN</td>\n",
       "      <td>NaN</td>\n",
       "      <td>NaN</td>\n",
       "      <td>NaN</td>\n",
       "      <td>NaN</td>\n",
       "      <td>NaN</td>\n",
       "      <td>NaN</td>\n",
       "      <td>NaN</td>\n",
       "    </tr>\n",
       "    <tr>\n",
       "      <th>11147</th>\n",
       "      <td>235018</td>\n",
       "      <td>https://sofifa.com/player/235018/moritz-nicola...</td>\n",
       "      <td>M. Nicolas</td>\n",
       "      <td>Moritz Nicolas</td>\n",
       "      <td>21</td>\n",
       "      <td>1997-10-21</td>\n",
       "      <td>197</td>\n",
       "      <td>87</td>\n",
       "      <td>Germany</td>\n",
       "      <td>1. FC Union Berlin</td>\n",
       "      <td>...</td>\n",
       "      <td>NaN</td>\n",
       "      <td>NaN</td>\n",
       "      <td>NaN</td>\n",
       "      <td>NaN</td>\n",
       "      <td>NaN</td>\n",
       "      <td>NaN</td>\n",
       "      <td>NaN</td>\n",
       "      <td>NaN</td>\n",
       "      <td>NaN</td>\n",
       "      <td>NaN</td>\n",
       "    </tr>\n",
       "    <tr>\n",
       "      <th>16184</th>\n",
       "      <td>240218</td>\n",
       "      <td>https://sofifa.com/player/240218/alexander-wei...</td>\n",
       "      <td>A. Weidinger</td>\n",
       "      <td>Alexander Weidinger</td>\n",
       "      <td>22</td>\n",
       "      <td>1997-06-18</td>\n",
       "      <td>197</td>\n",
       "      <td>88</td>\n",
       "      <td>Germany</td>\n",
       "      <td>SSV Jahn Regensburg</td>\n",
       "      <td>...</td>\n",
       "      <td>NaN</td>\n",
       "      <td>NaN</td>\n",
       "      <td>NaN</td>\n",
       "      <td>NaN</td>\n",
       "      <td>NaN</td>\n",
       "      <td>NaN</td>\n",
       "      <td>NaN</td>\n",
       "      <td>NaN</td>\n",
       "      <td>NaN</td>\n",
       "      <td>NaN</td>\n",
       "    </tr>\n",
       "  </tbody>\n",
       "</table>\n",
       "<p>10 rows × 104 columns</p>\n",
       "</div>"
      ],
      "text/plain": [
       "       sofifa_id                                         player_url  \\\n",
       "8016      236831  https://sofifa.com/player/236831/aaron-seydel/...   \n",
       "1217      200212  https://sofifa.com/player/200212/michael-esser...   \n",
       "1389      199833  https://sofifa.com/player/199833/lars-unnersta...   \n",
       "11859     167437  https://sofifa.com/player/167437/dominik-stroh...   \n",
       "13576     239746  https://sofifa.com/player/239746/lukas-watkowi...   \n",
       "13635     208776  https://sofifa.com/player/208776/florian-strit...   \n",
       "4449      158657  https://sofifa.com/player/158657/thomas-kessle...   \n",
       "518       179783  https://sofifa.com/player/179783/ralf-fahrmann...   \n",
       "11147     235018  https://sofifa.com/player/235018/moritz-nicola...   \n",
       "16184     240218  https://sofifa.com/player/240218/alexander-wei...   \n",
       "\n",
       "           short_name            long_name  age         dob  height_cm  \\\n",
       "8016        A. Seydel         Aaron Seydel   23  1996-02-07        199   \n",
       "1217         M. Esser        Michael Esser   31  1987-11-22        198   \n",
       "1389    L. Unnerstall      Lars Unnerstall   28  1990-07-20        198   \n",
       "11859  D. Stroh-Engel  Dominik Stroh-Engel   33  1985-11-27        197   \n",
       "13576    L. Watkowiak      Lukas Watkowiak   23  1996-03-06        197   \n",
       "13635     F. Stritzel     Florian Stritzel   25  1994-01-31        197   \n",
       "4449       T. Kessler       Thomas Kessler   33  1986-01-20        197   \n",
       "518       R. Fährmann        Ralf Fährmann   30  1988-09-27        197   \n",
       "11147      M. Nicolas       Moritz Nicolas   21  1997-10-21        197   \n",
       "16184    A. Weidinger  Alexander Weidinger   22  1997-06-18        197   \n",
       "\n",
       "       weight_kg nationality                  club  ...   lwb   ldm   cdm  \\\n",
       "8016          90     Germany       1. FSV Mainz 05  ...  46+2  43+2  43+2   \n",
       "1217          97     Germany           Hannover 96  ...   NaN   NaN   NaN   \n",
       "1389         103     Germany                   PSV  ...   NaN   NaN   NaN   \n",
       "11859         94     Germany    SpVgg Unterhaching  ...  39+2  45+2  45+2   \n",
       "13576        103     Germany    SV Wehen Wiesbaden  ...   NaN   NaN   NaN   \n",
       "13635         92     Germany       SV Darmstadt 98  ...   NaN   NaN   NaN   \n",
       "4449          92     Germany            1. FC Köln  ...   NaN   NaN   NaN   \n",
       "518           98     Germany          Norwich City  ...   NaN   NaN   NaN   \n",
       "11147         87     Germany    1. FC Union Berlin  ...   NaN   NaN   NaN   \n",
       "16184         88     Germany   SSV Jahn Regensburg  ...   NaN   NaN   NaN   \n",
       "\n",
       "        rdm   rwb    lb   lcb    cb   rcb    rb  \n",
       "8016   43+2  46+2  44+2  43+2  43+2  43+2  44+2  \n",
       "1217    NaN   NaN   NaN   NaN   NaN   NaN   NaN  \n",
       "1389    NaN   NaN   NaN   NaN   NaN   NaN   NaN  \n",
       "11859  45+2  39+2  39+2  47+2  47+2  47+2  39+2  \n",
       "13576   NaN   NaN   NaN   NaN   NaN   NaN   NaN  \n",
       "13635   NaN   NaN   NaN   NaN   NaN   NaN   NaN  \n",
       "4449    NaN   NaN   NaN   NaN   NaN   NaN   NaN  \n",
       "518     NaN   NaN   NaN   NaN   NaN   NaN   NaN  \n",
       "11147   NaN   NaN   NaN   NaN   NaN   NaN   NaN  \n",
       "16184   NaN   NaN   NaN   NaN   NaN   NaN   NaN  \n",
       "\n",
       "[10 rows x 104 columns]"
      ]
     },
     "execution_count": 11,
     "metadata": {},
     "output_type": "execute_result"
    }
   ],
   "source": [
    "df[df['nationality'] == 'Germany'].sort_values('height_cm', ascending=False).head(10)"
   ]
  },
  {
   "attachments": {},
   "cell_type": "markdown",
   "metadata": {},
   "source": [
    "## 11. weight,"
   ]
  },
  {
   "cell_type": "code",
   "execution_count": 12,
   "metadata": {},
   "outputs": [
    {
     "data": {
      "text/html": [
       "<div>\n",
       "<style scoped>\n",
       "    .dataframe tbody tr th:only-of-type {\n",
       "        vertical-align: middle;\n",
       "    }\n",
       "\n",
       "    .dataframe tbody tr th {\n",
       "        vertical-align: top;\n",
       "    }\n",
       "\n",
       "    .dataframe thead th {\n",
       "        text-align: right;\n",
       "    }\n",
       "</style>\n",
       "<table border=\"1\" class=\"dataframe\">\n",
       "  <thead>\n",
       "    <tr style=\"text-align: right;\">\n",
       "      <th></th>\n",
       "      <th>sofifa_id</th>\n",
       "      <th>player_url</th>\n",
       "      <th>short_name</th>\n",
       "      <th>long_name</th>\n",
       "      <th>age</th>\n",
       "      <th>dob</th>\n",
       "      <th>height_cm</th>\n",
       "      <th>weight_kg</th>\n",
       "      <th>nationality</th>\n",
       "      <th>club</th>\n",
       "      <th>...</th>\n",
       "      <th>lwb</th>\n",
       "      <th>ldm</th>\n",
       "      <th>cdm</th>\n",
       "      <th>rdm</th>\n",
       "      <th>rwb</th>\n",
       "      <th>lb</th>\n",
       "      <th>lcb</th>\n",
       "      <th>cb</th>\n",
       "      <th>rcb</th>\n",
       "      <th>rb</th>\n",
       "    </tr>\n",
       "  </thead>\n",
       "  <tbody>\n",
       "    <tr>\n",
       "      <th>13576</th>\n",
       "      <td>239746</td>\n",
       "      <td>https://sofifa.com/player/239746/lukas-watkowi...</td>\n",
       "      <td>L. Watkowiak</td>\n",
       "      <td>Lukas Watkowiak</td>\n",
       "      <td>23</td>\n",
       "      <td>1996-03-06</td>\n",
       "      <td>197</td>\n",
       "      <td>103</td>\n",
       "      <td>Germany</td>\n",
       "      <td>SV Wehen Wiesbaden</td>\n",
       "      <td>...</td>\n",
       "      <td>NaN</td>\n",
       "      <td>NaN</td>\n",
       "      <td>NaN</td>\n",
       "      <td>NaN</td>\n",
       "      <td>NaN</td>\n",
       "      <td>NaN</td>\n",
       "      <td>NaN</td>\n",
       "      <td>NaN</td>\n",
       "      <td>NaN</td>\n",
       "      <td>NaN</td>\n",
       "    </tr>\n",
       "    <tr>\n",
       "      <th>1389</th>\n",
       "      <td>199833</td>\n",
       "      <td>https://sofifa.com/player/199833/lars-unnersta...</td>\n",
       "      <td>L. Unnerstall</td>\n",
       "      <td>Lars Unnerstall</td>\n",
       "      <td>28</td>\n",
       "      <td>1990-07-20</td>\n",
       "      <td>198</td>\n",
       "      <td>103</td>\n",
       "      <td>Germany</td>\n",
       "      <td>PSV</td>\n",
       "      <td>...</td>\n",
       "      <td>NaN</td>\n",
       "      <td>NaN</td>\n",
       "      <td>NaN</td>\n",
       "      <td>NaN</td>\n",
       "      <td>NaN</td>\n",
       "      <td>NaN</td>\n",
       "      <td>NaN</td>\n",
       "      <td>NaN</td>\n",
       "      <td>NaN</td>\n",
       "      <td>NaN</td>\n",
       "    </tr>\n",
       "    <tr>\n",
       "      <th>518</th>\n",
       "      <td>179783</td>\n",
       "      <td>https://sofifa.com/player/179783/ralf-fahrmann...</td>\n",
       "      <td>R. Fährmann</td>\n",
       "      <td>Ralf Fährmann</td>\n",
       "      <td>30</td>\n",
       "      <td>1988-09-27</td>\n",
       "      <td>197</td>\n",
       "      <td>98</td>\n",
       "      <td>Germany</td>\n",
       "      <td>Norwich City</td>\n",
       "      <td>...</td>\n",
       "      <td>NaN</td>\n",
       "      <td>NaN</td>\n",
       "      <td>NaN</td>\n",
       "      <td>NaN</td>\n",
       "      <td>NaN</td>\n",
       "      <td>NaN</td>\n",
       "      <td>NaN</td>\n",
       "      <td>NaN</td>\n",
       "      <td>NaN</td>\n",
       "      <td>NaN</td>\n",
       "    </tr>\n",
       "    <tr>\n",
       "      <th>1217</th>\n",
       "      <td>200212</td>\n",
       "      <td>https://sofifa.com/player/200212/michael-esser...</td>\n",
       "      <td>M. Esser</td>\n",
       "      <td>Michael Esser</td>\n",
       "      <td>31</td>\n",
       "      <td>1987-11-22</td>\n",
       "      <td>198</td>\n",
       "      <td>97</td>\n",
       "      <td>Germany</td>\n",
       "      <td>Hannover 96</td>\n",
       "      <td>...</td>\n",
       "      <td>NaN</td>\n",
       "      <td>NaN</td>\n",
       "      <td>NaN</td>\n",
       "      <td>NaN</td>\n",
       "      <td>NaN</td>\n",
       "      <td>NaN</td>\n",
       "      <td>NaN</td>\n",
       "      <td>NaN</td>\n",
       "      <td>NaN</td>\n",
       "      <td>NaN</td>\n",
       "    </tr>\n",
       "    <tr>\n",
       "      <th>77</th>\n",
       "      <td>212190</td>\n",
       "      <td>https://sofifa.com/player/212190/niklas-sule/2...</td>\n",
       "      <td>N. Süle</td>\n",
       "      <td>Niklas Süle</td>\n",
       "      <td>23</td>\n",
       "      <td>1995-09-03</td>\n",
       "      <td>195</td>\n",
       "      <td>97</td>\n",
       "      <td>Germany</td>\n",
       "      <td>FC Bayern München</td>\n",
       "      <td>...</td>\n",
       "      <td>71+2</td>\n",
       "      <td>77+2</td>\n",
       "      <td>77+2</td>\n",
       "      <td>77+2</td>\n",
       "      <td>71+2</td>\n",
       "      <td>75+2</td>\n",
       "      <td>83+2</td>\n",
       "      <td>83+2</td>\n",
       "      <td>83+2</td>\n",
       "      <td>75+2</td>\n",
       "    </tr>\n",
       "    <tr>\n",
       "      <th>13201</th>\n",
       "      <td>241388</td>\n",
       "      <td>https://sofifa.com/player/241388/dennis-smarsc...</td>\n",
       "      <td>D. Smarsch</td>\n",
       "      <td>Dennis Smarsch</td>\n",
       "      <td>20</td>\n",
       "      <td>1999-01-14</td>\n",
       "      <td>195</td>\n",
       "      <td>97</td>\n",
       "      <td>Germany</td>\n",
       "      <td>Hertha BSC</td>\n",
       "      <td>...</td>\n",
       "      <td>NaN</td>\n",
       "      <td>NaN</td>\n",
       "      <td>NaN</td>\n",
       "      <td>NaN</td>\n",
       "      <td>NaN</td>\n",
       "      <td>NaN</td>\n",
       "      <td>NaN</td>\n",
       "      <td>NaN</td>\n",
       "      <td>NaN</td>\n",
       "      <td>NaN</td>\n",
       "    </tr>\n",
       "    <tr>\n",
       "      <th>165</th>\n",
       "      <td>213331</td>\n",
       "      <td>https://sofifa.com/player/213331/jonathan-tah/...</td>\n",
       "      <td>J. Tah</td>\n",
       "      <td>Jonathan Tah</td>\n",
       "      <td>23</td>\n",
       "      <td>1996-02-11</td>\n",
       "      <td>195</td>\n",
       "      <td>97</td>\n",
       "      <td>Germany</td>\n",
       "      <td>Bayer 04 Leverkusen</td>\n",
       "      <td>...</td>\n",
       "      <td>70+2</td>\n",
       "      <td>76+2</td>\n",
       "      <td>76+2</td>\n",
       "      <td>76+2</td>\n",
       "      <td>70+2</td>\n",
       "      <td>73+2</td>\n",
       "      <td>81+2</td>\n",
       "      <td>81+2</td>\n",
       "      <td>81+2</td>\n",
       "      <td>73+2</td>\n",
       "    </tr>\n",
       "    <tr>\n",
       "      <th>5107</th>\n",
       "      <td>216284</td>\n",
       "      <td>https://sofifa.com/player/216284/florian-balla...</td>\n",
       "      <td>F. Ballas</td>\n",
       "      <td>Florian Ballas</td>\n",
       "      <td>26</td>\n",
       "      <td>1993-01-08</td>\n",
       "      <td>196</td>\n",
       "      <td>96</td>\n",
       "      <td>Germany</td>\n",
       "      <td>SG Dynamo Dresden</td>\n",
       "      <td>...</td>\n",
       "      <td>54+2</td>\n",
       "      <td>62+2</td>\n",
       "      <td>62+2</td>\n",
       "      <td>62+2</td>\n",
       "      <td>54+2</td>\n",
       "      <td>57+2</td>\n",
       "      <td>69+2</td>\n",
       "      <td>69+2</td>\n",
       "      <td>69+2</td>\n",
       "      <td>57+2</td>\n",
       "    </tr>\n",
       "    <tr>\n",
       "      <th>2746</th>\n",
       "      <td>224251</td>\n",
       "      <td>https://sofifa.com/player/224251/robin-zentner...</td>\n",
       "      <td>R. Zentner</td>\n",
       "      <td>Robin Zentner</td>\n",
       "      <td>24</td>\n",
       "      <td>1994-10-28</td>\n",
       "      <td>194</td>\n",
       "      <td>96</td>\n",
       "      <td>Germany</td>\n",
       "      <td>1. FSV Mainz 05</td>\n",
       "      <td>...</td>\n",
       "      <td>NaN</td>\n",
       "      <td>NaN</td>\n",
       "      <td>NaN</td>\n",
       "      <td>NaN</td>\n",
       "      <td>NaN</td>\n",
       "      <td>NaN</td>\n",
       "      <td>NaN</td>\n",
       "      <td>NaN</td>\n",
       "      <td>NaN</td>\n",
       "      <td>NaN</td>\n",
       "    </tr>\n",
       "    <tr>\n",
       "      <th>7574</th>\n",
       "      <td>216377</td>\n",
       "      <td>https://sofifa.com/player/216377/stefan-kutsch...</td>\n",
       "      <td>S. Kutschke</td>\n",
       "      <td>Stefan Kutschke</td>\n",
       "      <td>30</td>\n",
       "      <td>1988-11-03</td>\n",
       "      <td>194</td>\n",
       "      <td>95</td>\n",
       "      <td>Germany</td>\n",
       "      <td>FC Ingolstadt 04</td>\n",
       "      <td>...</td>\n",
       "      <td>44+2</td>\n",
       "      <td>47+2</td>\n",
       "      <td>47+2</td>\n",
       "      <td>47+2</td>\n",
       "      <td>44+2</td>\n",
       "      <td>44+2</td>\n",
       "      <td>50+2</td>\n",
       "      <td>50+2</td>\n",
       "      <td>50+2</td>\n",
       "      <td>44+2</td>\n",
       "    </tr>\n",
       "  </tbody>\n",
       "</table>\n",
       "<p>10 rows × 104 columns</p>\n",
       "</div>"
      ],
      "text/plain": [
       "       sofifa_id                                         player_url  \\\n",
       "13576     239746  https://sofifa.com/player/239746/lukas-watkowi...   \n",
       "1389      199833  https://sofifa.com/player/199833/lars-unnersta...   \n",
       "518       179783  https://sofifa.com/player/179783/ralf-fahrmann...   \n",
       "1217      200212  https://sofifa.com/player/200212/michael-esser...   \n",
       "77        212190  https://sofifa.com/player/212190/niklas-sule/2...   \n",
       "13201     241388  https://sofifa.com/player/241388/dennis-smarsc...   \n",
       "165       213331  https://sofifa.com/player/213331/jonathan-tah/...   \n",
       "5107      216284  https://sofifa.com/player/216284/florian-balla...   \n",
       "2746      224251  https://sofifa.com/player/224251/robin-zentner...   \n",
       "7574      216377  https://sofifa.com/player/216377/stefan-kutsch...   \n",
       "\n",
       "          short_name        long_name  age         dob  height_cm  weight_kg  \\\n",
       "13576   L. Watkowiak  Lukas Watkowiak   23  1996-03-06        197        103   \n",
       "1389   L. Unnerstall  Lars Unnerstall   28  1990-07-20        198        103   \n",
       "518      R. Fährmann    Ralf Fährmann   30  1988-09-27        197         98   \n",
       "1217        M. Esser    Michael Esser   31  1987-11-22        198         97   \n",
       "77           N. Süle      Niklas Süle   23  1995-09-03        195         97   \n",
       "13201     D. Smarsch   Dennis Smarsch   20  1999-01-14        195         97   \n",
       "165           J. Tah     Jonathan Tah   23  1996-02-11        195         97   \n",
       "5107       F. Ballas   Florian Ballas   26  1993-01-08        196         96   \n",
       "2746      R. Zentner    Robin Zentner   24  1994-10-28        194         96   \n",
       "7574     S. Kutschke  Stefan Kutschke   30  1988-11-03        194         95   \n",
       "\n",
       "      nationality                 club  ...   lwb   ldm   cdm   rdm   rwb  \\\n",
       "13576     Germany   SV Wehen Wiesbaden  ...   NaN   NaN   NaN   NaN   NaN   \n",
       "1389      Germany                  PSV  ...   NaN   NaN   NaN   NaN   NaN   \n",
       "518       Germany         Norwich City  ...   NaN   NaN   NaN   NaN   NaN   \n",
       "1217      Germany          Hannover 96  ...   NaN   NaN   NaN   NaN   NaN   \n",
       "77        Germany    FC Bayern München  ...  71+2  77+2  77+2  77+2  71+2   \n",
       "13201     Germany           Hertha BSC  ...   NaN   NaN   NaN   NaN   NaN   \n",
       "165       Germany  Bayer 04 Leverkusen  ...  70+2  76+2  76+2  76+2  70+2   \n",
       "5107      Germany    SG Dynamo Dresden  ...  54+2  62+2  62+2  62+2  54+2   \n",
       "2746      Germany      1. FSV Mainz 05  ...   NaN   NaN   NaN   NaN   NaN   \n",
       "7574      Germany     FC Ingolstadt 04  ...  44+2  47+2  47+2  47+2  44+2   \n",
       "\n",
       "         lb   lcb    cb   rcb    rb  \n",
       "13576   NaN   NaN   NaN   NaN   NaN  \n",
       "1389    NaN   NaN   NaN   NaN   NaN  \n",
       "518     NaN   NaN   NaN   NaN   NaN  \n",
       "1217    NaN   NaN   NaN   NaN   NaN  \n",
       "77     75+2  83+2  83+2  83+2  75+2  \n",
       "13201   NaN   NaN   NaN   NaN   NaN  \n",
       "165    73+2  81+2  81+2  81+2  73+2  \n",
       "5107   57+2  69+2  69+2  69+2  57+2  \n",
       "2746    NaN   NaN   NaN   NaN   NaN  \n",
       "7574   44+2  50+2  50+2  50+2  44+2  \n",
       "\n",
       "[10 rows x 104 columns]"
      ]
     },
     "execution_count": 12,
     "metadata": {},
     "output_type": "execute_result"
    }
   ],
   "source": [
    "df[df['nationality'] == 'Germany'].sort_values('weight_kg', ascending=False).head(10)"
   ]
  },
  {
   "attachments": {},
   "cell_type": "markdown",
   "metadata": {},
   "source": [
    "## 11. and wages"
   ]
  },
  {
   "cell_type": "code",
   "execution_count": 13,
   "metadata": {},
   "outputs": [
    {
     "data": {
      "text/html": [
       "<div>\n",
       "<style scoped>\n",
       "    .dataframe tbody tr th:only-of-type {\n",
       "        vertical-align: middle;\n",
       "    }\n",
       "\n",
       "    .dataframe tbody tr th {\n",
       "        vertical-align: top;\n",
       "    }\n",
       "\n",
       "    .dataframe thead th {\n",
       "        text-align: right;\n",
       "    }\n",
       "</style>\n",
       "<table border=\"1\" class=\"dataframe\">\n",
       "  <thead>\n",
       "    <tr style=\"text-align: right;\">\n",
       "      <th></th>\n",
       "      <th>sofifa_id</th>\n",
       "      <th>player_url</th>\n",
       "      <th>short_name</th>\n",
       "      <th>long_name</th>\n",
       "      <th>age</th>\n",
       "      <th>dob</th>\n",
       "      <th>height_cm</th>\n",
       "      <th>weight_kg</th>\n",
       "      <th>nationality</th>\n",
       "      <th>club</th>\n",
       "      <th>...</th>\n",
       "      <th>lwb</th>\n",
       "      <th>ldm</th>\n",
       "      <th>cdm</th>\n",
       "      <th>rdm</th>\n",
       "      <th>rwb</th>\n",
       "      <th>lb</th>\n",
       "      <th>lcb</th>\n",
       "      <th>cb</th>\n",
       "      <th>rcb</th>\n",
       "      <th>rb</th>\n",
       "    </tr>\n",
       "  </thead>\n",
       "  <tbody>\n",
       "    <tr>\n",
       "      <th>36</th>\n",
       "      <td>182521</td>\n",
       "      <td>https://sofifa.com/player/182521/toni-kroos/20...</td>\n",
       "      <td>T. Kroos</td>\n",
       "      <td>Toni Kroos</td>\n",
       "      <td>29</td>\n",
       "      <td>1990-01-04</td>\n",
       "      <td>183</td>\n",
       "      <td>76</td>\n",
       "      <td>Germany</td>\n",
       "      <td>Real Madrid</td>\n",
       "      <td>...</td>\n",
       "      <td>75+3</td>\n",
       "      <td>79+3</td>\n",
       "      <td>79+3</td>\n",
       "      <td>79+3</td>\n",
       "      <td>75+3</td>\n",
       "      <td>72+3</td>\n",
       "      <td>69+3</td>\n",
       "      <td>69+3</td>\n",
       "      <td>69+3</td>\n",
       "      <td>72+3</td>\n",
       "    </tr>\n",
       "    <tr>\n",
       "      <th>6</th>\n",
       "      <td>192448</td>\n",
       "      <td>https://sofifa.com/player/192448/marc-andre-te...</td>\n",
       "      <td>M. ter Stegen</td>\n",
       "      <td>Marc-André ter Stegen</td>\n",
       "      <td>27</td>\n",
       "      <td>1992-04-30</td>\n",
       "      <td>187</td>\n",
       "      <td>85</td>\n",
       "      <td>Germany</td>\n",
       "      <td>FC Barcelona</td>\n",
       "      <td>...</td>\n",
       "      <td>NaN</td>\n",
       "      <td>NaN</td>\n",
       "      <td>NaN</td>\n",
       "      <td>NaN</td>\n",
       "      <td>NaN</td>\n",
       "      <td>NaN</td>\n",
       "      <td>NaN</td>\n",
       "      <td>NaN</td>\n",
       "      <td>NaN</td>\n",
       "      <td>NaN</td>\n",
       "    </tr>\n",
       "    <tr>\n",
       "      <th>55</th>\n",
       "      <td>222492</td>\n",
       "      <td>https://sofifa.com/player/222492/leroy-sane/20...</td>\n",
       "      <td>L. Sané</td>\n",
       "      <td>Leroy Sané</td>\n",
       "      <td>23</td>\n",
       "      <td>1996-01-11</td>\n",
       "      <td>183</td>\n",
       "      <td>75</td>\n",
       "      <td>Germany</td>\n",
       "      <td>Manchester City</td>\n",
       "      <td>...</td>\n",
       "      <td>65+2</td>\n",
       "      <td>59+2</td>\n",
       "      <td>59+2</td>\n",
       "      <td>59+2</td>\n",
       "      <td>65+2</td>\n",
       "      <td>61+2</td>\n",
       "      <td>52+2</td>\n",
       "      <td>52+2</td>\n",
       "      <td>52+2</td>\n",
       "      <td>61+2</td>\n",
       "    </tr>\n",
       "    <tr>\n",
       "      <th>146</th>\n",
       "      <td>186942</td>\n",
       "      <td>https://sofifa.com/player/186942/ilkay-gundoga...</td>\n",
       "      <td>I. Gündoğan</td>\n",
       "      <td>İlkay Gündoğan</td>\n",
       "      <td>28</td>\n",
       "      <td>1990-10-24</td>\n",
       "      <td>180</td>\n",
       "      <td>80</td>\n",
       "      <td>Germany</td>\n",
       "      <td>Manchester City</td>\n",
       "      <td>...</td>\n",
       "      <td>76+3</td>\n",
       "      <td>79+3</td>\n",
       "      <td>79+3</td>\n",
       "      <td>79+3</td>\n",
       "      <td>76+3</td>\n",
       "      <td>74+3</td>\n",
       "      <td>72+3</td>\n",
       "      <td>72+3</td>\n",
       "      <td>72+3</td>\n",
       "      <td>74+3</td>\n",
       "    </tr>\n",
       "    <tr>\n",
       "      <th>70</th>\n",
       "      <td>189596</td>\n",
       "      <td>https://sofifa.com/player/189596/thomas-muller...</td>\n",
       "      <td>T. Müller</td>\n",
       "      <td>Thomas Müller</td>\n",
       "      <td>29</td>\n",
       "      <td>1989-09-13</td>\n",
       "      <td>186</td>\n",
       "      <td>75</td>\n",
       "      <td>Germany</td>\n",
       "      <td>FC Bayern München</td>\n",
       "      <td>...</td>\n",
       "      <td>69+3</td>\n",
       "      <td>68+3</td>\n",
       "      <td>68+3</td>\n",
       "      <td>68+3</td>\n",
       "      <td>69+3</td>\n",
       "      <td>67+3</td>\n",
       "      <td>62+3</td>\n",
       "      <td>62+3</td>\n",
       "      <td>62+3</td>\n",
       "      <td>67+3</td>\n",
       "    </tr>\n",
       "    <tr>\n",
       "      <th>37</th>\n",
       "      <td>188350</td>\n",
       "      <td>https://sofifa.com/player/188350/marco-reus/20...</td>\n",
       "      <td>M. Reus</td>\n",
       "      <td>Marco Reus</td>\n",
       "      <td>30</td>\n",
       "      <td>1989-05-31</td>\n",
       "      <td>180</td>\n",
       "      <td>71</td>\n",
       "      <td>Germany</td>\n",
       "      <td>Borussia Dortmund</td>\n",
       "      <td>...</td>\n",
       "      <td>69+3</td>\n",
       "      <td>65+3</td>\n",
       "      <td>65+3</td>\n",
       "      <td>65+3</td>\n",
       "      <td>69+3</td>\n",
       "      <td>64+3</td>\n",
       "      <td>55+3</td>\n",
       "      <td>55+3</td>\n",
       "      <td>55+3</td>\n",
       "      <td>64+3</td>\n",
       "    </tr>\n",
       "    <tr>\n",
       "      <th>31</th>\n",
       "      <td>167495</td>\n",
       "      <td>https://sofifa.com/player/167495/manuel-neuer/...</td>\n",
       "      <td>M. Neuer</td>\n",
       "      <td>Manuel Neuer</td>\n",
       "      <td>33</td>\n",
       "      <td>1986-03-27</td>\n",
       "      <td>193</td>\n",
       "      <td>92</td>\n",
       "      <td>Germany</td>\n",
       "      <td>FC Bayern München</td>\n",
       "      <td>...</td>\n",
       "      <td>NaN</td>\n",
       "      <td>NaN</td>\n",
       "      <td>NaN</td>\n",
       "      <td>NaN</td>\n",
       "      <td>NaN</td>\n",
       "      <td>NaN</td>\n",
       "      <td>NaN</td>\n",
       "      <td>NaN</td>\n",
       "      <td>NaN</td>\n",
       "      <td>NaN</td>\n",
       "    </tr>\n",
       "    <tr>\n",
       "      <th>215</th>\n",
       "      <td>179846</td>\n",
       "      <td>https://sofifa.com/player/179846/sami-khedira/...</td>\n",
       "      <td>S. Khedira</td>\n",
       "      <td>Sami Khedira</td>\n",
       "      <td>32</td>\n",
       "      <td>1987-04-04</td>\n",
       "      <td>189</td>\n",
       "      <td>90</td>\n",
       "      <td>Germany</td>\n",
       "      <td>Juventus</td>\n",
       "      <td>...</td>\n",
       "      <td>75+3</td>\n",
       "      <td>81+3</td>\n",
       "      <td>81+3</td>\n",
       "      <td>81+3</td>\n",
       "      <td>75+3</td>\n",
       "      <td>75+3</td>\n",
       "      <td>80+3</td>\n",
       "      <td>80+3</td>\n",
       "      <td>80+3</td>\n",
       "      <td>75+3</td>\n",
       "    </tr>\n",
       "    <tr>\n",
       "      <th>49</th>\n",
       "      <td>178603</td>\n",
       "      <td>https://sofifa.com/player/178603/mats-hummels/...</td>\n",
       "      <td>M. Hummels</td>\n",
       "      <td>Mats  Hummels</td>\n",
       "      <td>30</td>\n",
       "      <td>1988-12-16</td>\n",
       "      <td>191</td>\n",
       "      <td>94</td>\n",
       "      <td>Germany</td>\n",
       "      <td>Borussia Dortmund</td>\n",
       "      <td>...</td>\n",
       "      <td>77+3</td>\n",
       "      <td>83+3</td>\n",
       "      <td>83+3</td>\n",
       "      <td>83+3</td>\n",
       "      <td>77+3</td>\n",
       "      <td>78+3</td>\n",
       "      <td>84+3</td>\n",
       "      <td>84+3</td>\n",
       "      <td>84+3</td>\n",
       "      <td>78+3</td>\n",
       "    </tr>\n",
       "    <tr>\n",
       "      <th>135</th>\n",
       "      <td>176635</td>\n",
       "      <td>https://sofifa.com/player/176635/mesut-ozil/20...</td>\n",
       "      <td>M. Özil</td>\n",
       "      <td>Mesut Özil</td>\n",
       "      <td>30</td>\n",
       "      <td>1988-10-15</td>\n",
       "      <td>180</td>\n",
       "      <td>76</td>\n",
       "      <td>Germany</td>\n",
       "      <td>Arsenal</td>\n",
       "      <td>...</td>\n",
       "      <td>57+3</td>\n",
       "      <td>55+3</td>\n",
       "      <td>55+3</td>\n",
       "      <td>55+3</td>\n",
       "      <td>57+3</td>\n",
       "      <td>51+3</td>\n",
       "      <td>39+3</td>\n",
       "      <td>39+3</td>\n",
       "      <td>39+3</td>\n",
       "      <td>51+3</td>\n",
       "    </tr>\n",
       "  </tbody>\n",
       "</table>\n",
       "<p>10 rows × 104 columns</p>\n",
       "</div>"
      ],
      "text/plain": [
       "     sofifa_id                                         player_url  \\\n",
       "36      182521  https://sofifa.com/player/182521/toni-kroos/20...   \n",
       "6       192448  https://sofifa.com/player/192448/marc-andre-te...   \n",
       "55      222492  https://sofifa.com/player/222492/leroy-sane/20...   \n",
       "146     186942  https://sofifa.com/player/186942/ilkay-gundoga...   \n",
       "70      189596  https://sofifa.com/player/189596/thomas-muller...   \n",
       "37      188350  https://sofifa.com/player/188350/marco-reus/20...   \n",
       "31      167495  https://sofifa.com/player/167495/manuel-neuer/...   \n",
       "215     179846  https://sofifa.com/player/179846/sami-khedira/...   \n",
       "49      178603  https://sofifa.com/player/178603/mats-hummels/...   \n",
       "135     176635  https://sofifa.com/player/176635/mesut-ozil/20...   \n",
       "\n",
       "        short_name              long_name  age         dob  height_cm  \\\n",
       "36        T. Kroos             Toni Kroos   29  1990-01-04        183   \n",
       "6    M. ter Stegen  Marc-André ter Stegen   27  1992-04-30        187   \n",
       "55         L. Sané             Leroy Sané   23  1996-01-11        183   \n",
       "146    I. Gündoğan         İlkay Gündoğan   28  1990-10-24        180   \n",
       "70       T. Müller          Thomas Müller   29  1989-09-13        186   \n",
       "37         M. Reus             Marco Reus   30  1989-05-31        180   \n",
       "31        M. Neuer           Manuel Neuer   33  1986-03-27        193   \n",
       "215     S. Khedira           Sami Khedira   32  1987-04-04        189   \n",
       "49      M. Hummels          Mats  Hummels   30  1988-12-16        191   \n",
       "135        M. Özil             Mesut Özil   30  1988-10-15        180   \n",
       "\n",
       "     weight_kg nationality               club  ...   lwb   ldm   cdm   rdm  \\\n",
       "36          76     Germany        Real Madrid  ...  75+3  79+3  79+3  79+3   \n",
       "6           85     Germany       FC Barcelona  ...   NaN   NaN   NaN   NaN   \n",
       "55          75     Germany    Manchester City  ...  65+2  59+2  59+2  59+2   \n",
       "146         80     Germany    Manchester City  ...  76+3  79+3  79+3  79+3   \n",
       "70          75     Germany  FC Bayern München  ...  69+3  68+3  68+3  68+3   \n",
       "37          71     Germany  Borussia Dortmund  ...  69+3  65+3  65+3  65+3   \n",
       "31          92     Germany  FC Bayern München  ...   NaN   NaN   NaN   NaN   \n",
       "215         90     Germany           Juventus  ...  75+3  81+3  81+3  81+3   \n",
       "49          94     Germany  Borussia Dortmund  ...  77+3  83+3  83+3  83+3   \n",
       "135         76     Germany            Arsenal  ...  57+3  55+3  55+3  55+3   \n",
       "\n",
       "      rwb    lb   lcb    cb   rcb    rb  \n",
       "36   75+3  72+3  69+3  69+3  69+3  72+3  \n",
       "6     NaN   NaN   NaN   NaN   NaN   NaN  \n",
       "55   65+2  61+2  52+2  52+2  52+2  61+2  \n",
       "146  76+3  74+3  72+3  72+3  72+3  74+3  \n",
       "70   69+3  67+3  62+3  62+3  62+3  67+3  \n",
       "37   69+3  64+3  55+3  55+3  55+3  64+3  \n",
       "31    NaN   NaN   NaN   NaN   NaN   NaN  \n",
       "215  75+3  75+3  80+3  80+3  80+3  75+3  \n",
       "49   77+3  78+3  84+3  84+3  84+3  78+3  \n",
       "135  57+3  51+3  39+3  39+3  39+3  51+3  \n",
       "\n",
       "[10 rows x 104 columns]"
      ]
     },
     "execution_count": 13,
     "metadata": {},
     "output_type": "execute_result"
    }
   ],
   "source": [
    "df[df['nationality'] == 'Germany'].sort_values('wage_eur', ascending=False).head(10)"
   ]
  },
  {
   "attachments": {},
   "cell_type": "markdown",
   "metadata": {},
   "source": [
    "## 12. Show short name and wages of top 5 German players"
   ]
  },
  {
   "cell_type": "code",
   "execution_count": 14,
   "metadata": {},
   "outputs": [
    {
     "data": {
      "text/html": [
       "<div>\n",
       "<style scoped>\n",
       "    .dataframe tbody tr th:only-of-type {\n",
       "        vertical-align: middle;\n",
       "    }\n",
       "\n",
       "    .dataframe tbody tr th {\n",
       "        vertical-align: top;\n",
       "    }\n",
       "\n",
       "    .dataframe thead th {\n",
       "        text-align: right;\n",
       "    }\n",
       "</style>\n",
       "<table border=\"1\" class=\"dataframe\">\n",
       "  <thead>\n",
       "    <tr style=\"text-align: right;\">\n",
       "      <th></th>\n",
       "      <th>short_name</th>\n",
       "      <th>wage_eur</th>\n",
       "    </tr>\n",
       "  </thead>\n",
       "  <tbody>\n",
       "    <tr>\n",
       "      <th>6</th>\n",
       "      <td>M. ter Stegen</td>\n",
       "      <td>250000</td>\n",
       "    </tr>\n",
       "    <tr>\n",
       "      <th>36</th>\n",
       "      <td>T. Kroos</td>\n",
       "      <td>330000</td>\n",
       "    </tr>\n",
       "    <tr>\n",
       "      <th>37</th>\n",
       "      <td>M. Reus</td>\n",
       "      <td>170000</td>\n",
       "    </tr>\n",
       "    <tr>\n",
       "      <th>31</th>\n",
       "      <td>M. Neuer</td>\n",
       "      <td>155000</td>\n",
       "    </tr>\n",
       "    <tr>\n",
       "      <th>49</th>\n",
       "      <td>M. Hummels</td>\n",
       "      <td>130000</td>\n",
       "    </tr>\n",
       "    <tr>\n",
       "      <th>55</th>\n",
       "      <td>L. Sané</td>\n",
       "      <td>195000</td>\n",
       "    </tr>\n",
       "    <tr>\n",
       "      <th>61</th>\n",
       "      <td>J. Kimmich</td>\n",
       "      <td>125000</td>\n",
       "    </tr>\n",
       "    <tr>\n",
       "      <th>70</th>\n",
       "      <td>T. Müller</td>\n",
       "      <td>170000</td>\n",
       "    </tr>\n",
       "    <tr>\n",
       "      <th>77</th>\n",
       "      <td>N. Süle</td>\n",
       "      <td>115000</td>\n",
       "    </tr>\n",
       "    <tr>\n",
       "      <th>122</th>\n",
       "      <td>B. Leno</td>\n",
       "      <td>91000</td>\n",
       "    </tr>\n",
       "  </tbody>\n",
       "</table>\n",
       "</div>"
      ],
      "text/plain": [
       "        short_name  wage_eur\n",
       "6    M. ter Stegen    250000\n",
       "36        T. Kroos    330000\n",
       "37         M. Reus    170000\n",
       "31        M. Neuer    155000\n",
       "49      M. Hummels    130000\n",
       "55         L. Sané    195000\n",
       "61      J. Kimmich    125000\n",
       "70       T. Müller    170000\n",
       "77         N. Süle    115000\n",
       "122        B. Leno     91000"
      ]
     },
     "execution_count": 14,
     "metadata": {},
     "output_type": "execute_result"
    }
   ],
   "source": [
    "df[df['nationality'] == 'Germany'].sort_values('overall', ascending=False)[['short_name', 'wage_eur']].head(10)"
   ]
  },
  {
   "attachments": {},
   "cell_type": "markdown",
   "metadata": {},
   "source": [
    "## 13. Show top 5 players who have great shooting skills among all with short name"
   ]
  },
  {
   "cell_type": "code",
   "execution_count": 15,
   "metadata": {},
   "outputs": [
    {
     "data": {
      "text/html": [
       "<div>\n",
       "<style scoped>\n",
       "    .dataframe tbody tr th:only-of-type {\n",
       "        vertical-align: middle;\n",
       "    }\n",
       "\n",
       "    .dataframe tbody tr th {\n",
       "        vertical-align: top;\n",
       "    }\n",
       "\n",
       "    .dataframe thead th {\n",
       "        text-align: right;\n",
       "    }\n",
       "</style>\n",
       "<table border=\"1\" class=\"dataframe\">\n",
       "  <thead>\n",
       "    <tr style=\"text-align: right;\">\n",
       "      <th></th>\n",
       "      <th>sofifa_id</th>\n",
       "      <th>player_url</th>\n",
       "      <th>short_name</th>\n",
       "      <th>long_name</th>\n",
       "      <th>age</th>\n",
       "      <th>dob</th>\n",
       "      <th>height_cm</th>\n",
       "      <th>weight_kg</th>\n",
       "      <th>nationality</th>\n",
       "      <th>club</th>\n",
       "      <th>...</th>\n",
       "      <th>lwb</th>\n",
       "      <th>ldm</th>\n",
       "      <th>cdm</th>\n",
       "      <th>rdm</th>\n",
       "      <th>rwb</th>\n",
       "      <th>lb</th>\n",
       "      <th>lcb</th>\n",
       "      <th>cb</th>\n",
       "      <th>rcb</th>\n",
       "      <th>rb</th>\n",
       "    </tr>\n",
       "  </thead>\n",
       "  <tbody>\n",
       "    <tr>\n",
       "      <th>1</th>\n",
       "      <td>20801</td>\n",
       "      <td>https://sofifa.com/player/20801/c-ronaldo-dos-...</td>\n",
       "      <td>Cristiano Ronaldo</td>\n",
       "      <td>Cristiano Ronaldo dos Santos Aveiro</td>\n",
       "      <td>34</td>\n",
       "      <td>1985-02-05</td>\n",
       "      <td>187</td>\n",
       "      <td>83</td>\n",
       "      <td>Portugal</td>\n",
       "      <td>Juventus</td>\n",
       "      <td>...</td>\n",
       "      <td>65+3</td>\n",
       "      <td>61+3</td>\n",
       "      <td>61+3</td>\n",
       "      <td>61+3</td>\n",
       "      <td>65+3</td>\n",
       "      <td>61+3</td>\n",
       "      <td>53+3</td>\n",
       "      <td>53+3</td>\n",
       "      <td>53+3</td>\n",
       "      <td>61+3</td>\n",
       "    </tr>\n",
       "    <tr>\n",
       "      <th>0</th>\n",
       "      <td>158023</td>\n",
       "      <td>https://sofifa.com/player/158023/lionel-messi/...</td>\n",
       "      <td>L. Messi</td>\n",
       "      <td>Lionel Andrés Messi Cuccittini</td>\n",
       "      <td>32</td>\n",
       "      <td>1987-06-24</td>\n",
       "      <td>170</td>\n",
       "      <td>72</td>\n",
       "      <td>Argentina</td>\n",
       "      <td>FC Barcelona</td>\n",
       "      <td>...</td>\n",
       "      <td>68+2</td>\n",
       "      <td>66+2</td>\n",
       "      <td>66+2</td>\n",
       "      <td>66+2</td>\n",
       "      <td>68+2</td>\n",
       "      <td>63+2</td>\n",
       "      <td>52+2</td>\n",
       "      <td>52+2</td>\n",
       "      <td>52+2</td>\n",
       "      <td>63+2</td>\n",
       "    </tr>\n",
       "    <tr>\n",
       "      <th>12</th>\n",
       "      <td>202126</td>\n",
       "      <td>https://sofifa.com/player/202126/harry-kane/20...</td>\n",
       "      <td>H. Kane</td>\n",
       "      <td>Harry Kane</td>\n",
       "      <td>25</td>\n",
       "      <td>1993-07-28</td>\n",
       "      <td>188</td>\n",
       "      <td>89</td>\n",
       "      <td>England</td>\n",
       "      <td>Tottenham Hotspur</td>\n",
       "      <td>...</td>\n",
       "      <td>65+3</td>\n",
       "      <td>66+3</td>\n",
       "      <td>66+3</td>\n",
       "      <td>66+3</td>\n",
       "      <td>65+3</td>\n",
       "      <td>62+3</td>\n",
       "      <td>60+3</td>\n",
       "      <td>60+3</td>\n",
       "      <td>60+3</td>\n",
       "      <td>62+3</td>\n",
       "    </tr>\n",
       "    <tr>\n",
       "      <th>17</th>\n",
       "      <td>153079</td>\n",
       "      <td>https://sofifa.com/player/153079/sergio-aguero...</td>\n",
       "      <td>S. Agüero</td>\n",
       "      <td>Sergio Leonel Agüero del Castillo</td>\n",
       "      <td>31</td>\n",
       "      <td>1988-06-02</td>\n",
       "      <td>173</td>\n",
       "      <td>70</td>\n",
       "      <td>Argentina</td>\n",
       "      <td>Manchester City</td>\n",
       "      <td>...</td>\n",
       "      <td>60+3</td>\n",
       "      <td>58+3</td>\n",
       "      <td>58+3</td>\n",
       "      <td>58+3</td>\n",
       "      <td>60+3</td>\n",
       "      <td>56+3</td>\n",
       "      <td>50+3</td>\n",
       "      <td>50+3</td>\n",
       "      <td>50+3</td>\n",
       "      <td>56+3</td>\n",
       "    </tr>\n",
       "    <tr>\n",
       "      <th>205</th>\n",
       "      <td>159261</td>\n",
       "      <td>https://sofifa.com/player/159261/fabio-quaglia...</td>\n",
       "      <td>F. Quagliarella</td>\n",
       "      <td>Fabio Quagliarella</td>\n",
       "      <td>36</td>\n",
       "      <td>1983-01-31</td>\n",
       "      <td>180</td>\n",
       "      <td>79</td>\n",
       "      <td>Italy</td>\n",
       "      <td>Sampdoria</td>\n",
       "      <td>...</td>\n",
       "      <td>54+2</td>\n",
       "      <td>54+2</td>\n",
       "      <td>54+2</td>\n",
       "      <td>54+2</td>\n",
       "      <td>54+2</td>\n",
       "      <td>50+2</td>\n",
       "      <td>45+2</td>\n",
       "      <td>45+2</td>\n",
       "      <td>45+2</td>\n",
       "      <td>50+2</td>\n",
       "    </tr>\n",
       "  </tbody>\n",
       "</table>\n",
       "<p>5 rows × 104 columns</p>\n",
       "</div>"
      ],
      "text/plain": [
       "     sofifa_id                                         player_url  \\\n",
       "1        20801  https://sofifa.com/player/20801/c-ronaldo-dos-...   \n",
       "0       158023  https://sofifa.com/player/158023/lionel-messi/...   \n",
       "12      202126  https://sofifa.com/player/202126/harry-kane/20...   \n",
       "17      153079  https://sofifa.com/player/153079/sergio-aguero...   \n",
       "205     159261  https://sofifa.com/player/159261/fabio-quaglia...   \n",
       "\n",
       "            short_name                            long_name  age         dob  \\\n",
       "1    Cristiano Ronaldo  Cristiano Ronaldo dos Santos Aveiro   34  1985-02-05   \n",
       "0             L. Messi       Lionel Andrés Messi Cuccittini   32  1987-06-24   \n",
       "12             H. Kane                           Harry Kane   25  1993-07-28   \n",
       "17           S. Agüero    Sergio Leonel Agüero del Castillo   31  1988-06-02   \n",
       "205    F. Quagliarella                   Fabio Quagliarella   36  1983-01-31   \n",
       "\n",
       "     height_cm  weight_kg nationality               club  ...   lwb   ldm  \\\n",
       "1          187         83    Portugal           Juventus  ...  65+3  61+3   \n",
       "0          170         72   Argentina       FC Barcelona  ...  68+2  66+2   \n",
       "12         188         89     England  Tottenham Hotspur  ...  65+3  66+3   \n",
       "17         173         70   Argentina    Manchester City  ...  60+3  58+3   \n",
       "205        180         79       Italy          Sampdoria  ...  54+2  54+2   \n",
       "\n",
       "      cdm   rdm   rwb    lb   lcb    cb   rcb    rb  \n",
       "1    61+3  61+3  65+3  61+3  53+3  53+3  53+3  61+3  \n",
       "0    66+2  66+2  68+2  63+2  52+2  52+2  52+2  63+2  \n",
       "12   66+3  66+3  65+3  62+3  60+3  60+3  60+3  62+3  \n",
       "17   58+3  58+3  60+3  56+3  50+3  50+3  50+3  56+3  \n",
       "205  54+2  54+2  54+2  50+2  45+2  45+2  45+2  50+2  \n",
       "\n",
       "[5 rows x 104 columns]"
      ]
     },
     "execution_count": 15,
     "metadata": {},
     "output_type": "execute_result"
    }
   ],
   "source": [
    "df[df['short_name'].notnull()].sort_values('shooting', ascending=False).head(5)"
   ]
  },
  {
   "attachments": {},
   "cell_type": "markdown",
   "metadata": {},
   "source": [
    "## 14. Show top 5 players' record (short name, defending, nationality, and club) that have awesome defending skills"
   ]
  },
  {
   "cell_type": "code",
   "execution_count": 16,
   "metadata": {},
   "outputs": [
    {
     "data": {
      "text/html": [
       "<div>\n",
       "<style scoped>\n",
       "    .dataframe tbody tr th:only-of-type {\n",
       "        vertical-align: middle;\n",
       "    }\n",
       "\n",
       "    .dataframe tbody tr th {\n",
       "        vertical-align: top;\n",
       "    }\n",
       "\n",
       "    .dataframe thead th {\n",
       "        text-align: right;\n",
       "    }\n",
       "</style>\n",
       "<table border=\"1\" class=\"dataframe\">\n",
       "  <thead>\n",
       "    <tr style=\"text-align: right;\">\n",
       "      <th></th>\n",
       "      <th>short_name</th>\n",
       "      <th>defending</th>\n",
       "      <th>nationality</th>\n",
       "      <th>club</th>\n",
       "    </tr>\n",
       "  </thead>\n",
       "  <tbody>\n",
       "    <tr>\n",
       "      <th>16</th>\n",
       "      <td>G. Chiellini</td>\n",
       "      <td>90.0</td>\n",
       "      <td>Italy</td>\n",
       "      <td>Juventus</td>\n",
       "    </tr>\n",
       "    <tr>\n",
       "      <th>7</th>\n",
       "      <td>V. van Dijk</td>\n",
       "      <td>90.0</td>\n",
       "      <td>Netherlands</td>\n",
       "      <td>Liverpool</td>\n",
       "    </tr>\n",
       "    <tr>\n",
       "      <th>11</th>\n",
       "      <td>K. Koulibaly</td>\n",
       "      <td>89.0</td>\n",
       "      <td>Senegal</td>\n",
       "      <td>Napoli</td>\n",
       "    </tr>\n",
       "    <tr>\n",
       "      <th>35</th>\n",
       "      <td>D. Godín</td>\n",
       "      <td>89.0</td>\n",
       "      <td>Uruguay</td>\n",
       "      <td>Inter</td>\n",
       "    </tr>\n",
       "    <tr>\n",
       "      <th>49</th>\n",
       "      <td>M. Hummels</td>\n",
       "      <td>89.0</td>\n",
       "      <td>Germany</td>\n",
       "      <td>Borussia Dortmund</td>\n",
       "    </tr>\n",
       "  </tbody>\n",
       "</table>\n",
       "</div>"
      ],
      "text/plain": [
       "      short_name  defending  nationality               club\n",
       "16  G. Chiellini       90.0        Italy           Juventus\n",
       "7    V. van Dijk       90.0  Netherlands          Liverpool\n",
       "11  K. Koulibaly       89.0      Senegal             Napoli\n",
       "35      D. Godín       89.0      Uruguay              Inter\n",
       "49    M. Hummels       89.0      Germany  Borussia Dortmund"
      ]
     },
     "execution_count": 16,
     "metadata": {},
     "output_type": "execute_result"
    }
   ],
   "source": [
    "df.sort_values('defending', ascending=False)[['short_name', 'defending', 'nationality', 'club']].head(5)"
   ]
  },
  {
   "attachments": {},
   "cell_type": "markdown",
   "metadata": {},
   "source": [
    "## 15. Show wages records of top 5 players from Real Madrid"
   ]
  },
  {
   "cell_type": "code",
   "execution_count": 17,
   "metadata": {},
   "outputs": [
    {
     "data": {
      "text/html": [
       "<div>\n",
       "<style scoped>\n",
       "    .dataframe tbody tr th:only-of-type {\n",
       "        vertical-align: middle;\n",
       "    }\n",
       "\n",
       "    .dataframe tbody tr th {\n",
       "        vertical-align: top;\n",
       "    }\n",
       "\n",
       "    .dataframe thead th {\n",
       "        text-align: right;\n",
       "    }\n",
       "</style>\n",
       "<table border=\"1\" class=\"dataframe\">\n",
       "  <thead>\n",
       "    <tr style=\"text-align: right;\">\n",
       "      <th></th>\n",
       "      <th>sofifa_id</th>\n",
       "      <th>player_url</th>\n",
       "      <th>short_name</th>\n",
       "      <th>long_name</th>\n",
       "      <th>age</th>\n",
       "      <th>dob</th>\n",
       "      <th>height_cm</th>\n",
       "      <th>weight_kg</th>\n",
       "      <th>nationality</th>\n",
       "      <th>club</th>\n",
       "      <th>...</th>\n",
       "      <th>lwb</th>\n",
       "      <th>ldm</th>\n",
       "      <th>cdm</th>\n",
       "      <th>rdm</th>\n",
       "      <th>rwb</th>\n",
       "      <th>lb</th>\n",
       "      <th>lcb</th>\n",
       "      <th>cb</th>\n",
       "      <th>rcb</th>\n",
       "      <th>rb</th>\n",
       "    </tr>\n",
       "  </thead>\n",
       "  <tbody>\n",
       "    <tr>\n",
       "      <th>4</th>\n",
       "      <td>183277</td>\n",
       "      <td>https://sofifa.com/player/183277/eden-hazard/2...</td>\n",
       "      <td>E. Hazard</td>\n",
       "      <td>Eden Hazard</td>\n",
       "      <td>28</td>\n",
       "      <td>1991-01-07</td>\n",
       "      <td>175</td>\n",
       "      <td>74</td>\n",
       "      <td>Belgium</td>\n",
       "      <td>Real Madrid</td>\n",
       "      <td>...</td>\n",
       "      <td>66+3</td>\n",
       "      <td>63+3</td>\n",
       "      <td>63+3</td>\n",
       "      <td>63+3</td>\n",
       "      <td>66+3</td>\n",
       "      <td>61+3</td>\n",
       "      <td>49+3</td>\n",
       "      <td>49+3</td>\n",
       "      <td>49+3</td>\n",
       "      <td>61+3</td>\n",
       "    </tr>\n",
       "    <tr>\n",
       "      <th>8</th>\n",
       "      <td>177003</td>\n",
       "      <td>https://sofifa.com/player/177003/luka-modric/2...</td>\n",
       "      <td>L. Modrić</td>\n",
       "      <td>Luka Modrić</td>\n",
       "      <td>33</td>\n",
       "      <td>1985-09-09</td>\n",
       "      <td>172</td>\n",
       "      <td>66</td>\n",
       "      <td>Croatia</td>\n",
       "      <td>Real Madrid</td>\n",
       "      <td>...</td>\n",
       "      <td>81+3</td>\n",
       "      <td>81+3</td>\n",
       "      <td>81+3</td>\n",
       "      <td>81+3</td>\n",
       "      <td>81+3</td>\n",
       "      <td>79+3</td>\n",
       "      <td>72+3</td>\n",
       "      <td>72+3</td>\n",
       "      <td>72+3</td>\n",
       "      <td>79+3</td>\n",
       "    </tr>\n",
       "    <tr>\n",
       "      <th>36</th>\n",
       "      <td>182521</td>\n",
       "      <td>https://sofifa.com/player/182521/toni-kroos/20...</td>\n",
       "      <td>T. Kroos</td>\n",
       "      <td>Toni Kroos</td>\n",
       "      <td>29</td>\n",
       "      <td>1990-01-04</td>\n",
       "      <td>183</td>\n",
       "      <td>76</td>\n",
       "      <td>Germany</td>\n",
       "      <td>Real Madrid</td>\n",
       "      <td>...</td>\n",
       "      <td>75+3</td>\n",
       "      <td>79+3</td>\n",
       "      <td>79+3</td>\n",
       "      <td>79+3</td>\n",
       "      <td>75+3</td>\n",
       "      <td>72+3</td>\n",
       "      <td>69+3</td>\n",
       "      <td>69+3</td>\n",
       "      <td>69+3</td>\n",
       "      <td>72+3</td>\n",
       "    </tr>\n",
       "    <tr>\n",
       "      <th>18</th>\n",
       "      <td>155862</td>\n",
       "      <td>https://sofifa.com/player/155862/sergio-ramos-...</td>\n",
       "      <td>Sergio Ramos</td>\n",
       "      <td>Sergio Ramos García</td>\n",
       "      <td>33</td>\n",
       "      <td>1986-03-30</td>\n",
       "      <td>184</td>\n",
       "      <td>82</td>\n",
       "      <td>Spain</td>\n",
       "      <td>Real Madrid</td>\n",
       "      <td>...</td>\n",
       "      <td>80+3</td>\n",
       "      <td>84+3</td>\n",
       "      <td>84+3</td>\n",
       "      <td>84+3</td>\n",
       "      <td>80+3</td>\n",
       "      <td>82+3</td>\n",
       "      <td>87+3</td>\n",
       "      <td>87+3</td>\n",
       "      <td>87+3</td>\n",
       "      <td>82+3</td>\n",
       "    </tr>\n",
       "    <tr>\n",
       "      <th>46</th>\n",
       "      <td>165153</td>\n",
       "      <td>https://sofifa.com/player/165153/karim-benzema...</td>\n",
       "      <td>K. Benzema</td>\n",
       "      <td>Karim Benzema</td>\n",
       "      <td>31</td>\n",
       "      <td>1987-12-19</td>\n",
       "      <td>185</td>\n",
       "      <td>81</td>\n",
       "      <td>France</td>\n",
       "      <td>Real Madrid</td>\n",
       "      <td>...</td>\n",
       "      <td>62+3</td>\n",
       "      <td>62+3</td>\n",
       "      <td>62+3</td>\n",
       "      <td>62+3</td>\n",
       "      <td>62+3</td>\n",
       "      <td>58+3</td>\n",
       "      <td>54+3</td>\n",
       "      <td>54+3</td>\n",
       "      <td>54+3</td>\n",
       "      <td>58+3</td>\n",
       "    </tr>\n",
       "  </tbody>\n",
       "</table>\n",
       "<p>5 rows × 104 columns</p>\n",
       "</div>"
      ],
      "text/plain": [
       "    sofifa_id                                         player_url  \\\n",
       "4      183277  https://sofifa.com/player/183277/eden-hazard/2...   \n",
       "8      177003  https://sofifa.com/player/177003/luka-modric/2...   \n",
       "36     182521  https://sofifa.com/player/182521/toni-kroos/20...   \n",
       "18     155862  https://sofifa.com/player/155862/sergio-ramos-...   \n",
       "46     165153  https://sofifa.com/player/165153/karim-benzema...   \n",
       "\n",
       "      short_name            long_name  age         dob  height_cm  weight_kg  \\\n",
       "4      E. Hazard          Eden Hazard   28  1991-01-07        175         74   \n",
       "8      L. Modrić          Luka Modrić   33  1985-09-09        172         66   \n",
       "36      T. Kroos           Toni Kroos   29  1990-01-04        183         76   \n",
       "18  Sergio Ramos  Sergio Ramos García   33  1986-03-30        184         82   \n",
       "46    K. Benzema        Karim Benzema   31  1987-12-19        185         81   \n",
       "\n",
       "   nationality         club  ...   lwb   ldm   cdm   rdm   rwb    lb   lcb  \\\n",
       "4      Belgium  Real Madrid  ...  66+3  63+3  63+3  63+3  66+3  61+3  49+3   \n",
       "8      Croatia  Real Madrid  ...  81+3  81+3  81+3  81+3  81+3  79+3  72+3   \n",
       "36     Germany  Real Madrid  ...  75+3  79+3  79+3  79+3  75+3  72+3  69+3   \n",
       "18       Spain  Real Madrid  ...  80+3  84+3  84+3  84+3  80+3  82+3  87+3   \n",
       "46      France  Real Madrid  ...  62+3  62+3  62+3  62+3  62+3  58+3  54+3   \n",
       "\n",
       "      cb   rcb    rb  \n",
       "4   49+3  49+3  61+3  \n",
       "8   72+3  72+3  79+3  \n",
       "36  69+3  69+3  72+3  \n",
       "18  87+3  87+3  82+3  \n",
       "46  54+3  54+3  58+3  \n",
       "\n",
       "[5 rows x 104 columns]"
      ]
     },
     "execution_count": 17,
     "metadata": {},
     "output_type": "execute_result"
    }
   ],
   "source": [
    "df[df['club'] == 'Real Madrid'].sort_values('wage_eur', ascending=False).head(5)"
   ]
  },
  {
   "attachments": {},
   "cell_type": "markdown",
   "metadata": {},
   "source": [
    "## 16. Show shooting records of top 5 players from Real Madrid"
   ]
  },
  {
   "cell_type": "code",
   "execution_count": 18,
   "metadata": {},
   "outputs": [
    {
     "data": {
      "text/html": [
       "<div>\n",
       "<style scoped>\n",
       "    .dataframe tbody tr th:only-of-type {\n",
       "        vertical-align: middle;\n",
       "    }\n",
       "\n",
       "    .dataframe tbody tr th {\n",
       "        vertical-align: top;\n",
       "    }\n",
       "\n",
       "    .dataframe thead th {\n",
       "        text-align: right;\n",
       "    }\n",
       "</style>\n",
       "<table border=\"1\" class=\"dataframe\">\n",
       "  <thead>\n",
       "    <tr style=\"text-align: right;\">\n",
       "      <th></th>\n",
       "      <th>sofifa_id</th>\n",
       "      <th>player_url</th>\n",
       "      <th>short_name</th>\n",
       "      <th>long_name</th>\n",
       "      <th>age</th>\n",
       "      <th>dob</th>\n",
       "      <th>height_cm</th>\n",
       "      <th>weight_kg</th>\n",
       "      <th>nationality</th>\n",
       "      <th>club</th>\n",
       "      <th>...</th>\n",
       "      <th>lwb</th>\n",
       "      <th>ldm</th>\n",
       "      <th>cdm</th>\n",
       "      <th>rdm</th>\n",
       "      <th>rwb</th>\n",
       "      <th>lb</th>\n",
       "      <th>lcb</th>\n",
       "      <th>cb</th>\n",
       "      <th>rcb</th>\n",
       "      <th>rb</th>\n",
       "    </tr>\n",
       "  </thead>\n",
       "  <tbody>\n",
       "    <tr>\n",
       "      <th>100</th>\n",
       "      <td>173731</td>\n",
       "      <td>https://sofifa.com/player/173731/gareth-bale/2...</td>\n",
       "      <td>G. Bale</td>\n",
       "      <td>Gareth Frank Bale</td>\n",
       "      <td>29</td>\n",
       "      <td>1989-07-16</td>\n",
       "      <td>185</td>\n",
       "      <td>82</td>\n",
       "      <td>Wales</td>\n",
       "      <td>Real Madrid</td>\n",
       "      <td>...</td>\n",
       "      <td>72+3</td>\n",
       "      <td>69+3</td>\n",
       "      <td>69+3</td>\n",
       "      <td>69+3</td>\n",
       "      <td>72+3</td>\n",
       "      <td>70+3</td>\n",
       "      <td>66+3</td>\n",
       "      <td>66+3</td>\n",
       "      <td>66+3</td>\n",
       "      <td>70+3</td>\n",
       "    </tr>\n",
       "    <tr>\n",
       "      <th>106</th>\n",
       "      <td>198710</td>\n",
       "      <td>https://sofifa.com/player/198710/james-rodrigu...</td>\n",
       "      <td>J. Rodríguez</td>\n",
       "      <td>James David Rodríguez Rubio</td>\n",
       "      <td>27</td>\n",
       "      <td>1991-07-12</td>\n",
       "      <td>180</td>\n",
       "      <td>75</td>\n",
       "      <td>Colombia</td>\n",
       "      <td>Real Madrid</td>\n",
       "      <td>...</td>\n",
       "      <td>67+3</td>\n",
       "      <td>67+3</td>\n",
       "      <td>67+3</td>\n",
       "      <td>67+3</td>\n",
       "      <td>67+3</td>\n",
       "      <td>62+3</td>\n",
       "      <td>57+3</td>\n",
       "      <td>57+3</td>\n",
       "      <td>57+3</td>\n",
       "      <td>62+3</td>\n",
       "    </tr>\n",
       "    <tr>\n",
       "      <th>4</th>\n",
       "      <td>183277</td>\n",
       "      <td>https://sofifa.com/player/183277/eden-hazard/2...</td>\n",
       "      <td>E. Hazard</td>\n",
       "      <td>Eden Hazard</td>\n",
       "      <td>28</td>\n",
       "      <td>1991-01-07</td>\n",
       "      <td>175</td>\n",
       "      <td>74</td>\n",
       "      <td>Belgium</td>\n",
       "      <td>Real Madrid</td>\n",
       "      <td>...</td>\n",
       "      <td>66+3</td>\n",
       "      <td>63+3</td>\n",
       "      <td>63+3</td>\n",
       "      <td>63+3</td>\n",
       "      <td>66+3</td>\n",
       "      <td>61+3</td>\n",
       "      <td>49+3</td>\n",
       "      <td>49+3</td>\n",
       "      <td>49+3</td>\n",
       "      <td>61+3</td>\n",
       "    </tr>\n",
       "    <tr>\n",
       "      <th>46</th>\n",
       "      <td>165153</td>\n",
       "      <td>https://sofifa.com/player/165153/karim-benzema...</td>\n",
       "      <td>K. Benzema</td>\n",
       "      <td>Karim Benzema</td>\n",
       "      <td>31</td>\n",
       "      <td>1987-12-19</td>\n",
       "      <td>185</td>\n",
       "      <td>81</td>\n",
       "      <td>France</td>\n",
       "      <td>Real Madrid</td>\n",
       "      <td>...</td>\n",
       "      <td>62+3</td>\n",
       "      <td>62+3</td>\n",
       "      <td>62+3</td>\n",
       "      <td>62+3</td>\n",
       "      <td>62+3</td>\n",
       "      <td>58+3</td>\n",
       "      <td>54+3</td>\n",
       "      <td>54+3</td>\n",
       "      <td>54+3</td>\n",
       "      <td>58+3</td>\n",
       "    </tr>\n",
       "    <tr>\n",
       "      <th>161</th>\n",
       "      <td>232432</td>\n",
       "      <td>https://sofifa.com/player/232432/luka-jovic/20...</td>\n",
       "      <td>L. Jović</td>\n",
       "      <td>Luka Jović</td>\n",
       "      <td>21</td>\n",
       "      <td>1997-12-23</td>\n",
       "      <td>182</td>\n",
       "      <td>85</td>\n",
       "      <td>Serbia</td>\n",
       "      <td>Real Madrid</td>\n",
       "      <td>...</td>\n",
       "      <td>55+2</td>\n",
       "      <td>53+2</td>\n",
       "      <td>53+2</td>\n",
       "      <td>53+2</td>\n",
       "      <td>55+2</td>\n",
       "      <td>51+2</td>\n",
       "      <td>47+2</td>\n",
       "      <td>47+2</td>\n",
       "      <td>47+2</td>\n",
       "      <td>51+2</td>\n",
       "    </tr>\n",
       "  </tbody>\n",
       "</table>\n",
       "<p>5 rows × 104 columns</p>\n",
       "</div>"
      ],
      "text/plain": [
       "     sofifa_id                                         player_url  \\\n",
       "100     173731  https://sofifa.com/player/173731/gareth-bale/2...   \n",
       "106     198710  https://sofifa.com/player/198710/james-rodrigu...   \n",
       "4       183277  https://sofifa.com/player/183277/eden-hazard/2...   \n",
       "46      165153  https://sofifa.com/player/165153/karim-benzema...   \n",
       "161     232432  https://sofifa.com/player/232432/luka-jovic/20...   \n",
       "\n",
       "       short_name                    long_name  age         dob  height_cm  \\\n",
       "100       G. Bale            Gareth Frank Bale   29  1989-07-16        185   \n",
       "106  J. Rodríguez  James David Rodríguez Rubio   27  1991-07-12        180   \n",
       "4       E. Hazard                  Eden Hazard   28  1991-01-07        175   \n",
       "46     K. Benzema                Karim Benzema   31  1987-12-19        185   \n",
       "161      L. Jović                   Luka Jović   21  1997-12-23        182   \n",
       "\n",
       "     weight_kg nationality         club  ...   lwb   ldm   cdm   rdm   rwb  \\\n",
       "100         82       Wales  Real Madrid  ...  72+3  69+3  69+3  69+3  72+3   \n",
       "106         75    Colombia  Real Madrid  ...  67+3  67+3  67+3  67+3  67+3   \n",
       "4           74     Belgium  Real Madrid  ...  66+3  63+3  63+3  63+3  66+3   \n",
       "46          81      France  Real Madrid  ...  62+3  62+3  62+3  62+3  62+3   \n",
       "161         85      Serbia  Real Madrid  ...  55+2  53+2  53+2  53+2  55+2   \n",
       "\n",
       "       lb   lcb    cb   rcb    rb  \n",
       "100  70+3  66+3  66+3  66+3  70+3  \n",
       "106  62+3  57+3  57+3  57+3  62+3  \n",
       "4    61+3  49+3  49+3  49+3  61+3  \n",
       "46   58+3  54+3  54+3  54+3  58+3  \n",
       "161  51+2  47+2  47+2  47+2  51+2  \n",
       "\n",
       "[5 rows x 104 columns]"
      ]
     },
     "execution_count": 18,
     "metadata": {},
     "output_type": "execute_result"
    }
   ],
   "source": [
    "df[df['club'] == 'Real Madrid'].sort_values('shooting', ascending=False).head(5)"
   ]
  },
  {
   "attachments": {},
   "cell_type": "markdown",
   "metadata": {},
   "source": [
    "## 17. Show defending records of top 5 players from Real Madrid"
   ]
  },
  {
   "cell_type": "code",
   "execution_count": 19,
   "metadata": {},
   "outputs": [
    {
     "data": {
      "text/html": [
       "<div>\n",
       "<style scoped>\n",
       "    .dataframe tbody tr th:only-of-type {\n",
       "        vertical-align: middle;\n",
       "    }\n",
       "\n",
       "    .dataframe tbody tr th {\n",
       "        vertical-align: top;\n",
       "    }\n",
       "\n",
       "    .dataframe thead th {\n",
       "        text-align: right;\n",
       "    }\n",
       "</style>\n",
       "<table border=\"1\" class=\"dataframe\">\n",
       "  <thead>\n",
       "    <tr style=\"text-align: right;\">\n",
       "      <th></th>\n",
       "      <th>sofifa_id</th>\n",
       "      <th>player_url</th>\n",
       "      <th>short_name</th>\n",
       "      <th>long_name</th>\n",
       "      <th>age</th>\n",
       "      <th>dob</th>\n",
       "      <th>height_cm</th>\n",
       "      <th>weight_kg</th>\n",
       "      <th>nationality</th>\n",
       "      <th>club</th>\n",
       "      <th>...</th>\n",
       "      <th>lwb</th>\n",
       "      <th>ldm</th>\n",
       "      <th>cdm</th>\n",
       "      <th>rdm</th>\n",
       "      <th>rwb</th>\n",
       "      <th>lb</th>\n",
       "      <th>lcb</th>\n",
       "      <th>cb</th>\n",
       "      <th>rcb</th>\n",
       "      <th>rb</th>\n",
       "    </tr>\n",
       "  </thead>\n",
       "  <tbody>\n",
       "    <tr>\n",
       "      <th>18</th>\n",
       "      <td>155862</td>\n",
       "      <td>https://sofifa.com/player/155862/sergio-ramos-...</td>\n",
       "      <td>Sergio Ramos</td>\n",
       "      <td>Sergio Ramos García</td>\n",
       "      <td>33</td>\n",
       "      <td>1986-03-30</td>\n",
       "      <td>184</td>\n",
       "      <td>82</td>\n",
       "      <td>Spain</td>\n",
       "      <td>Real Madrid</td>\n",
       "      <td>...</td>\n",
       "      <td>80+3</td>\n",
       "      <td>84+3</td>\n",
       "      <td>84+3</td>\n",
       "      <td>84+3</td>\n",
       "      <td>80+3</td>\n",
       "      <td>82+3</td>\n",
       "      <td>87+3</td>\n",
       "      <td>87+3</td>\n",
       "      <td>87+3</td>\n",
       "      <td>82+3</td>\n",
       "    </tr>\n",
       "    <tr>\n",
       "      <th>42</th>\n",
       "      <td>200145</td>\n",
       "      <td>https://sofifa.com/player/200145/carlos-henriq...</td>\n",
       "      <td>Casemiro</td>\n",
       "      <td>Carlos Henrique Venancio Casimiro</td>\n",
       "      <td>27</td>\n",
       "      <td>1992-02-23</td>\n",
       "      <td>185</td>\n",
       "      <td>84</td>\n",
       "      <td>Brazil</td>\n",
       "      <td>Real Madrid</td>\n",
       "      <td>...</td>\n",
       "      <td>78+3</td>\n",
       "      <td>84+3</td>\n",
       "      <td>84+3</td>\n",
       "      <td>84+3</td>\n",
       "      <td>78+3</td>\n",
       "      <td>79+3</td>\n",
       "      <td>84+3</td>\n",
       "      <td>84+3</td>\n",
       "      <td>84+3</td>\n",
       "      <td>79+3</td>\n",
       "    </tr>\n",
       "    <tr>\n",
       "      <th>76</th>\n",
       "      <td>201535</td>\n",
       "      <td>https://sofifa.com/player/201535/raphael-varan...</td>\n",
       "      <td>R. Varane</td>\n",
       "      <td>Raphaël Varane</td>\n",
       "      <td>26</td>\n",
       "      <td>1993-04-25</td>\n",
       "      <td>191</td>\n",
       "      <td>81</td>\n",
       "      <td>France</td>\n",
       "      <td>Real Madrid</td>\n",
       "      <td>...</td>\n",
       "      <td>74+3</td>\n",
       "      <td>79+3</td>\n",
       "      <td>79+3</td>\n",
       "      <td>79+3</td>\n",
       "      <td>74+3</td>\n",
       "      <td>77+3</td>\n",
       "      <td>83+3</td>\n",
       "      <td>83+3</td>\n",
       "      <td>83+3</td>\n",
       "      <td>77+3</td>\n",
       "    </tr>\n",
       "    <tr>\n",
       "      <th>94</th>\n",
       "      <td>204963</td>\n",
       "      <td>https://sofifa.com/player/204963/daniel-carvaj...</td>\n",
       "      <td>Carvajal</td>\n",
       "      <td>Daniel Carvajal Ramos</td>\n",
       "      <td>27</td>\n",
       "      <td>1992-01-11</td>\n",
       "      <td>173</td>\n",
       "      <td>73</td>\n",
       "      <td>Spain</td>\n",
       "      <td>Real Madrid</td>\n",
       "      <td>...</td>\n",
       "      <td>83+3</td>\n",
       "      <td>82+3</td>\n",
       "      <td>82+3</td>\n",
       "      <td>82+3</td>\n",
       "      <td>83+3</td>\n",
       "      <td>83+3</td>\n",
       "      <td>80+3</td>\n",
       "      <td>80+3</td>\n",
       "      <td>80+3</td>\n",
       "      <td>83+3</td>\n",
       "    </tr>\n",
       "    <tr>\n",
       "      <th>332</th>\n",
       "      <td>240130</td>\n",
       "      <td>https://sofifa.com/player/240130/eder-gabriel-...</td>\n",
       "      <td>Éder Militão</td>\n",
       "      <td>Éder Gabriel Militão</td>\n",
       "      <td>21</td>\n",
       "      <td>1998-01-18</td>\n",
       "      <td>186</td>\n",
       "      <td>78</td>\n",
       "      <td>Brazil</td>\n",
       "      <td>Real Madrid</td>\n",
       "      <td>...</td>\n",
       "      <td>78+2</td>\n",
       "      <td>76+2</td>\n",
       "      <td>76+2</td>\n",
       "      <td>76+2</td>\n",
       "      <td>78+2</td>\n",
       "      <td>78+2</td>\n",
       "      <td>79+2</td>\n",
       "      <td>79+2</td>\n",
       "      <td>79+2</td>\n",
       "      <td>78+2</td>\n",
       "    </tr>\n",
       "  </tbody>\n",
       "</table>\n",
       "<p>5 rows × 104 columns</p>\n",
       "</div>"
      ],
      "text/plain": [
       "     sofifa_id                                         player_url  \\\n",
       "18      155862  https://sofifa.com/player/155862/sergio-ramos-...   \n",
       "42      200145  https://sofifa.com/player/200145/carlos-henriq...   \n",
       "76      201535  https://sofifa.com/player/201535/raphael-varan...   \n",
       "94      204963  https://sofifa.com/player/204963/daniel-carvaj...   \n",
       "332     240130  https://sofifa.com/player/240130/eder-gabriel-...   \n",
       "\n",
       "       short_name                          long_name  age         dob  \\\n",
       "18   Sergio Ramos                Sergio Ramos García   33  1986-03-30   \n",
       "42       Casemiro  Carlos Henrique Venancio Casimiro   27  1992-02-23   \n",
       "76      R. Varane                     Raphaël Varane   26  1993-04-25   \n",
       "94       Carvajal              Daniel Carvajal Ramos   27  1992-01-11   \n",
       "332  Éder Militão               Éder Gabriel Militão   21  1998-01-18   \n",
       "\n",
       "     height_cm  weight_kg nationality         club  ...   lwb   ldm   cdm  \\\n",
       "18         184         82       Spain  Real Madrid  ...  80+3  84+3  84+3   \n",
       "42         185         84      Brazil  Real Madrid  ...  78+3  84+3  84+3   \n",
       "76         191         81      France  Real Madrid  ...  74+3  79+3  79+3   \n",
       "94         173         73       Spain  Real Madrid  ...  83+3  82+3  82+3   \n",
       "332        186         78      Brazil  Real Madrid  ...  78+2  76+2  76+2   \n",
       "\n",
       "      rdm   rwb    lb   lcb    cb   rcb    rb  \n",
       "18   84+3  80+3  82+3  87+3  87+3  87+3  82+3  \n",
       "42   84+3  78+3  79+3  84+3  84+3  84+3  79+3  \n",
       "76   79+3  74+3  77+3  83+3  83+3  83+3  77+3  \n",
       "94   82+3  83+3  83+3  80+3  80+3  80+3  83+3  \n",
       "332  76+2  78+2  78+2  79+2  79+2  79+2  78+2  \n",
       "\n",
       "[5 rows x 104 columns]"
      ]
     },
     "execution_count": 19,
     "metadata": {},
     "output_type": "execute_result"
    }
   ],
   "source": [
    "df[df['club'] == 'Real Madrid'].sort_values('defending', ascending=False).head(5)"
   ]
  },
  {
   "attachments": {},
   "cell_type": "markdown",
   "metadata": {},
   "source": [
    "## 18. Show nationality records of top 5 players from Real Madrid"
   ]
  },
  {
   "cell_type": "code",
   "execution_count": 20,
   "metadata": {},
   "outputs": [
    {
     "data": {
      "text/html": [
       "<div>\n",
       "<style scoped>\n",
       "    .dataframe tbody tr th:only-of-type {\n",
       "        vertical-align: middle;\n",
       "    }\n",
       "\n",
       "    .dataframe tbody tr th {\n",
       "        vertical-align: top;\n",
       "    }\n",
       "\n",
       "    .dataframe thead th {\n",
       "        text-align: right;\n",
       "    }\n",
       "</style>\n",
       "<table border=\"1\" class=\"dataframe\">\n",
       "  <thead>\n",
       "    <tr style=\"text-align: right;\">\n",
       "      <th></th>\n",
       "      <th>short_name</th>\n",
       "      <th>nationality</th>\n",
       "    </tr>\n",
       "  </thead>\n",
       "  <tbody>\n",
       "    <tr>\n",
       "      <th>4</th>\n",
       "      <td>E. Hazard</td>\n",
       "      <td>Belgium</td>\n",
       "    </tr>\n",
       "    <tr>\n",
       "      <th>8</th>\n",
       "      <td>L. Modrić</td>\n",
       "      <td>Croatia</td>\n",
       "    </tr>\n",
       "    <tr>\n",
       "      <th>18</th>\n",
       "      <td>Sergio Ramos</td>\n",
       "      <td>Spain</td>\n",
       "    </tr>\n",
       "    <tr>\n",
       "      <th>28</th>\n",
       "      <td>T. Courtois</td>\n",
       "      <td>Belgium</td>\n",
       "    </tr>\n",
       "    <tr>\n",
       "      <th>36</th>\n",
       "      <td>T. Kroos</td>\n",
       "      <td>Germany</td>\n",
       "    </tr>\n",
       "  </tbody>\n",
       "</table>\n",
       "</div>"
      ],
      "text/plain": [
       "      short_name nationality\n",
       "4      E. Hazard     Belgium\n",
       "8      L. Modrić     Croatia\n",
       "18  Sergio Ramos       Spain\n",
       "28   T. Courtois     Belgium\n",
       "36      T. Kroos     Germany"
      ]
     },
     "execution_count": 20,
     "metadata": {},
     "output_type": "execute_result"
    }
   ],
   "source": [
    "df[df['club'] == 'Real Madrid'].sort_values('overall', ascending=False)[['short_name', 'nationality']].head(5)"
   ]
  },
  {
   "attachments": {},
   "cell_type": "markdown",
   "metadata": {},
   "source": [
    "## Extra: Choropleth Map of FIFA Players by Country"
   ]
  },
  {
   "cell_type": "code",
   "execution_count": 27,
   "metadata": {},
   "outputs": [
    {
     "data": {
      "text/html": [
       "<div>\n",
       "<style scoped>\n",
       "    .dataframe tbody tr th:only-of-type {\n",
       "        vertical-align: middle;\n",
       "    }\n",
       "\n",
       "    .dataframe tbody tr th {\n",
       "        vertical-align: top;\n",
       "    }\n",
       "\n",
       "    .dataframe thead th {\n",
       "        text-align: right;\n",
       "    }\n",
       "</style>\n",
       "<table border=\"1\" class=\"dataframe\">\n",
       "  <thead>\n",
       "    <tr style=\"text-align: right;\">\n",
       "      <th></th>\n",
       "      <th>country</th>\n",
       "      <th>num_players</th>\n",
       "    </tr>\n",
       "  </thead>\n",
       "  <tbody>\n",
       "    <tr>\n",
       "      <th>0</th>\n",
       "      <td>Afghanistan</td>\n",
       "      <td>2</td>\n",
       "    </tr>\n",
       "    <tr>\n",
       "      <th>1</th>\n",
       "      <td>Albania</td>\n",
       "      <td>43</td>\n",
       "    </tr>\n",
       "    <tr>\n",
       "      <th>2</th>\n",
       "      <td>Algeria</td>\n",
       "      <td>50</td>\n",
       "    </tr>\n",
       "    <tr>\n",
       "      <th>3</th>\n",
       "      <td>Angola</td>\n",
       "      <td>16</td>\n",
       "    </tr>\n",
       "    <tr>\n",
       "      <th>4</th>\n",
       "      <td>Antigua &amp; Barbuda</td>\n",
       "      <td>7</td>\n",
       "    </tr>\n",
       "  </tbody>\n",
       "</table>\n",
       "</div>"
      ],
      "text/plain": [
       "             country  num_players\n",
       "0        Afghanistan            2\n",
       "1            Albania           43\n",
       "2            Algeria           50\n",
       "3             Angola           16\n",
       "4  Antigua & Barbuda            7"
      ]
     },
     "execution_count": 27,
     "metadata": {},
     "output_type": "execute_result"
    }
   ],
   "source": [
    "# Extract and rename relevant data\n",
    "map_df = df[['nationality', 'short_name']] \\\n",
    "    .groupby('nationality').agg({'short_name': 'count'}) \\\n",
    "    .reset_index() \\\n",
    "    .rename(columns={'nationality': 'country', 'short_name': 'num_players'})\n",
    "    \n",
    "map_df.head(5)"
   ]
  },
  {
   "cell_type": "code",
   "execution_count": 22,
   "metadata": {},
   "outputs": [],
   "source": [
    "# Dict of names to change to match official name in pycountries lib\n",
    "switch_names = {\n",
    "    'FYR Macedonia': 'North Macedonia',\n",
    "    'Central African Rep.': 'Central African Republic',\n",
    "    'China PR': 'China',\n",
    "    'Chinese Taipei': 'Taiwan, Province of China',\n",
    "    'DR Congo': 'Congo, The Democratic Republic of the',\n",
    "    'Tanzania': 'Tanzania, United Republic of',\n",
    "    'Korea DPR': \"Korea, Democratic People's Republic of\",\n",
    "    'Korea Republic': 'Korea, Republic of',\n",
    "    'Bolivia': 'Bolivia, Plurinational State of',\n",
    "    'England': 'United Kingdom',\n",
    "    'Russia': 'Russian Federation',\n",
    "    'Venezuela': 'Venezuela, Bolivarian Republic of',\n",
    "    'Iran': 'Iran, Islamic Republic of',\n",
    "    'Czech Republic': 'Czechia',\n",
    "    'Vietnam': 'Viet Nam'\n",
    "}"
   ]
  },
  {
   "cell_type": "code",
   "execution_count": 23,
   "metadata": {},
   "outputs": [
    {
     "data": {
      "text/html": [
       "<div>\n",
       "<style scoped>\n",
       "    .dataframe tbody tr th:only-of-type {\n",
       "        vertical-align: middle;\n",
       "    }\n",
       "\n",
       "    .dataframe tbody tr th {\n",
       "        vertical-align: top;\n",
       "    }\n",
       "\n",
       "    .dataframe thead th {\n",
       "        text-align: right;\n",
       "    }\n",
       "</style>\n",
       "<table border=\"1\" class=\"dataframe\">\n",
       "  <thead>\n",
       "    <tr style=\"text-align: right;\">\n",
       "      <th></th>\n",
       "      <th>country</th>\n",
       "      <th>num_players</th>\n",
       "    </tr>\n",
       "  </thead>\n",
       "  <tbody>\n",
       "    <tr>\n",
       "      <th>0</th>\n",
       "      <td>Afghanistan</td>\n",
       "      <td>2</td>\n",
       "    </tr>\n",
       "    <tr>\n",
       "      <th>1</th>\n",
       "      <td>Albania</td>\n",
       "      <td>43</td>\n",
       "    </tr>\n",
       "    <tr>\n",
       "      <th>2</th>\n",
       "      <td>Algeria</td>\n",
       "      <td>50</td>\n",
       "    </tr>\n",
       "    <tr>\n",
       "      <th>3</th>\n",
       "      <td>Angola</td>\n",
       "      <td>16</td>\n",
       "    </tr>\n",
       "    <tr>\n",
       "      <th>4</th>\n",
       "      <td>Antigua &amp; Barbuda</td>\n",
       "      <td>7</td>\n",
       "    </tr>\n",
       "    <tr>\n",
       "      <th>...</th>\n",
       "      <td>...</td>\n",
       "      <td>...</td>\n",
       "    </tr>\n",
       "    <tr>\n",
       "      <th>157</th>\n",
       "      <td>Venezuela, Bolivarian Republic of</td>\n",
       "      <td>66</td>\n",
       "    </tr>\n",
       "    <tr>\n",
       "      <th>158</th>\n",
       "      <td>Viet Nam</td>\n",
       "      <td>1</td>\n",
       "    </tr>\n",
       "    <tr>\n",
       "      <th>159</th>\n",
       "      <td>Wales</td>\n",
       "      <td>117</td>\n",
       "    </tr>\n",
       "    <tr>\n",
       "      <th>160</th>\n",
       "      <td>Zambia</td>\n",
       "      <td>10</td>\n",
       "    </tr>\n",
       "    <tr>\n",
       "      <th>161</th>\n",
       "      <td>Zimbabwe</td>\n",
       "      <td>12</td>\n",
       "    </tr>\n",
       "  </tbody>\n",
       "</table>\n",
       "<p>162 rows × 2 columns</p>\n",
       "</div>"
      ],
      "text/plain": [
       "                               country  num_players\n",
       "0                          Afghanistan            2\n",
       "1                              Albania           43\n",
       "2                              Algeria           50\n",
       "3                               Angola           16\n",
       "4                    Antigua & Barbuda            7\n",
       "..                                 ...          ...\n",
       "157  Venezuela, Bolivarian Republic of           66\n",
       "158                           Viet Nam            1\n",
       "159                              Wales          117\n",
       "160                             Zambia           10\n",
       "161                           Zimbabwe           12\n",
       "\n",
       "[162 rows x 2 columns]"
      ]
     },
     "execution_count": 23,
     "metadata": {},
     "output_type": "execute_result"
    }
   ],
   "source": [
    "# Apply name changes\n",
    "updated_map_df = map_df\n",
    "updated_map_df['country'] = updated_map_df['country'].map(lambda x: switch_names[x] if x in switch_names else x)\n",
    "updated_map_df"
   ]
  },
  {
   "cell_type": "code",
   "execution_count": 29,
   "metadata": {},
   "outputs": [
    {
     "data": {
      "text/html": [
       "<div>\n",
       "<style scoped>\n",
       "    .dataframe tbody tr th:only-of-type {\n",
       "        vertical-align: middle;\n",
       "    }\n",
       "\n",
       "    .dataframe tbody tr th {\n",
       "        vertical-align: top;\n",
       "    }\n",
       "\n",
       "    .dataframe thead th {\n",
       "        text-align: right;\n",
       "    }\n",
       "</style>\n",
       "<table border=\"1\" class=\"dataframe\">\n",
       "  <thead>\n",
       "    <tr style=\"text-align: right;\">\n",
       "      <th></th>\n",
       "      <th>country</th>\n",
       "      <th>iso-code</th>\n",
       "    </tr>\n",
       "  </thead>\n",
       "  <tbody>\n",
       "    <tr>\n",
       "      <th>0</th>\n",
       "      <td>Afghanistan</td>\n",
       "      <td>AFG</td>\n",
       "    </tr>\n",
       "    <tr>\n",
       "      <th>1</th>\n",
       "      <td>Angola</td>\n",
       "      <td>AGO</td>\n",
       "    </tr>\n",
       "    <tr>\n",
       "      <th>2</th>\n",
       "      <td>Albania</td>\n",
       "      <td>ALB</td>\n",
       "    </tr>\n",
       "    <tr>\n",
       "      <th>3</th>\n",
       "      <td>United Arab Emirates</td>\n",
       "      <td>ARE</td>\n",
       "    </tr>\n",
       "    <tr>\n",
       "      <th>4</th>\n",
       "      <td>Argentina</td>\n",
       "      <td>ARG</td>\n",
       "    </tr>\n",
       "  </tbody>\n",
       "</table>\n",
       "</div>"
      ],
      "text/plain": [
       "                country iso-code\n",
       "0           Afghanistan      AFG\n",
       "1                Angola      AGO\n",
       "2               Albania      ALB\n",
       "3  United Arab Emirates      ARE\n",
       "4             Argentina      ARG"
      ]
     },
     "execution_count": 29,
     "metadata": {},
     "output_type": "execute_result"
    }
   ],
   "source": [
    "# Extract relevant ISO codes and load them into dataframe\n",
    "needed_codes = [c for c in list(pycountry.countries) if c.name in list(updated_map_df['country'].values)]\n",
    "country_codes = {'country': [country_obj.name for country_obj in needed_codes],\n",
    "                 'iso-code': [country_obj.alpha_3 for country_obj in needed_codes]}\n",
    "needed_codes_df = pd.DataFrame(country_codes)\n",
    "needed_codes_df.head(5)"
   ]
  },
  {
   "cell_type": "code",
   "execution_count": 31,
   "metadata": {},
   "outputs": [
    {
     "data": {
      "text/html": [
       "<div>\n",
       "<style scoped>\n",
       "    .dataframe tbody tr th:only-of-type {\n",
       "        vertical-align: middle;\n",
       "    }\n",
       "\n",
       "    .dataframe tbody tr th {\n",
       "        vertical-align: top;\n",
       "    }\n",
       "\n",
       "    .dataframe thead th {\n",
       "        text-align: right;\n",
       "    }\n",
       "</style>\n",
       "<table border=\"1\" class=\"dataframe\">\n",
       "  <thead>\n",
       "    <tr style=\"text-align: right;\">\n",
       "      <th></th>\n",
       "      <th>country</th>\n",
       "      <th>num_players</th>\n",
       "      <th>iso-code</th>\n",
       "    </tr>\n",
       "  </thead>\n",
       "  <tbody>\n",
       "    <tr>\n",
       "      <th>0</th>\n",
       "      <td>Afghanistan</td>\n",
       "      <td>2</td>\n",
       "      <td>AFG</td>\n",
       "    </tr>\n",
       "    <tr>\n",
       "      <th>1</th>\n",
       "      <td>Albania</td>\n",
       "      <td>43</td>\n",
       "      <td>ALB</td>\n",
       "    </tr>\n",
       "    <tr>\n",
       "      <th>2</th>\n",
       "      <td>Algeria</td>\n",
       "      <td>50</td>\n",
       "      <td>DZA</td>\n",
       "    </tr>\n",
       "    <tr>\n",
       "      <th>3</th>\n",
       "      <td>Angola</td>\n",
       "      <td>16</td>\n",
       "      <td>AGO</td>\n",
       "    </tr>\n",
       "    <tr>\n",
       "      <th>4</th>\n",
       "      <td>Argentina</td>\n",
       "      <td>886</td>\n",
       "      <td>ARG</td>\n",
       "    </tr>\n",
       "  </tbody>\n",
       "</table>\n",
       "</div>"
      ],
      "text/plain": [
       "       country  num_players iso-code\n",
       "0  Afghanistan            2      AFG\n",
       "1      Albania           43      ALB\n",
       "2      Algeria           50      DZA\n",
       "3       Angola           16      AGO\n",
       "4    Argentina          886      ARG"
      ]
     },
     "execution_count": 31,
     "metadata": {},
     "output_type": "execute_result"
    }
   ],
   "source": [
    "# Merge FIFA and ISO data\n",
    "new_map = updated_map_df.merge(needed_codes_df, on='country')\n",
    "new_map.head(5)"
   ]
  },
  {
   "cell_type": "code",
   "execution_count": 32,
   "metadata": {},
   "outputs": [
    {
     "data": {
      "application/vnd.plotly.v1+json": {
       "config": {
        "plotlyServerURL": "https://plot.ly"
       },
       "data": [
        {
         "colorbar": {
          "title": {
           "text": "Number of Players"
          }
         },
         "colorscale": [
          [
           0,
           "rgb(247,251,255)"
          ],
          [
           0.125,
           "rgb(222,235,247)"
          ],
          [
           0.25,
           "rgb(198,219,239)"
          ],
          [
           0.375,
           "rgb(158,202,225)"
          ],
          [
           0.5,
           "rgb(107,174,214)"
          ],
          [
           0.625,
           "rgb(66,146,198)"
          ],
          [
           0.75,
           "rgb(33,113,181)"
          ],
          [
           0.875,
           "rgb(8,81,156)"
          ],
          [
           1,
           "rgb(8,48,107)"
          ]
         ],
         "locations": [
          "AFG",
          "ALB",
          "DZA",
          "AGO",
          "ARG",
          "ARM",
          "AUS",
          "AUT",
          "AZE",
          "BHR",
          "BRB",
          "BEL",
          "BLZ",
          "BEN",
          "BMU",
          "BOL",
          "BRA",
          "BGR",
          "BFA",
          "BDI",
          "CMR",
          "CAN",
          "CAF",
          "TCD",
          "CHL",
          "CHN",
          "TWN",
          "COL",
          "COM",
          "COG",
          "CRI",
          "HRV",
          "CUB",
          "CYP",
          "CZE",
          "COD",
          "DNK",
          "DOM",
          "ECU",
          "EGY",
          "SLV",
          "GBR",
          "GNQ",
          "ERI",
          "EST",
          "ETH",
          "MKD",
          "FRO",
          "FIN",
          "FRA",
          "GAB",
          "GMB",
          "GEO",
          "DEU",
          "GHA",
          "GIB",
          "GRC",
          "GRD",
          "GUM",
          "GTM",
          "GIN",
          "GUY",
          "HTI",
          "HND",
          "HKG",
          "HUN",
          "ISL",
          "IND",
          "IDN",
          "IRN",
          "IRQ",
          "ISR",
          "ITA",
          "JAM",
          "JPN",
          "JOR",
          "KAZ",
          "KEN",
          "PRK",
          "KOR",
          "LVA",
          "LBN",
          "LBR",
          "LBY",
          "LIE",
          "LTU",
          "LUX",
          "MDG",
          "MWI",
          "MLI",
          "MLT",
          "MRT",
          "MUS",
          "MEX",
          "MNE",
          "MSR",
          "MAR",
          "MOZ",
          "NAM",
          "NLD",
          "NCL",
          "NZL",
          "NER",
          "NGA",
          "NOR",
          "PAN",
          "PRY",
          "PER",
          "PHL",
          "POL",
          "PRT",
          "PRI",
          "ROU",
          "RUS",
          "RWA",
          "SAU",
          "SEN",
          "SRB",
          "SLE",
          "SVK",
          "SVN",
          "ZAF",
          "SSD",
          "ESP",
          "SDN",
          "SUR",
          "SWE",
          "CHE",
          "TZA",
          "THA",
          "TGO",
          "TUN",
          "TUR",
          "UGA",
          "UKR",
          "ARE",
          "USA",
          "URY",
          "UZB",
          "VEN",
          "VNM",
          "ZMB",
          "ZWE"
         ],
         "marker": {
          "line": {
           "width": 0.5
          }
         },
         "text": [
          "Afghanistan",
          "Albania",
          "Algeria",
          "Angola",
          "Argentina",
          "Armenia",
          "Australia",
          "Austria",
          "Azerbaijan",
          "Bahrain",
          "Barbados",
          "Belgium",
          "Belize",
          "Benin",
          "Bermuda",
          "Bolivia, Plurinational State of",
          "Brazil",
          "Bulgaria",
          "Burkina Faso",
          "Burundi",
          "Cameroon",
          "Canada",
          "Central African Republic",
          "Chad",
          "Chile",
          "China",
          "Taiwan, Province of China",
          "Colombia",
          "Comoros",
          "Congo",
          "Costa Rica",
          "Croatia",
          "Cuba",
          "Cyprus",
          "Czechia",
          "Congo, The Democratic Republic of the",
          "Denmark",
          "Dominican Republic",
          "Ecuador",
          "Egypt",
          "El Salvador",
          "United Kingdom",
          "Equatorial Guinea",
          "Eritrea",
          "Estonia",
          "Ethiopia",
          "North Macedonia",
          "Faroe Islands",
          "Finland",
          "France",
          "Gabon",
          "Gambia",
          "Georgia",
          "Germany",
          "Ghana",
          "Gibraltar",
          "Greece",
          "Grenada",
          "Guam",
          "Guatemala",
          "Guinea",
          "Guyana",
          "Haiti",
          "Honduras",
          "Hong Kong",
          "Hungary",
          "Iceland",
          "India",
          "Indonesia",
          "Iran, Islamic Republic of",
          "Iraq",
          "Israel",
          "Italy",
          "Jamaica",
          "Japan",
          "Jordan",
          "Kazakhstan",
          "Kenya",
          "Korea, Democratic People's Republic of",
          "Korea, Republic of",
          "Latvia",
          "Lebanon",
          "Liberia",
          "Libya",
          "Liechtenstein",
          "Lithuania",
          "Luxembourg",
          "Madagascar",
          "Malawi",
          "Mali",
          "Malta",
          "Mauritania",
          "Mauritius",
          "Mexico",
          "Montenegro",
          "Montserrat",
          "Morocco",
          "Mozambique",
          "Namibia",
          "Netherlands",
          "New Caledonia",
          "New Zealand",
          "Niger",
          "Nigeria",
          "Norway",
          "Panama",
          "Paraguay",
          "Peru",
          "Philippines",
          "Poland",
          "Portugal",
          "Puerto Rico",
          "Romania",
          "Russian Federation",
          "Rwanda",
          "Saudi Arabia",
          "Senegal",
          "Serbia",
          "Sierra Leone",
          "Slovakia",
          "Slovenia",
          "South Africa",
          "South Sudan",
          "Spain",
          "Sudan",
          "Suriname",
          "Sweden",
          "Switzerland",
          "Tanzania, United Republic of",
          "Thailand",
          "Togo",
          "Tunisia",
          "Turkey",
          "Uganda",
          "Ukraine",
          "United Arab Emirates",
          "United States",
          "Uruguay",
          "Uzbekistan",
          "Venezuela, Bolivarian Republic of",
          "Viet Nam",
          "Zambia",
          "Zimbabwe"
         ],
         "type": "choropleth",
         "z": [
          2,
          43,
          50,
          16,
          886,
          8,
          196,
          319,
          6,
          1,
          1,
          268,
          1,
          15,
          3,
          23,
          824,
          41,
          16,
          4,
          78,
          61,
          4,
          1,
          370,
          373,
          1,
          591,
          9,
          18,
          30,
          126,
          4,
          11,
          102,
          54,
          345,
          4,
          53,
          30,
          4,
          1667,
          6,
          1,
          6,
          1,
          20,
          5,
          72,
          984,
          16,
          22,
          25,
          1216,
          130,
          1,
          96,
          2,
          1,
          2,
          35,
          4,
          7,
          13,
          1,
          35,
          46,
          23,
          1,
          15,
          5,
          16,
          732,
          29,
          453,
          1,
          2,
          7,
          4,
          322,
          6,
          3,
          1,
          4,
          2,
          10,
          9,
          8,
          1,
          55,
          2,
          5,
          1,
          340,
          33,
          3,
          94,
          4,
          2,
          416,
          2,
          35,
          3,
          126,
          350,
          12,
          80,
          35,
          2,
          324,
          344,
          1,
          287,
          81,
          2,
          310,
          127,
          139,
          10,
          54,
          61,
          72,
          1,
          1035,
          3,
          2,
          358,
          229,
          4,
          4,
          13,
          35,
          294,
          3,
          69,
          22,
          347,
          164,
          3,
          66,
          1,
          10,
          12
         ]
        }
       ],
       "layout": {
        "height": 640,
        "template": {
         "data": {
          "bar": [
           {
            "error_x": {
             "color": "#2a3f5f"
            },
            "error_y": {
             "color": "#2a3f5f"
            },
            "marker": {
             "line": {
              "color": "#E5ECF6",
              "width": 0.5
             },
             "pattern": {
              "fillmode": "overlay",
              "size": 10,
              "solidity": 0.2
             }
            },
            "type": "bar"
           }
          ],
          "barpolar": [
           {
            "marker": {
             "line": {
              "color": "#E5ECF6",
              "width": 0.5
             },
             "pattern": {
              "fillmode": "overlay",
              "size": 10,
              "solidity": 0.2
             }
            },
            "type": "barpolar"
           }
          ],
          "carpet": [
           {
            "aaxis": {
             "endlinecolor": "#2a3f5f",
             "gridcolor": "white",
             "linecolor": "white",
             "minorgridcolor": "white",
             "startlinecolor": "#2a3f5f"
            },
            "baxis": {
             "endlinecolor": "#2a3f5f",
             "gridcolor": "white",
             "linecolor": "white",
             "minorgridcolor": "white",
             "startlinecolor": "#2a3f5f"
            },
            "type": "carpet"
           }
          ],
          "choropleth": [
           {
            "colorbar": {
             "outlinewidth": 0,
             "ticks": ""
            },
            "type": "choropleth"
           }
          ],
          "contour": [
           {
            "colorbar": {
             "outlinewidth": 0,
             "ticks": ""
            },
            "colorscale": [
             [
              0,
              "#0d0887"
             ],
             [
              0.1111111111111111,
              "#46039f"
             ],
             [
              0.2222222222222222,
              "#7201a8"
             ],
             [
              0.3333333333333333,
              "#9c179e"
             ],
             [
              0.4444444444444444,
              "#bd3786"
             ],
             [
              0.5555555555555556,
              "#d8576b"
             ],
             [
              0.6666666666666666,
              "#ed7953"
             ],
             [
              0.7777777777777778,
              "#fb9f3a"
             ],
             [
              0.8888888888888888,
              "#fdca26"
             ],
             [
              1,
              "#f0f921"
             ]
            ],
            "type": "contour"
           }
          ],
          "contourcarpet": [
           {
            "colorbar": {
             "outlinewidth": 0,
             "ticks": ""
            },
            "type": "contourcarpet"
           }
          ],
          "heatmap": [
           {
            "colorbar": {
             "outlinewidth": 0,
             "ticks": ""
            },
            "colorscale": [
             [
              0,
              "#0d0887"
             ],
             [
              0.1111111111111111,
              "#46039f"
             ],
             [
              0.2222222222222222,
              "#7201a8"
             ],
             [
              0.3333333333333333,
              "#9c179e"
             ],
             [
              0.4444444444444444,
              "#bd3786"
             ],
             [
              0.5555555555555556,
              "#d8576b"
             ],
             [
              0.6666666666666666,
              "#ed7953"
             ],
             [
              0.7777777777777778,
              "#fb9f3a"
             ],
             [
              0.8888888888888888,
              "#fdca26"
             ],
             [
              1,
              "#f0f921"
             ]
            ],
            "type": "heatmap"
           }
          ],
          "heatmapgl": [
           {
            "colorbar": {
             "outlinewidth": 0,
             "ticks": ""
            },
            "colorscale": [
             [
              0,
              "#0d0887"
             ],
             [
              0.1111111111111111,
              "#46039f"
             ],
             [
              0.2222222222222222,
              "#7201a8"
             ],
             [
              0.3333333333333333,
              "#9c179e"
             ],
             [
              0.4444444444444444,
              "#bd3786"
             ],
             [
              0.5555555555555556,
              "#d8576b"
             ],
             [
              0.6666666666666666,
              "#ed7953"
             ],
             [
              0.7777777777777778,
              "#fb9f3a"
             ],
             [
              0.8888888888888888,
              "#fdca26"
             ],
             [
              1,
              "#f0f921"
             ]
            ],
            "type": "heatmapgl"
           }
          ],
          "histogram": [
           {
            "marker": {
             "pattern": {
              "fillmode": "overlay",
              "size": 10,
              "solidity": 0.2
             }
            },
            "type": "histogram"
           }
          ],
          "histogram2d": [
           {
            "colorbar": {
             "outlinewidth": 0,
             "ticks": ""
            },
            "colorscale": [
             [
              0,
              "#0d0887"
             ],
             [
              0.1111111111111111,
              "#46039f"
             ],
             [
              0.2222222222222222,
              "#7201a8"
             ],
             [
              0.3333333333333333,
              "#9c179e"
             ],
             [
              0.4444444444444444,
              "#bd3786"
             ],
             [
              0.5555555555555556,
              "#d8576b"
             ],
             [
              0.6666666666666666,
              "#ed7953"
             ],
             [
              0.7777777777777778,
              "#fb9f3a"
             ],
             [
              0.8888888888888888,
              "#fdca26"
             ],
             [
              1,
              "#f0f921"
             ]
            ],
            "type": "histogram2d"
           }
          ],
          "histogram2dcontour": [
           {
            "colorbar": {
             "outlinewidth": 0,
             "ticks": ""
            },
            "colorscale": [
             [
              0,
              "#0d0887"
             ],
             [
              0.1111111111111111,
              "#46039f"
             ],
             [
              0.2222222222222222,
              "#7201a8"
             ],
             [
              0.3333333333333333,
              "#9c179e"
             ],
             [
              0.4444444444444444,
              "#bd3786"
             ],
             [
              0.5555555555555556,
              "#d8576b"
             ],
             [
              0.6666666666666666,
              "#ed7953"
             ],
             [
              0.7777777777777778,
              "#fb9f3a"
             ],
             [
              0.8888888888888888,
              "#fdca26"
             ],
             [
              1,
              "#f0f921"
             ]
            ],
            "type": "histogram2dcontour"
           }
          ],
          "mesh3d": [
           {
            "colorbar": {
             "outlinewidth": 0,
             "ticks": ""
            },
            "type": "mesh3d"
           }
          ],
          "parcoords": [
           {
            "line": {
             "colorbar": {
              "outlinewidth": 0,
              "ticks": ""
             }
            },
            "type": "parcoords"
           }
          ],
          "pie": [
           {
            "automargin": true,
            "type": "pie"
           }
          ],
          "scatter": [
           {
            "fillpattern": {
             "fillmode": "overlay",
             "size": 10,
             "solidity": 0.2
            },
            "type": "scatter"
           }
          ],
          "scatter3d": [
           {
            "line": {
             "colorbar": {
              "outlinewidth": 0,
              "ticks": ""
             }
            },
            "marker": {
             "colorbar": {
              "outlinewidth": 0,
              "ticks": ""
             }
            },
            "type": "scatter3d"
           }
          ],
          "scattercarpet": [
           {
            "marker": {
             "colorbar": {
              "outlinewidth": 0,
              "ticks": ""
             }
            },
            "type": "scattercarpet"
           }
          ],
          "scattergeo": [
           {
            "marker": {
             "colorbar": {
              "outlinewidth": 0,
              "ticks": ""
             }
            },
            "type": "scattergeo"
           }
          ],
          "scattergl": [
           {
            "marker": {
             "colorbar": {
              "outlinewidth": 0,
              "ticks": ""
             }
            },
            "type": "scattergl"
           }
          ],
          "scattermapbox": [
           {
            "marker": {
             "colorbar": {
              "outlinewidth": 0,
              "ticks": ""
             }
            },
            "type": "scattermapbox"
           }
          ],
          "scatterpolar": [
           {
            "marker": {
             "colorbar": {
              "outlinewidth": 0,
              "ticks": ""
             }
            },
            "type": "scatterpolar"
           }
          ],
          "scatterpolargl": [
           {
            "marker": {
             "colorbar": {
              "outlinewidth": 0,
              "ticks": ""
             }
            },
            "type": "scatterpolargl"
           }
          ],
          "scatterternary": [
           {
            "marker": {
             "colorbar": {
              "outlinewidth": 0,
              "ticks": ""
             }
            },
            "type": "scatterternary"
           }
          ],
          "surface": [
           {
            "colorbar": {
             "outlinewidth": 0,
             "ticks": ""
            },
            "colorscale": [
             [
              0,
              "#0d0887"
             ],
             [
              0.1111111111111111,
              "#46039f"
             ],
             [
              0.2222222222222222,
              "#7201a8"
             ],
             [
              0.3333333333333333,
              "#9c179e"
             ],
             [
              0.4444444444444444,
              "#bd3786"
             ],
             [
              0.5555555555555556,
              "#d8576b"
             ],
             [
              0.6666666666666666,
              "#ed7953"
             ],
             [
              0.7777777777777778,
              "#fb9f3a"
             ],
             [
              0.8888888888888888,
              "#fdca26"
             ],
             [
              1,
              "#f0f921"
             ]
            ],
            "type": "surface"
           }
          ],
          "table": [
           {
            "cells": {
             "fill": {
              "color": "#EBF0F8"
             },
             "line": {
              "color": "white"
             }
            },
            "header": {
             "fill": {
              "color": "#C8D4E3"
             },
             "line": {
              "color": "white"
             }
            },
            "type": "table"
           }
          ]
         },
         "layout": {
          "annotationdefaults": {
           "arrowcolor": "#2a3f5f",
           "arrowhead": 0,
           "arrowwidth": 1
          },
          "autotypenumbers": "strict",
          "coloraxis": {
           "colorbar": {
            "outlinewidth": 0,
            "ticks": ""
           }
          },
          "colorscale": {
           "diverging": [
            [
             0,
             "#8e0152"
            ],
            [
             0.1,
             "#c51b7d"
            ],
            [
             0.2,
             "#de77ae"
            ],
            [
             0.3,
             "#f1b6da"
            ],
            [
             0.4,
             "#fde0ef"
            ],
            [
             0.5,
             "#f7f7f7"
            ],
            [
             0.6,
             "#e6f5d0"
            ],
            [
             0.7,
             "#b8e186"
            ],
            [
             0.8,
             "#7fbc41"
            ],
            [
             0.9,
             "#4d9221"
            ],
            [
             1,
             "#276419"
            ]
           ],
           "sequential": [
            [
             0,
             "#0d0887"
            ],
            [
             0.1111111111111111,
             "#46039f"
            ],
            [
             0.2222222222222222,
             "#7201a8"
            ],
            [
             0.3333333333333333,
             "#9c179e"
            ],
            [
             0.4444444444444444,
             "#bd3786"
            ],
            [
             0.5555555555555556,
             "#d8576b"
            ],
            [
             0.6666666666666666,
             "#ed7953"
            ],
            [
             0.7777777777777778,
             "#fb9f3a"
            ],
            [
             0.8888888888888888,
             "#fdca26"
            ],
            [
             1,
             "#f0f921"
            ]
           ],
           "sequentialminus": [
            [
             0,
             "#0d0887"
            ],
            [
             0.1111111111111111,
             "#46039f"
            ],
            [
             0.2222222222222222,
             "#7201a8"
            ],
            [
             0.3333333333333333,
             "#9c179e"
            ],
            [
             0.4444444444444444,
             "#bd3786"
            ],
            [
             0.5555555555555556,
             "#d8576b"
            ],
            [
             0.6666666666666666,
             "#ed7953"
            ],
            [
             0.7777777777777778,
             "#fb9f3a"
            ],
            [
             0.8888888888888888,
             "#fdca26"
            ],
            [
             1,
             "#f0f921"
            ]
           ]
          },
          "colorway": [
           "#636efa",
           "#EF553B",
           "#00cc96",
           "#ab63fa",
           "#FFA15A",
           "#19d3f3",
           "#FF6692",
           "#B6E880",
           "#FF97FF",
           "#FECB52"
          ],
          "font": {
           "color": "#2a3f5f"
          },
          "geo": {
           "bgcolor": "white",
           "lakecolor": "white",
           "landcolor": "#E5ECF6",
           "showlakes": true,
           "showland": true,
           "subunitcolor": "white"
          },
          "hoverlabel": {
           "align": "left"
          },
          "hovermode": "closest",
          "mapbox": {
           "style": "light"
          },
          "paper_bgcolor": "white",
          "plot_bgcolor": "#E5ECF6",
          "polar": {
           "angularaxis": {
            "gridcolor": "white",
            "linecolor": "white",
            "ticks": ""
           },
           "bgcolor": "#E5ECF6",
           "radialaxis": {
            "gridcolor": "white",
            "linecolor": "white",
            "ticks": ""
           }
          },
          "scene": {
           "xaxis": {
            "backgroundcolor": "#E5ECF6",
            "gridcolor": "white",
            "gridwidth": 2,
            "linecolor": "white",
            "showbackground": true,
            "ticks": "",
            "zerolinecolor": "white"
           },
           "yaxis": {
            "backgroundcolor": "#E5ECF6",
            "gridcolor": "white",
            "gridwidth": 2,
            "linecolor": "white",
            "showbackground": true,
            "ticks": "",
            "zerolinecolor": "white"
           },
           "zaxis": {
            "backgroundcolor": "#E5ECF6",
            "gridcolor": "white",
            "gridwidth": 2,
            "linecolor": "white",
            "showbackground": true,
            "ticks": "",
            "zerolinecolor": "white"
           }
          },
          "shapedefaults": {
           "line": {
            "color": "#2a3f5f"
           }
          },
          "ternary": {
           "aaxis": {
            "gridcolor": "white",
            "linecolor": "white",
            "ticks": ""
           },
           "baxis": {
            "gridcolor": "white",
            "linecolor": "white",
            "ticks": ""
           },
           "bgcolor": "#E5ECF6",
           "caxis": {
            "gridcolor": "white",
            "linecolor": "white",
            "ticks": ""
           }
          },
          "title": {
           "x": 0.05
          },
          "xaxis": {
           "automargin": true,
           "gridcolor": "white",
           "linecolor": "white",
           "ticks": "",
           "title": {
            "standoff": 15
           },
           "zerolinecolor": "white",
           "zerolinewidth": 2
          },
          "yaxis": {
           "automargin": true,
           "gridcolor": "white",
           "linecolor": "white",
           "ticks": "",
           "title": {
            "standoff": 15
           },
           "zerolinecolor": "white",
           "zerolinewidth": 2
          }
         }
        },
        "title": {
         "text": "<b>FIFA Players By Country</b>",
         "x": 0.5,
         "y": 0.9
        },
        "width": 1000
       }
      }
     },
     "metadata": {},
     "output_type": "display_data"
    }
   ],
   "source": [
    "# Look at this graph\n",
    "map_fig = go.Figure(data=go.Choropleth(\n",
    "    locations = new_map['iso-code'],\n",
    "    z = new_map['num_players'],\n",
    "    text = new_map['country'],\n",
    "    colorscale='blues',\n",
    "    marker_line_width=0.5,\n",
    "    colorbar_title = 'Number of Players'\n",
    "))\n",
    "\n",
    "map_fig.update_layout(\n",
    "    width=1000,\n",
    "    height=640,\n",
    "    title={\n",
    "    'text': '<b>FIFA Players By Country</b>',\n",
    "    'y': 0.9,\n",
    "    'x': 0.5\n",
    "    }\n",
    ")\n",
    "\n",
    "map_fig.show()"
   ]
  }
 ],
 "metadata": {
  "kernelspec": {
   "display_name": "Python 3",
   "language": "python",
   "name": "python3"
  },
  "language_info": {
   "codemirror_mode": {
    "name": "ipython",
    "version": 3
   },
   "file_extension": ".py",
   "mimetype": "text/x-python",
   "name": "python",
   "nbconvert_exporter": "python",
   "pygments_lexer": "ipython3",
   "version": "3.10.6"
  },
  "orig_nbformat": 4
 },
 "nbformat": 4,
 "nbformat_minor": 2
}
